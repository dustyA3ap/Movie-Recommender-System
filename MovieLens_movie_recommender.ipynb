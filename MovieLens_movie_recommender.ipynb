{
  "cells": [
    {
      "cell_type": "markdown",
      "metadata": {
        "id": "UypUQqL1cinv"
      },
      "source": [
        "## 下载数据集"
      ]
    },
    {
      "cell_type": "code",
      "execution_count": null,
      "metadata": {
        "id": "rXNQy75Ncinx"
      },
      "outputs": [],
      "source": [
        "import pandas as pd\n",
        "from sklearn.model_selection import train_test_split\n",
        "import numpy as np\n",
        "from collections import Counter\n",
        "import tensorflow as tf\n",
        "\n",
        "import os\n",
        "import pickle\n",
        "import re\n",
        "from tensorflow.python.ops import math_ops"
      ]
    },
    {
      "cell_type": "code",
      "execution_count": null,
      "metadata": {
        "id": "r4hSWO38cinw",
        "outputId": "58fc1565-ab72-4bcd-b8c5-709279364fe3",
        "colab": {
          "base_uri": "https://localhost:8080/",
          "height": 35
        }
      },
      "outputs": [
        {
          "output_type": "execute_result",
          "data": {
            "text/plain": [
              "'2.12.0'"
            ],
            "application/vnd.google.colaboratory.intrinsic+json": {
              "type": "string"
            }
          },
          "metadata": {},
          "execution_count": 16
        }
      ],
      "source": [
        "tf.__version__"
      ]
    },
    {
      "cell_type": "code",
      "execution_count": null,
      "metadata": {
        "id": "HjkAVeEMciny"
      },
      "outputs": [],
      "source": [
        "from urllib.request import urlretrieve\n",
        "from os.path import isfile, isdir\n",
        "from tqdm import tqdm\n",
        "import zipfile\n",
        "import hashlib\n",
        "\n",
        "def _unzip(save_path, _, database_name, data_path):\n",
        "    \"\"\"\n",
        "    Unzip wrapper with the same interface as _ungzip\n",
        "    :param save_path: The path of the gzip files\n",
        "    :param database_name: Name of database\n",
        "    :param data_path: Path to extract to\n",
        "    :param _: HACK - Used to have to same interface as _ungzip\n",
        "    \"\"\"\n",
        "    print('Extracting {}...'.format(database_name))\n",
        "    with zipfile.ZipFile(save_path) as zf:\n",
        "        zf.extractall(data_path)\n",
        "\n",
        "def download_extract(database_name, data_path):\n",
        "    \"\"\"\n",
        "    Download and extract database\n",
        "    :param database_name: Database name\n",
        "    \"\"\"\n",
        "    DATASET_ML1M = 'ml-1m'\n",
        "\n",
        "    if database_name == DATASET_ML1M:\n",
        "        url = 'http://files.grouplens.org/datasets/movielens/ml-1m.zip'\n",
        "        hash_code = 'c4d9eecfca2ab87c1945afe126590906'\n",
        "        extract_path = os.path.join(data_path, 'ml-1m')\n",
        "        save_path = os.path.join(data_path, 'ml-1m.zip')\n",
        "        extract_fn = _unzip\n",
        "\n",
        "    if os.path.exists(extract_path):\n",
        "        print('Found {} Data'.format(database_name))\n",
        "        return\n",
        "\n",
        "    if not os.path.exists(data_path):\n",
        "        os.makedirs(data_path)\n",
        "\n",
        "    if not os.path.exists(save_path):\n",
        "        with DLProgress(unit='B', unit_scale=True, miniters=1, desc='Downloading {}'.format(database_name)) as pbar:\n",
        "            urlretrieve(\n",
        "                url,\n",
        "                save_path,\n",
        "                pbar.hook)\n",
        "\n",
        "    assert hashlib.md5(open(save_path, 'rb').read()).hexdigest() == hash_code, \\\n",
        "        '{} file is corrupted.  Remove the file and try again.'.format(save_path)\n",
        "\n",
        "    os.makedirs(extract_path)\n",
        "    try:\n",
        "        extract_fn(save_path, extract_path, database_name, data_path)\n",
        "    except Exception as err:\n",
        "        shutil.rmtree(extract_path)  # Remove extraction folder if there is an error\n",
        "        raise err\n",
        "\n",
        "    print('Done.')\n",
        "    # Remove compressed data\n",
        "#     os.remove(save_path)\n",
        "\n",
        "class DLProgress(tqdm):\n",
        "    \"\"\"\n",
        "    Handle Progress Bar while Downloading\n",
        "    \"\"\"\n",
        "    last_block = 0\n",
        "\n",
        "    def hook(self, block_num=1, block_size=1, total_size=None):\n",
        "        \"\"\"\n",
        "        A hook function that will be called once on establishment of the network connection and\n",
        "        once after each block read thereafter.\n",
        "        :param block_num: A count of blocks transferred so far\n",
        "        :param block_size: Block size in bytes\n",
        "        :param total_size: The total size of the file. This may be -1 on older FTP servers which do not return\n",
        "                            a file size in response to a retrieval request.\n",
        "        \"\"\"\n",
        "        self.total = total_size\n",
        "        self.update((block_num - self.last_block) * block_size)\n",
        "        self.last_block = block_num"
      ]
    },
    {
      "cell_type": "code",
      "execution_count": null,
      "metadata": {
        "id": "gGE78VaQcinz",
        "outputId": "684eb40a-6008-4585-ef3a-1ae44a502743",
        "colab": {
          "base_uri": "https://localhost:8080/"
        }
      },
      "outputs": [
        {
          "output_type": "stream",
          "name": "stdout",
          "text": [
            "Found ml-1m Data\n"
          ]
        }
      ],
      "source": [
        "data_dir = './'\n",
        "download_extract('ml-1m', data_dir)"
      ]
    },
    {
      "cell_type": "markdown",
      "metadata": {
        "id": "egfOOAFdcinz"
      },
      "source": [
        "## 数据集信息"
      ]
    },
    {
      "cell_type": "markdown",
      "metadata": {
        "id": "yQLMPRGHcin0"
      },
      "source": [
        "### 用户数据\n",
        "数据中的格式：UserID::Gender::Age::Occupation::Zip-code\n",
        "\n",
        "- Gender is denoted by a \"M\" for male and \"F\" for female\n",
        "- Age is chosen from the following ranges:\n",
        "\n",
        "\t*  1:  \"Under 18\"\n",
        "\t* 18:  \"18-24\"\n",
        "\t* 25:  \"25-34\"\n",
        "\t* 35:  \"35-44\"\n",
        "\t* 45:  \"45-49\"\n",
        "\t* 50:  \"50-55\"\n",
        "\t* 56:  \"56+\"\n",
        "\n",
        "- Occupation is chosen from the following choices:\n",
        "\n",
        "\t*  0:  \"other\" or not specified\n",
        "\t*  1:  \"academic/educator\"\n",
        "\t*  2:  \"artist\"\n",
        "\t*  3:  \"clerical/admin\"\n",
        "\t*  4:  \"college/grad student\"\n",
        "\t*  5:  \"customer service\"\n",
        "\t*  6:  \"doctor/health care\"\n",
        "\t*  7:  \"executive/managerial\"\n",
        "\t*  8:  \"farmer\"\n",
        "\t*  9:  \"homemaker\"\n",
        "\t* 10:  \"K-12 student\"\n",
        "\t* 11:  \"lawyer\"\n",
        "\t* 12:  \"programmer\"\n",
        "\t* 13:  \"retired\"\n",
        "\t* 14:  \"sales/marketing\"\n",
        "\t* 15:  \"scientist\"\n",
        "\t* 16:  \"self-employed\"\n",
        "\t* 17:  \"technician/engineer\"\n",
        "\t* 18:  \"tradesman/craftsman\"\n",
        "\t* 19:  \"unemployed\"\n",
        "\t* 20:  \"writer\"\n",
        "\n"
      ]
    },
    {
      "cell_type": "code",
      "execution_count": null,
      "metadata": {
        "id": "KN8KR4Kgcin0",
        "outputId": "64a6f753-933e-4637-8133-e40de60c864f",
        "colab": {
          "base_uri": "https://localhost:8080/",
          "height": 206
        }
      },
      "outputs": [
        {
          "output_type": "execute_result",
          "data": {
            "text/plain": [
              "   UserID Gender  Age  OccupationID Zip-code\n",
              "0       1      F    1            10    48067\n",
              "1       2      M   56            16    70072\n",
              "2       3      M   25            15    55117\n",
              "3       4      M   45             7    02460\n",
              "4       5      M   25            20    55455"
            ],
            "text/html": [
              "\n",
              "  <div id=\"df-f84dbf8e-fe79-4f21-9d4a-de6e7fdfc3f3\">\n",
              "    <div class=\"colab-df-container\">\n",
              "      <div>\n",
              "<style scoped>\n",
              "    .dataframe tbody tr th:only-of-type {\n",
              "        vertical-align: middle;\n",
              "    }\n",
              "\n",
              "    .dataframe tbody tr th {\n",
              "        vertical-align: top;\n",
              "    }\n",
              "\n",
              "    .dataframe thead th {\n",
              "        text-align: right;\n",
              "    }\n",
              "</style>\n",
              "<table border=\"1\" class=\"dataframe\">\n",
              "  <thead>\n",
              "    <tr style=\"text-align: right;\">\n",
              "      <th></th>\n",
              "      <th>UserID</th>\n",
              "      <th>Gender</th>\n",
              "      <th>Age</th>\n",
              "      <th>OccupationID</th>\n",
              "      <th>Zip-code</th>\n",
              "    </tr>\n",
              "  </thead>\n",
              "  <tbody>\n",
              "    <tr>\n",
              "      <th>0</th>\n",
              "      <td>1</td>\n",
              "      <td>F</td>\n",
              "      <td>1</td>\n",
              "      <td>10</td>\n",
              "      <td>48067</td>\n",
              "    </tr>\n",
              "    <tr>\n",
              "      <th>1</th>\n",
              "      <td>2</td>\n",
              "      <td>M</td>\n",
              "      <td>56</td>\n",
              "      <td>16</td>\n",
              "      <td>70072</td>\n",
              "    </tr>\n",
              "    <tr>\n",
              "      <th>2</th>\n",
              "      <td>3</td>\n",
              "      <td>M</td>\n",
              "      <td>25</td>\n",
              "      <td>15</td>\n",
              "      <td>55117</td>\n",
              "    </tr>\n",
              "    <tr>\n",
              "      <th>3</th>\n",
              "      <td>4</td>\n",
              "      <td>M</td>\n",
              "      <td>45</td>\n",
              "      <td>7</td>\n",
              "      <td>02460</td>\n",
              "    </tr>\n",
              "    <tr>\n",
              "      <th>4</th>\n",
              "      <td>5</td>\n",
              "      <td>M</td>\n",
              "      <td>25</td>\n",
              "      <td>20</td>\n",
              "      <td>55455</td>\n",
              "    </tr>\n",
              "  </tbody>\n",
              "</table>\n",
              "</div>\n",
              "      <button class=\"colab-df-convert\" onclick=\"convertToInteractive('df-f84dbf8e-fe79-4f21-9d4a-de6e7fdfc3f3')\"\n",
              "              title=\"Convert this dataframe to an interactive table.\"\n",
              "              style=\"display:none;\">\n",
              "        \n",
              "  <svg xmlns=\"http://www.w3.org/2000/svg\" height=\"24px\"viewBox=\"0 0 24 24\"\n",
              "       width=\"24px\">\n",
              "    <path d=\"M0 0h24v24H0V0z\" fill=\"none\"/>\n",
              "    <path d=\"M18.56 5.44l.94 2.06.94-2.06 2.06-.94-2.06-.94-.94-2.06-.94 2.06-2.06.94zm-11 1L8.5 8.5l.94-2.06 2.06-.94-2.06-.94L8.5 2.5l-.94 2.06-2.06.94zm10 10l.94 2.06.94-2.06 2.06-.94-2.06-.94-.94-2.06-.94 2.06-2.06.94z\"/><path d=\"M17.41 7.96l-1.37-1.37c-.4-.4-.92-.59-1.43-.59-.52 0-1.04.2-1.43.59L10.3 9.45l-7.72 7.72c-.78.78-.78 2.05 0 2.83L4 21.41c.39.39.9.59 1.41.59.51 0 1.02-.2 1.41-.59l7.78-7.78 2.81-2.81c.8-.78.8-2.07 0-2.86zM5.41 20L4 18.59l7.72-7.72 1.47 1.35L5.41 20z\"/>\n",
              "  </svg>\n",
              "      </button>\n",
              "      \n",
              "  <style>\n",
              "    .colab-df-container {\n",
              "      display:flex;\n",
              "      flex-wrap:wrap;\n",
              "      gap: 12px;\n",
              "    }\n",
              "\n",
              "    .colab-df-convert {\n",
              "      background-color: #E8F0FE;\n",
              "      border: none;\n",
              "      border-radius: 50%;\n",
              "      cursor: pointer;\n",
              "      display: none;\n",
              "      fill: #1967D2;\n",
              "      height: 32px;\n",
              "      padding: 0 0 0 0;\n",
              "      width: 32px;\n",
              "    }\n",
              "\n",
              "    .colab-df-convert:hover {\n",
              "      background-color: #E2EBFA;\n",
              "      box-shadow: 0px 1px 2px rgba(60, 64, 67, 0.3), 0px 1px 3px 1px rgba(60, 64, 67, 0.15);\n",
              "      fill: #174EA6;\n",
              "    }\n",
              "\n",
              "    [theme=dark] .colab-df-convert {\n",
              "      background-color: #3B4455;\n",
              "      fill: #D2E3FC;\n",
              "    }\n",
              "\n",
              "    [theme=dark] .colab-df-convert:hover {\n",
              "      background-color: #434B5C;\n",
              "      box-shadow: 0px 1px 3px 1px rgba(0, 0, 0, 0.15);\n",
              "      filter: drop-shadow(0px 1px 2px rgba(0, 0, 0, 0.3));\n",
              "      fill: #FFFFFF;\n",
              "    }\n",
              "  </style>\n",
              "\n",
              "      <script>\n",
              "        const buttonEl =\n",
              "          document.querySelector('#df-f84dbf8e-fe79-4f21-9d4a-de6e7fdfc3f3 button.colab-df-convert');\n",
              "        buttonEl.style.display =\n",
              "          google.colab.kernel.accessAllowed ? 'block' : 'none';\n",
              "\n",
              "        async function convertToInteractive(key) {\n",
              "          const element = document.querySelector('#df-f84dbf8e-fe79-4f21-9d4a-de6e7fdfc3f3');\n",
              "          const dataTable =\n",
              "            await google.colab.kernel.invokeFunction('convertToInteractive',\n",
              "                                                     [key], {});\n",
              "          if (!dataTable) return;\n",
              "\n",
              "          const docLinkHtml = 'Like what you see? Visit the ' +\n",
              "            '<a target=\"_blank\" href=https://colab.research.google.com/notebooks/data_table.ipynb>data table notebook</a>'\n",
              "            + ' to learn more about interactive tables.';\n",
              "          element.innerHTML = '';\n",
              "          dataTable['output_type'] = 'display_data';\n",
              "          await google.colab.output.renderOutput(dataTable, element);\n",
              "          const docLink = document.createElement('div');\n",
              "          docLink.innerHTML = docLinkHtml;\n",
              "          element.appendChild(docLink);\n",
              "        }\n",
              "      </script>\n",
              "    </div>\n",
              "  </div>\n",
              "  "
            ]
          },
          "metadata": {},
          "execution_count": 19
        }
      ],
      "source": [
        "users_title = ['UserID', 'Gender', 'Age', 'OccupationID', 'Zip-code']\n",
        "users = pd.read_csv('./ml-1m/users.dat', sep='::', header=None, names=users_title, engine = 'python')\n",
        "users.head()"
      ]
    },
    {
      "cell_type": "markdown",
      "metadata": {
        "id": "mxI1oo2acin1"
      },
      "source": [
        "### 电影数据\n",
        "数据中的格式：MovieID::Title::Genres\n",
        "\n",
        "- Titles are identical to titles provided by the IMDB (including\n",
        "year of release)\n",
        "- Genres are pipe-separated and are selected from the following genres:\n",
        "\n",
        "\t* Action\n",
        "\t* Adventure\n",
        "\t* Animation\n",
        "\t* Children's\n",
        "\t* Comedy\n",
        "\t* Crime\n",
        "\t* Documentary\n",
        "\t* Drama\n",
        "\t* Fantasy\n",
        "\t* Film-Noir\n",
        "\t* Horror\n",
        "\t* Musical\n",
        "\t* Mystery\n",
        "\t* Romance\n",
        "\t* Sci-Fi\n",
        "\t* Thriller\n",
        "\t* War\n",
        "\t* Western\n"
      ]
    },
    {
      "cell_type": "code",
      "execution_count": null,
      "metadata": {
        "id": "pGO3_ucOcin1",
        "outputId": "1ce2d887-2f49-4f60-fcea-e9b8e6a5615e",
        "colab": {
          "base_uri": "https://localhost:8080/",
          "height": 206
        }
      },
      "outputs": [
        {
          "output_type": "execute_result",
          "data": {
            "text/plain": [
              "   MovieID                               Title                        Genres\n",
              "0        1                    Toy Story (1995)   Animation|Children's|Comedy\n",
              "1        2                      Jumanji (1995)  Adventure|Children's|Fantasy\n",
              "2        3             Grumpier Old Men (1995)                Comedy|Romance\n",
              "3        4            Waiting to Exhale (1995)                  Comedy|Drama\n",
              "4        5  Father of the Bride Part II (1995)                        Comedy"
            ],
            "text/html": [
              "\n",
              "  <div id=\"df-e42a03f4-8999-43f8-bde8-5f909b0cb434\">\n",
              "    <div class=\"colab-df-container\">\n",
              "      <div>\n",
              "<style scoped>\n",
              "    .dataframe tbody tr th:only-of-type {\n",
              "        vertical-align: middle;\n",
              "    }\n",
              "\n",
              "    .dataframe tbody tr th {\n",
              "        vertical-align: top;\n",
              "    }\n",
              "\n",
              "    .dataframe thead th {\n",
              "        text-align: right;\n",
              "    }\n",
              "</style>\n",
              "<table border=\"1\" class=\"dataframe\">\n",
              "  <thead>\n",
              "    <tr style=\"text-align: right;\">\n",
              "      <th></th>\n",
              "      <th>MovieID</th>\n",
              "      <th>Title</th>\n",
              "      <th>Genres</th>\n",
              "    </tr>\n",
              "  </thead>\n",
              "  <tbody>\n",
              "    <tr>\n",
              "      <th>0</th>\n",
              "      <td>1</td>\n",
              "      <td>Toy Story (1995)</td>\n",
              "      <td>Animation|Children's|Comedy</td>\n",
              "    </tr>\n",
              "    <tr>\n",
              "      <th>1</th>\n",
              "      <td>2</td>\n",
              "      <td>Jumanji (1995)</td>\n",
              "      <td>Adventure|Children's|Fantasy</td>\n",
              "    </tr>\n",
              "    <tr>\n",
              "      <th>2</th>\n",
              "      <td>3</td>\n",
              "      <td>Grumpier Old Men (1995)</td>\n",
              "      <td>Comedy|Romance</td>\n",
              "    </tr>\n",
              "    <tr>\n",
              "      <th>3</th>\n",
              "      <td>4</td>\n",
              "      <td>Waiting to Exhale (1995)</td>\n",
              "      <td>Comedy|Drama</td>\n",
              "    </tr>\n",
              "    <tr>\n",
              "      <th>4</th>\n",
              "      <td>5</td>\n",
              "      <td>Father of the Bride Part II (1995)</td>\n",
              "      <td>Comedy</td>\n",
              "    </tr>\n",
              "  </tbody>\n",
              "</table>\n",
              "</div>\n",
              "      <button class=\"colab-df-convert\" onclick=\"convertToInteractive('df-e42a03f4-8999-43f8-bde8-5f909b0cb434')\"\n",
              "              title=\"Convert this dataframe to an interactive table.\"\n",
              "              style=\"display:none;\">\n",
              "        \n",
              "  <svg xmlns=\"http://www.w3.org/2000/svg\" height=\"24px\"viewBox=\"0 0 24 24\"\n",
              "       width=\"24px\">\n",
              "    <path d=\"M0 0h24v24H0V0z\" fill=\"none\"/>\n",
              "    <path d=\"M18.56 5.44l.94 2.06.94-2.06 2.06-.94-2.06-.94-.94-2.06-.94 2.06-2.06.94zm-11 1L8.5 8.5l.94-2.06 2.06-.94-2.06-.94L8.5 2.5l-.94 2.06-2.06.94zm10 10l.94 2.06.94-2.06 2.06-.94-2.06-.94-.94-2.06-.94 2.06-2.06.94z\"/><path d=\"M17.41 7.96l-1.37-1.37c-.4-.4-.92-.59-1.43-.59-.52 0-1.04.2-1.43.59L10.3 9.45l-7.72 7.72c-.78.78-.78 2.05 0 2.83L4 21.41c.39.39.9.59 1.41.59.51 0 1.02-.2 1.41-.59l7.78-7.78 2.81-2.81c.8-.78.8-2.07 0-2.86zM5.41 20L4 18.59l7.72-7.72 1.47 1.35L5.41 20z\"/>\n",
              "  </svg>\n",
              "      </button>\n",
              "      \n",
              "  <style>\n",
              "    .colab-df-container {\n",
              "      display:flex;\n",
              "      flex-wrap:wrap;\n",
              "      gap: 12px;\n",
              "    }\n",
              "\n",
              "    .colab-df-convert {\n",
              "      background-color: #E8F0FE;\n",
              "      border: none;\n",
              "      border-radius: 50%;\n",
              "      cursor: pointer;\n",
              "      display: none;\n",
              "      fill: #1967D2;\n",
              "      height: 32px;\n",
              "      padding: 0 0 0 0;\n",
              "      width: 32px;\n",
              "    }\n",
              "\n",
              "    .colab-df-convert:hover {\n",
              "      background-color: #E2EBFA;\n",
              "      box-shadow: 0px 1px 2px rgba(60, 64, 67, 0.3), 0px 1px 3px 1px rgba(60, 64, 67, 0.15);\n",
              "      fill: #174EA6;\n",
              "    }\n",
              "\n",
              "    [theme=dark] .colab-df-convert {\n",
              "      background-color: #3B4455;\n",
              "      fill: #D2E3FC;\n",
              "    }\n",
              "\n",
              "    [theme=dark] .colab-df-convert:hover {\n",
              "      background-color: #434B5C;\n",
              "      box-shadow: 0px 1px 3px 1px rgba(0, 0, 0, 0.15);\n",
              "      filter: drop-shadow(0px 1px 2px rgba(0, 0, 0, 0.3));\n",
              "      fill: #FFFFFF;\n",
              "    }\n",
              "  </style>\n",
              "\n",
              "      <script>\n",
              "        const buttonEl =\n",
              "          document.querySelector('#df-e42a03f4-8999-43f8-bde8-5f909b0cb434 button.colab-df-convert');\n",
              "        buttonEl.style.display =\n",
              "          google.colab.kernel.accessAllowed ? 'block' : 'none';\n",
              "\n",
              "        async function convertToInteractive(key) {\n",
              "          const element = document.querySelector('#df-e42a03f4-8999-43f8-bde8-5f909b0cb434');\n",
              "          const dataTable =\n",
              "            await google.colab.kernel.invokeFunction('convertToInteractive',\n",
              "                                                     [key], {});\n",
              "          if (!dataTable) return;\n",
              "\n",
              "          const docLinkHtml = 'Like what you see? Visit the ' +\n",
              "            '<a target=\"_blank\" href=https://colab.research.google.com/notebooks/data_table.ipynb>data table notebook</a>'\n",
              "            + ' to learn more about interactive tables.';\n",
              "          element.innerHTML = '';\n",
              "          dataTable['output_type'] = 'display_data';\n",
              "          await google.colab.output.renderOutput(dataTable, element);\n",
              "          const docLink = document.createElement('div');\n",
              "          docLink.innerHTML = docLinkHtml;\n",
              "          element.appendChild(docLink);\n",
              "        }\n",
              "      </script>\n",
              "    </div>\n",
              "  </div>\n",
              "  "
            ]
          },
          "metadata": {},
          "execution_count": 21
        }
      ],
      "source": [
        "movies_title = ['MovieID', 'Title', 'Genres']\n",
        "movies = pd.read_csv('./ml-1m/movies.dat', sep='::', header=None, names=movies_title, engine = 'python', encoding='ISO-8859-1')\n",
        "movies.head()"
      ]
    },
    {
      "cell_type": "markdown",
      "metadata": {
        "id": "3X6ai_DMcin1"
      },
      "source": [
        "### 评分数据\n",
        "数据中的格式：UserID::MovieID::Rating::Timestamp\n",
        "\n",
        "- UserIDs range between 1 and 6040 \n",
        "- MovieIDs range between 1 and 3952\n",
        "- Ratings are made on a 5-star scale (whole-star ratings only)\n",
        "- Timestamp is represented in seconds since the epoch as returned by time(2)\n",
        "- Each user has at least 20 ratings"
      ]
    },
    {
      "cell_type": "code",
      "execution_count": null,
      "metadata": {
        "id": "X2mFiDr1cin2",
        "outputId": "de9325d5-7383-4b7a-8c1b-da8b77b24a24",
        "colab": {
          "base_uri": "https://localhost:8080/",
          "height": 206
        }
      },
      "outputs": [
        {
          "output_type": "execute_result",
          "data": {
            "text/plain": [
              "   UserID  MovieID  Rating  timestamps\n",
              "0       1     1193       5   978300760\n",
              "1       1      661       3   978302109\n",
              "2       1      914       3   978301968\n",
              "3       1     3408       4   978300275\n",
              "4       1     2355       5   978824291"
            ],
            "text/html": [
              "\n",
              "  <div id=\"df-510f02d0-0a3f-4ea0-89d1-d403eac8d7d0\">\n",
              "    <div class=\"colab-df-container\">\n",
              "      <div>\n",
              "<style scoped>\n",
              "    .dataframe tbody tr th:only-of-type {\n",
              "        vertical-align: middle;\n",
              "    }\n",
              "\n",
              "    .dataframe tbody tr th {\n",
              "        vertical-align: top;\n",
              "    }\n",
              "\n",
              "    .dataframe thead th {\n",
              "        text-align: right;\n",
              "    }\n",
              "</style>\n",
              "<table border=\"1\" class=\"dataframe\">\n",
              "  <thead>\n",
              "    <tr style=\"text-align: right;\">\n",
              "      <th></th>\n",
              "      <th>UserID</th>\n",
              "      <th>MovieID</th>\n",
              "      <th>Rating</th>\n",
              "      <th>timestamps</th>\n",
              "    </tr>\n",
              "  </thead>\n",
              "  <tbody>\n",
              "    <tr>\n",
              "      <th>0</th>\n",
              "      <td>1</td>\n",
              "      <td>1193</td>\n",
              "      <td>5</td>\n",
              "      <td>978300760</td>\n",
              "    </tr>\n",
              "    <tr>\n",
              "      <th>1</th>\n",
              "      <td>1</td>\n",
              "      <td>661</td>\n",
              "      <td>3</td>\n",
              "      <td>978302109</td>\n",
              "    </tr>\n",
              "    <tr>\n",
              "      <th>2</th>\n",
              "      <td>1</td>\n",
              "      <td>914</td>\n",
              "      <td>3</td>\n",
              "      <td>978301968</td>\n",
              "    </tr>\n",
              "    <tr>\n",
              "      <th>3</th>\n",
              "      <td>1</td>\n",
              "      <td>3408</td>\n",
              "      <td>4</td>\n",
              "      <td>978300275</td>\n",
              "    </tr>\n",
              "    <tr>\n",
              "      <th>4</th>\n",
              "      <td>1</td>\n",
              "      <td>2355</td>\n",
              "      <td>5</td>\n",
              "      <td>978824291</td>\n",
              "    </tr>\n",
              "  </tbody>\n",
              "</table>\n",
              "</div>\n",
              "      <button class=\"colab-df-convert\" onclick=\"convertToInteractive('df-510f02d0-0a3f-4ea0-89d1-d403eac8d7d0')\"\n",
              "              title=\"Convert this dataframe to an interactive table.\"\n",
              "              style=\"display:none;\">\n",
              "        \n",
              "  <svg xmlns=\"http://www.w3.org/2000/svg\" height=\"24px\"viewBox=\"0 0 24 24\"\n",
              "       width=\"24px\">\n",
              "    <path d=\"M0 0h24v24H0V0z\" fill=\"none\"/>\n",
              "    <path d=\"M18.56 5.44l.94 2.06.94-2.06 2.06-.94-2.06-.94-.94-2.06-.94 2.06-2.06.94zm-11 1L8.5 8.5l.94-2.06 2.06-.94-2.06-.94L8.5 2.5l-.94 2.06-2.06.94zm10 10l.94 2.06.94-2.06 2.06-.94-2.06-.94-.94-2.06-.94 2.06-2.06.94z\"/><path d=\"M17.41 7.96l-1.37-1.37c-.4-.4-.92-.59-1.43-.59-.52 0-1.04.2-1.43.59L10.3 9.45l-7.72 7.72c-.78.78-.78 2.05 0 2.83L4 21.41c.39.39.9.59 1.41.59.51 0 1.02-.2 1.41-.59l7.78-7.78 2.81-2.81c.8-.78.8-2.07 0-2.86zM5.41 20L4 18.59l7.72-7.72 1.47 1.35L5.41 20z\"/>\n",
              "  </svg>\n",
              "      </button>\n",
              "      \n",
              "  <style>\n",
              "    .colab-df-container {\n",
              "      display:flex;\n",
              "      flex-wrap:wrap;\n",
              "      gap: 12px;\n",
              "    }\n",
              "\n",
              "    .colab-df-convert {\n",
              "      background-color: #E8F0FE;\n",
              "      border: none;\n",
              "      border-radius: 50%;\n",
              "      cursor: pointer;\n",
              "      display: none;\n",
              "      fill: #1967D2;\n",
              "      height: 32px;\n",
              "      padding: 0 0 0 0;\n",
              "      width: 32px;\n",
              "    }\n",
              "\n",
              "    .colab-df-convert:hover {\n",
              "      background-color: #E2EBFA;\n",
              "      box-shadow: 0px 1px 2px rgba(60, 64, 67, 0.3), 0px 1px 3px 1px rgba(60, 64, 67, 0.15);\n",
              "      fill: #174EA6;\n",
              "    }\n",
              "\n",
              "    [theme=dark] .colab-df-convert {\n",
              "      background-color: #3B4455;\n",
              "      fill: #D2E3FC;\n",
              "    }\n",
              "\n",
              "    [theme=dark] .colab-df-convert:hover {\n",
              "      background-color: #434B5C;\n",
              "      box-shadow: 0px 1px 3px 1px rgba(0, 0, 0, 0.15);\n",
              "      filter: drop-shadow(0px 1px 2px rgba(0, 0, 0, 0.3));\n",
              "      fill: #FFFFFF;\n",
              "    }\n",
              "  </style>\n",
              "\n",
              "      <script>\n",
              "        const buttonEl =\n",
              "          document.querySelector('#df-510f02d0-0a3f-4ea0-89d1-d403eac8d7d0 button.colab-df-convert');\n",
              "        buttonEl.style.display =\n",
              "          google.colab.kernel.accessAllowed ? 'block' : 'none';\n",
              "\n",
              "        async function convertToInteractive(key) {\n",
              "          const element = document.querySelector('#df-510f02d0-0a3f-4ea0-89d1-d403eac8d7d0');\n",
              "          const dataTable =\n",
              "            await google.colab.kernel.invokeFunction('convertToInteractive',\n",
              "                                                     [key], {});\n",
              "          if (!dataTable) return;\n",
              "\n",
              "          const docLinkHtml = 'Like what you see? Visit the ' +\n",
              "            '<a target=\"_blank\" href=https://colab.research.google.com/notebooks/data_table.ipynb>data table notebook</a>'\n",
              "            + ' to learn more about interactive tables.';\n",
              "          element.innerHTML = '';\n",
              "          dataTable['output_type'] = 'display_data';\n",
              "          await google.colab.output.renderOutput(dataTable, element);\n",
              "          const docLink = document.createElement('div');\n",
              "          docLink.innerHTML = docLinkHtml;\n",
              "          element.appendChild(docLink);\n",
              "        }\n",
              "      </script>\n",
              "    </div>\n",
              "  </div>\n",
              "  "
            ]
          },
          "metadata": {},
          "execution_count": 22
        }
      ],
      "source": [
        "ratings_title = ['UserID','MovieID', 'Rating', 'timestamps']\n",
        "ratings = pd.read_csv('./ml-1m/ratings.dat', sep='::', header=None, names=ratings_title, engine = 'python')\n",
        "ratings.head()"
      ]
    },
    {
      "cell_type": "markdown",
      "metadata": {
        "id": "chWbQlPAcin2"
      },
      "source": [
        "## 数据预处理"
      ]
    },
    {
      "cell_type": "markdown",
      "metadata": {
        "id": "DW2NGK90cin2"
      },
      "source": [
        "- UserID、Occupation和MovieID不用变。\n",
        "- Gender字段：需要将‘F’和‘M’转换成0和1。\n",
        "- Age字段：要转成7个连续数字0~6。\n",
        "- Genres字段：是分类字段，要转成数字。首先将Genres中的类别转成字符串到数字的字典，然后再将每个电影的Genres字段转成数字列表，因为有些电影是多个Genres的组合。\n",
        "- Title字段：处理方式跟Genres字段一样，首先创建文本到数字的字典，然后将Title中的描述转成数字的列表。另外Title中的年份也需要去掉。\n",
        "- Genres和Title字段需要将长度统一，这样在神经网络中方便处理。空白部分用‘< PAD >’对应的数字填充。"
      ]
    },
    {
      "cell_type": "code",
      "execution_count": null,
      "metadata": {
        "id": "CCKJgOIjcin2"
      },
      "outputs": [],
      "source": [
        "def load_data():\n",
        "    \"\"\"\n",
        "    Load Dataset from File\n",
        "    \"\"\"\n",
        "    #读取User数据\n",
        "    users_title = ['UserID', 'Gender', 'Age', 'JobID', 'Zip-code']\n",
        "    users = pd.read_csv('./ml-1m/users.dat', sep='::', header=None, names=users_title, engine = 'python')\n",
        "    users = users.filter(regex='UserID|Gender|Age|JobID')\n",
        "    users_orig = users.values\n",
        "    #改变User数据中性别和年龄\n",
        "    gender_map = {'F':0, 'M':1}\n",
        "    users['Gender'] = users['Gender'].map(gender_map)\n",
        "\n",
        "    age_map = {val:ii for ii,val in enumerate(set(users['Age']))}\n",
        "    users['Age'] = users['Age'].map(age_map)\n",
        "\n",
        "    #读取Movie数据集\n",
        "    movies_title = ['MovieID', 'Title', 'Genres']\n",
        "    movies = pd.read_csv('./ml-1m/movies.dat', sep='::', header=None, names=movies_title, engine = 'python', encoding='ISO-8859-1')\n",
        "    movies_orig = movies.values\n",
        "    #将Title中的年份去掉\n",
        "    pattern = re.compile(r'^(.*)\\((\\d+)\\)$')\n",
        "\n",
        "    title_map = {val:pattern.match(val).group(1) for ii,val in enumerate(set(movies['Title']))}\n",
        "    movies['Title'] = movies['Title'].map(title_map)\n",
        "\n",
        "    #电影类型转数字字典\n",
        "    genres_set = set()\n",
        "    for val in movies['Genres'].str.split('|'):\n",
        "        genres_set.update(val)\n",
        "\n",
        "    genres_set.add('<PAD>')\n",
        "    genres2int = {val:ii for ii, val in enumerate(genres_set)}\n",
        "\n",
        "    #将电影类型转成等长数字列表，长度是18\n",
        "    genres_map = {val:[genres2int[row] for row in val.split('|')] for ii,val in enumerate(set(movies['Genres']))}\n",
        "\n",
        "    for key in genres_map:\n",
        "        for cnt in range(max(genres2int.values()) - len(genres_map[key])):\n",
        "            genres_map[key].insert(len(genres_map[key]) + cnt,genres2int['<PAD>'])\n",
        "    \n",
        "    movies['Genres'] = movies['Genres'].map(genres_map)\n",
        "\n",
        "    #电影Title转数字字典\n",
        "    title_set = set()\n",
        "    for val in movies['Title'].str.split():\n",
        "        title_set.update(val)\n",
        "    \n",
        "    title_set.add('<PAD>')\n",
        "    title2int = {val:ii for ii, val in enumerate(title_set)}\n",
        "\n",
        "    #将电影Title转成等长数字列表，长度是15\n",
        "    title_count = 15\n",
        "    title_map = {val:[title2int[row] for row in val.split()] for ii,val in enumerate(set(movies['Title']))}\n",
        "    \n",
        "    for key in title_map:\n",
        "        for cnt in range(title_count - len(title_map[key])):\n",
        "            title_map[key].insert(len(title_map[key]) + cnt,title2int['<PAD>'])\n",
        "    \n",
        "    movies['Title'] = movies['Title'].map(title_map)\n",
        "\n",
        "    #读取评分数据集\n",
        "    ratings_title = ['UserID','MovieID', 'ratings', 'timestamps']\n",
        "    ratings = pd.read_csv('./ml-1m/ratings.dat', sep='::', header=None, names=ratings_title, engine = 'python')\n",
        "    ratings = ratings.filter(regex='UserID|MovieID|ratings')\n",
        "\n",
        "    #合并三个表\n",
        "    data = pd.merge(pd.merge(ratings, users), movies)\n",
        "    \n",
        "    #将数据分成X和y两张表\n",
        "    target_fields = ['ratings']\n",
        "    features_pd, targets_pd = data.drop(target_fields, axis=1), data[target_fields]\n",
        "    \n",
        "    features = features_pd.values\n",
        "    targets_values = targets_pd.values\n",
        "    \n",
        "    return title_count, title_set, genres2int, features, targets_values, ratings, users, movies, data, movies_orig, users_orig"
      ]
    },
    {
      "cell_type": "markdown",
      "metadata": {
        "id": "DYUJyuhlcin3"
      },
      "source": [
        "### 加载数据并保存到本地"
      ]
    },
    {
      "cell_type": "markdown",
      "metadata": {
        "id": "pTcROCmUcin3"
      },
      "source": [
        "- title_count：Title字段的长度（15）\n",
        "- title_set：Title文本的集合\n",
        "- genres2int：电影类型转数字的字典\n",
        "- features：是输入X\n",
        "- targets_values：是学习目标y\n",
        "- ratings：评分数据集的Pandas对象\n",
        "- users：用户数据集的Pandas对象\n",
        "- movies：电影数据的Pandas对象\n",
        "- data：三个数据集组合在一起的Pandas对象\n",
        "- movies_orig：没有做数据处理的原始电影数据\n",
        "- users_orig：没有做数据处理的原始用户数据"
      ]
    },
    {
      "cell_type": "code",
      "execution_count": null,
      "metadata": {
        "id": "JadBWhQucin3"
      },
      "outputs": [],
      "source": [
        "title_count, title_set, genres2int, features, targets_values, ratings, users, movies, data, movies_orig, users_orig = load_data()\n",
        "\n",
        "pickle.dump((title_count, title_set, genres2int, features, targets_values, ratings, users, movies, data, movies_orig, users_orig), open('preprocess.p', 'wb'))"
      ]
    },
    {
      "cell_type": "markdown",
      "metadata": {
        "id": "bCEIS2qEcin3"
      },
      "source": [
        "### 预处理后的数据"
      ]
    },
    {
      "cell_type": "code",
      "execution_count": null,
      "metadata": {
        "id": "zfWCn7IGcin3",
        "outputId": "58fd056c-2eb7-4cc4-cd95-ad9d980b45be",
        "colab": {
          "base_uri": "https://localhost:8080/",
          "height": 206
        }
      },
      "outputs": [
        {
          "output_type": "execute_result",
          "data": {
            "text/plain": [
              "   UserID  Gender  Age  JobID\n",
              "0       1       0    0     10\n",
              "1       2       1    5     16\n",
              "2       3       1    6     15\n",
              "3       4       1    2      7\n",
              "4       5       1    6     20"
            ],
            "text/html": [
              "\n",
              "  <div id=\"df-09d38f1b-efb8-48eb-ae6c-dba6a3f22fb2\">\n",
              "    <div class=\"colab-df-container\">\n",
              "      <div>\n",
              "<style scoped>\n",
              "    .dataframe tbody tr th:only-of-type {\n",
              "        vertical-align: middle;\n",
              "    }\n",
              "\n",
              "    .dataframe tbody tr th {\n",
              "        vertical-align: top;\n",
              "    }\n",
              "\n",
              "    .dataframe thead th {\n",
              "        text-align: right;\n",
              "    }\n",
              "</style>\n",
              "<table border=\"1\" class=\"dataframe\">\n",
              "  <thead>\n",
              "    <tr style=\"text-align: right;\">\n",
              "      <th></th>\n",
              "      <th>UserID</th>\n",
              "      <th>Gender</th>\n",
              "      <th>Age</th>\n",
              "      <th>JobID</th>\n",
              "    </tr>\n",
              "  </thead>\n",
              "  <tbody>\n",
              "    <tr>\n",
              "      <th>0</th>\n",
              "      <td>1</td>\n",
              "      <td>0</td>\n",
              "      <td>0</td>\n",
              "      <td>10</td>\n",
              "    </tr>\n",
              "    <tr>\n",
              "      <th>1</th>\n",
              "      <td>2</td>\n",
              "      <td>1</td>\n",
              "      <td>5</td>\n",
              "      <td>16</td>\n",
              "    </tr>\n",
              "    <tr>\n",
              "      <th>2</th>\n",
              "      <td>3</td>\n",
              "      <td>1</td>\n",
              "      <td>6</td>\n",
              "      <td>15</td>\n",
              "    </tr>\n",
              "    <tr>\n",
              "      <th>3</th>\n",
              "      <td>4</td>\n",
              "      <td>1</td>\n",
              "      <td>2</td>\n",
              "      <td>7</td>\n",
              "    </tr>\n",
              "    <tr>\n",
              "      <th>4</th>\n",
              "      <td>5</td>\n",
              "      <td>1</td>\n",
              "      <td>6</td>\n",
              "      <td>20</td>\n",
              "    </tr>\n",
              "  </tbody>\n",
              "</table>\n",
              "</div>\n",
              "      <button class=\"colab-df-convert\" onclick=\"convertToInteractive('df-09d38f1b-efb8-48eb-ae6c-dba6a3f22fb2')\"\n",
              "              title=\"Convert this dataframe to an interactive table.\"\n",
              "              style=\"display:none;\">\n",
              "        \n",
              "  <svg xmlns=\"http://www.w3.org/2000/svg\" height=\"24px\"viewBox=\"0 0 24 24\"\n",
              "       width=\"24px\">\n",
              "    <path d=\"M0 0h24v24H0V0z\" fill=\"none\"/>\n",
              "    <path d=\"M18.56 5.44l.94 2.06.94-2.06 2.06-.94-2.06-.94-.94-2.06-.94 2.06-2.06.94zm-11 1L8.5 8.5l.94-2.06 2.06-.94-2.06-.94L8.5 2.5l-.94 2.06-2.06.94zm10 10l.94 2.06.94-2.06 2.06-.94-2.06-.94-.94-2.06-.94 2.06-2.06.94z\"/><path d=\"M17.41 7.96l-1.37-1.37c-.4-.4-.92-.59-1.43-.59-.52 0-1.04.2-1.43.59L10.3 9.45l-7.72 7.72c-.78.78-.78 2.05 0 2.83L4 21.41c.39.39.9.59 1.41.59.51 0 1.02-.2 1.41-.59l7.78-7.78 2.81-2.81c.8-.78.8-2.07 0-2.86zM5.41 20L4 18.59l7.72-7.72 1.47 1.35L5.41 20z\"/>\n",
              "  </svg>\n",
              "      </button>\n",
              "      \n",
              "  <style>\n",
              "    .colab-df-container {\n",
              "      display:flex;\n",
              "      flex-wrap:wrap;\n",
              "      gap: 12px;\n",
              "    }\n",
              "\n",
              "    .colab-df-convert {\n",
              "      background-color: #E8F0FE;\n",
              "      border: none;\n",
              "      border-radius: 50%;\n",
              "      cursor: pointer;\n",
              "      display: none;\n",
              "      fill: #1967D2;\n",
              "      height: 32px;\n",
              "      padding: 0 0 0 0;\n",
              "      width: 32px;\n",
              "    }\n",
              "\n",
              "    .colab-df-convert:hover {\n",
              "      background-color: #E2EBFA;\n",
              "      box-shadow: 0px 1px 2px rgba(60, 64, 67, 0.3), 0px 1px 3px 1px rgba(60, 64, 67, 0.15);\n",
              "      fill: #174EA6;\n",
              "    }\n",
              "\n",
              "    [theme=dark] .colab-df-convert {\n",
              "      background-color: #3B4455;\n",
              "      fill: #D2E3FC;\n",
              "    }\n",
              "\n",
              "    [theme=dark] .colab-df-convert:hover {\n",
              "      background-color: #434B5C;\n",
              "      box-shadow: 0px 1px 3px 1px rgba(0, 0, 0, 0.15);\n",
              "      filter: drop-shadow(0px 1px 2px rgba(0, 0, 0, 0.3));\n",
              "      fill: #FFFFFF;\n",
              "    }\n",
              "  </style>\n",
              "\n",
              "      <script>\n",
              "        const buttonEl =\n",
              "          document.querySelector('#df-09d38f1b-efb8-48eb-ae6c-dba6a3f22fb2 button.colab-df-convert');\n",
              "        buttonEl.style.display =\n",
              "          google.colab.kernel.accessAllowed ? 'block' : 'none';\n",
              "\n",
              "        async function convertToInteractive(key) {\n",
              "          const element = document.querySelector('#df-09d38f1b-efb8-48eb-ae6c-dba6a3f22fb2');\n",
              "          const dataTable =\n",
              "            await google.colab.kernel.invokeFunction('convertToInteractive',\n",
              "                                                     [key], {});\n",
              "          if (!dataTable) return;\n",
              "\n",
              "          const docLinkHtml = 'Like what you see? Visit the ' +\n",
              "            '<a target=\"_blank\" href=https://colab.research.google.com/notebooks/data_table.ipynb>data table notebook</a>'\n",
              "            + ' to learn more about interactive tables.';\n",
              "          element.innerHTML = '';\n",
              "          dataTable['output_type'] = 'display_data';\n",
              "          await google.colab.output.renderOutput(dataTable, element);\n",
              "          const docLink = document.createElement('div');\n",
              "          docLink.innerHTML = docLinkHtml;\n",
              "          element.appendChild(docLink);\n",
              "        }\n",
              "      </script>\n",
              "    </div>\n",
              "  </div>\n",
              "  "
            ]
          },
          "metadata": {},
          "execution_count": 25
        }
      ],
      "source": [
        "users.head()"
      ]
    },
    {
      "cell_type": "code",
      "execution_count": null,
      "metadata": {
        "id": "c_PojNfwcin4",
        "outputId": "44ed7977-3271-412d-9db7-ae73668b8d13",
        "colab": {
          "base_uri": "https://localhost:8080/",
          "height": 206
        }
      },
      "outputs": [
        {
          "output_type": "execute_result",
          "data": {
            "text/plain": [
              "   MovieID                                              Title  \\\n",
              "0        1  [379, 4155, 3520, 3520, 3520, 3520, 3520, 3520...   \n",
              "1        2  [3806, 3520, 3520, 3520, 3520, 3520, 3520, 352...   \n",
              "2        3  [3051, 4493, 961, 3520, 3520, 3520, 3520, 3520...   \n",
              "3        4  [4751, 4045, 2931, 3520, 3520, 3520, 3520, 352...   \n",
              "4        5  [5199, 2772, 1462, 62, 2267, 540, 3520, 3520, ...   \n",
              "\n",
              "                                              Genres  \n",
              "0  [16, 11, 10, 9, 9, 9, 9, 9, 9, 9, 9, 9, 9, 9, ...  \n",
              "1  [17, 11, 14, 9, 9, 9, 9, 9, 9, 9, 9, 9, 9, 9, ...  \n",
              "2  [10, 8, 9, 9, 9, 9, 9, 9, 9, 9, 9, 9, 9, 9, 9,...  \n",
              "3  [10, 18, 9, 9, 9, 9, 9, 9, 9, 9, 9, 9, 9, 9, 9...  \n",
              "4  [10, 9, 9, 9, 9, 9, 9, 9, 9, 9, 9, 9, 9, 9, 9,...  "
            ],
            "text/html": [
              "\n",
              "  <div id=\"df-5c9fad10-64ba-4a71-8155-b19120028f38\">\n",
              "    <div class=\"colab-df-container\">\n",
              "      <div>\n",
              "<style scoped>\n",
              "    .dataframe tbody tr th:only-of-type {\n",
              "        vertical-align: middle;\n",
              "    }\n",
              "\n",
              "    .dataframe tbody tr th {\n",
              "        vertical-align: top;\n",
              "    }\n",
              "\n",
              "    .dataframe thead th {\n",
              "        text-align: right;\n",
              "    }\n",
              "</style>\n",
              "<table border=\"1\" class=\"dataframe\">\n",
              "  <thead>\n",
              "    <tr style=\"text-align: right;\">\n",
              "      <th></th>\n",
              "      <th>MovieID</th>\n",
              "      <th>Title</th>\n",
              "      <th>Genres</th>\n",
              "    </tr>\n",
              "  </thead>\n",
              "  <tbody>\n",
              "    <tr>\n",
              "      <th>0</th>\n",
              "      <td>1</td>\n",
              "      <td>[379, 4155, 3520, 3520, 3520, 3520, 3520, 3520...</td>\n",
              "      <td>[16, 11, 10, 9, 9, 9, 9, 9, 9, 9, 9, 9, 9, 9, ...</td>\n",
              "    </tr>\n",
              "    <tr>\n",
              "      <th>1</th>\n",
              "      <td>2</td>\n",
              "      <td>[3806, 3520, 3520, 3520, 3520, 3520, 3520, 352...</td>\n",
              "      <td>[17, 11, 14, 9, 9, 9, 9, 9, 9, 9, 9, 9, 9, 9, ...</td>\n",
              "    </tr>\n",
              "    <tr>\n",
              "      <th>2</th>\n",
              "      <td>3</td>\n",
              "      <td>[3051, 4493, 961, 3520, 3520, 3520, 3520, 3520...</td>\n",
              "      <td>[10, 8, 9, 9, 9, 9, 9, 9, 9, 9, 9, 9, 9, 9, 9,...</td>\n",
              "    </tr>\n",
              "    <tr>\n",
              "      <th>3</th>\n",
              "      <td>4</td>\n",
              "      <td>[4751, 4045, 2931, 3520, 3520, 3520, 3520, 352...</td>\n",
              "      <td>[10, 18, 9, 9, 9, 9, 9, 9, 9, 9, 9, 9, 9, 9, 9...</td>\n",
              "    </tr>\n",
              "    <tr>\n",
              "      <th>4</th>\n",
              "      <td>5</td>\n",
              "      <td>[5199, 2772, 1462, 62, 2267, 540, 3520, 3520, ...</td>\n",
              "      <td>[10, 9, 9, 9, 9, 9, 9, 9, 9, 9, 9, 9, 9, 9, 9,...</td>\n",
              "    </tr>\n",
              "  </tbody>\n",
              "</table>\n",
              "</div>\n",
              "      <button class=\"colab-df-convert\" onclick=\"convertToInteractive('df-5c9fad10-64ba-4a71-8155-b19120028f38')\"\n",
              "              title=\"Convert this dataframe to an interactive table.\"\n",
              "              style=\"display:none;\">\n",
              "        \n",
              "  <svg xmlns=\"http://www.w3.org/2000/svg\" height=\"24px\"viewBox=\"0 0 24 24\"\n",
              "       width=\"24px\">\n",
              "    <path d=\"M0 0h24v24H0V0z\" fill=\"none\"/>\n",
              "    <path d=\"M18.56 5.44l.94 2.06.94-2.06 2.06-.94-2.06-.94-.94-2.06-.94 2.06-2.06.94zm-11 1L8.5 8.5l.94-2.06 2.06-.94-2.06-.94L8.5 2.5l-.94 2.06-2.06.94zm10 10l.94 2.06.94-2.06 2.06-.94-2.06-.94-.94-2.06-.94 2.06-2.06.94z\"/><path d=\"M17.41 7.96l-1.37-1.37c-.4-.4-.92-.59-1.43-.59-.52 0-1.04.2-1.43.59L10.3 9.45l-7.72 7.72c-.78.78-.78 2.05 0 2.83L4 21.41c.39.39.9.59 1.41.59.51 0 1.02-.2 1.41-.59l7.78-7.78 2.81-2.81c.8-.78.8-2.07 0-2.86zM5.41 20L4 18.59l7.72-7.72 1.47 1.35L5.41 20z\"/>\n",
              "  </svg>\n",
              "      </button>\n",
              "      \n",
              "  <style>\n",
              "    .colab-df-container {\n",
              "      display:flex;\n",
              "      flex-wrap:wrap;\n",
              "      gap: 12px;\n",
              "    }\n",
              "\n",
              "    .colab-df-convert {\n",
              "      background-color: #E8F0FE;\n",
              "      border: none;\n",
              "      border-radius: 50%;\n",
              "      cursor: pointer;\n",
              "      display: none;\n",
              "      fill: #1967D2;\n",
              "      height: 32px;\n",
              "      padding: 0 0 0 0;\n",
              "      width: 32px;\n",
              "    }\n",
              "\n",
              "    .colab-df-convert:hover {\n",
              "      background-color: #E2EBFA;\n",
              "      box-shadow: 0px 1px 2px rgba(60, 64, 67, 0.3), 0px 1px 3px 1px rgba(60, 64, 67, 0.15);\n",
              "      fill: #174EA6;\n",
              "    }\n",
              "\n",
              "    [theme=dark] .colab-df-convert {\n",
              "      background-color: #3B4455;\n",
              "      fill: #D2E3FC;\n",
              "    }\n",
              "\n",
              "    [theme=dark] .colab-df-convert:hover {\n",
              "      background-color: #434B5C;\n",
              "      box-shadow: 0px 1px 3px 1px rgba(0, 0, 0, 0.15);\n",
              "      filter: drop-shadow(0px 1px 2px rgba(0, 0, 0, 0.3));\n",
              "      fill: #FFFFFF;\n",
              "    }\n",
              "  </style>\n",
              "\n",
              "      <script>\n",
              "        const buttonEl =\n",
              "          document.querySelector('#df-5c9fad10-64ba-4a71-8155-b19120028f38 button.colab-df-convert');\n",
              "        buttonEl.style.display =\n",
              "          google.colab.kernel.accessAllowed ? 'block' : 'none';\n",
              "\n",
              "        async function convertToInteractive(key) {\n",
              "          const element = document.querySelector('#df-5c9fad10-64ba-4a71-8155-b19120028f38');\n",
              "          const dataTable =\n",
              "            await google.colab.kernel.invokeFunction('convertToInteractive',\n",
              "                                                     [key], {});\n",
              "          if (!dataTable) return;\n",
              "\n",
              "          const docLinkHtml = 'Like what you see? Visit the ' +\n",
              "            '<a target=\"_blank\" href=https://colab.research.google.com/notebooks/data_table.ipynb>data table notebook</a>'\n",
              "            + ' to learn more about interactive tables.';\n",
              "          element.innerHTML = '';\n",
              "          dataTable['output_type'] = 'display_data';\n",
              "          await google.colab.output.renderOutput(dataTable, element);\n",
              "          const docLink = document.createElement('div');\n",
              "          docLink.innerHTML = docLinkHtml;\n",
              "          element.appendChild(docLink);\n",
              "        }\n",
              "      </script>\n",
              "    </div>\n",
              "  </div>\n",
              "  "
            ]
          },
          "metadata": {},
          "execution_count": 26
        }
      ],
      "source": [
        "movies.head()"
      ]
    },
    {
      "cell_type": "code",
      "execution_count": null,
      "metadata": {
        "id": "QuTqD8VZcin4",
        "outputId": "cf878c24-b8fb-4cd2-9522-c6008fcdd450",
        "colab": {
          "base_uri": "https://localhost:8080/"
        }
      },
      "outputs": [
        {
          "output_type": "execute_result",
          "data": {
            "text/plain": [
              "array([1,\n",
              "       list([379, 4155, 3520, 3520, 3520, 3520, 3520, 3520, 3520, 3520, 3520, 3520, 3520, 3520, 3520]),\n",
              "       list([16, 11, 10, 9, 9, 9, 9, 9, 9, 9, 9, 9, 9, 9, 9, 9, 9, 9])],\n",
              "      dtype=object)"
            ]
          },
          "metadata": {},
          "execution_count": 27
        }
      ],
      "source": [
        "movies.values[0]"
      ]
    },
    {
      "cell_type": "markdown",
      "metadata": {
        "id": "4tun-Pbbcin4"
      },
      "source": [
        "### 从本地读取数据"
      ]
    },
    {
      "cell_type": "code",
      "execution_count": null,
      "metadata": {
        "collapsed": true,
        "id": "isLbstlxcin4"
      },
      "outputs": [],
      "source": [
        "title_count, title_set, genres2int, features, targets_values, ratings, users, movies, data, movies_orig, users_orig = pickle.load(open('preprocess.p', mode='rb'))"
      ]
    },
    {
      "cell_type": "markdown",
      "metadata": {
        "id": "zFblG0xmcin4"
      },
      "source": [
        "## 模型设计"
      ]
    },
    {
      "cell_type": "markdown",
      "metadata": {
        "id": "mopTy8bHcin5"
      },
      "source": [
        "通过研究数据集中的字段类型，我们发现有一些是类别字段，通常的处理是将这些字段转成one hot编码，但是像UserID、MovieID这样的字段就会变成非常的稀疏，输入的维度急剧膨胀，这是我们不愿意见到的，毕竟我这小笔记本不像大厂动辄能处理数以亿计维度的输入：）\n",
        "\n",
        "所以在预处理数据时将这些字段转成了数字，我们用这个数字当做嵌入矩阵的索引，在网络的第一层使用了嵌入层，维度是（N，32）和（N，16）。\n",
        "\n",
        "电影类型的处理要多一步，有时一个电影有多个电影类型，这样从嵌入矩阵索引出来是一个（n，32）的矩阵，因为有多个类型嘛，我们要将这个矩阵求和，变成（1，32）的向量。\n",
        "\n",
        "从嵌入层索引出特征以后，将各特征传入全连接层，将输出再次传入全连接层，最终分别得到（1，200）的用户特征和电影特征两个特征向量。\n",
        "\n",
        "我们的目的就是要训练出用户特征和电影特征，在实现推荐功能时使用。得到这两个特征以后，就可以选择任意的方式来拟合评分了。我使用了两种方式，一个是上图中画出的将两个特征做向量乘法，将结果与真实评分做回归，采用MSE优化损失。因为本质上这是一个回归问题，另一种方式是，将两个特征作为输入，再次传入全连接层，输出一个值，将输出值回归到真实评分，采用MSE优化损失。"
      ]
    },
    {
      "cell_type": "markdown",
      "metadata": {
        "id": "3rruSdq5cin5"
      },
      "source": [
        "## 文本卷积网络\n",
        "网络看起来像下面这样"
      ]
    },
    {
      "cell_type": "markdown",
      "metadata": {
        "id": "KSSnPopjcin5"
      },
      "source": [
        "网络的第一层是词嵌入层，由每一个单词的嵌入向量组成的嵌入矩阵。下一层使用多个不同尺寸（窗口大小）的卷积核在嵌入矩阵上做卷积，窗口大小指的是每次卷积覆盖几个单词。这里跟对图像做卷积不太一样，图像的卷积通常用2x2、3x3、5x5之类的尺寸，而文本卷积要覆盖整个单词的嵌入向量，所以尺寸是（单词数，向量维度），比如每次滑动3个，4个或者5个单词。第三层网络是max pooling得到一个长向量，最后使用dropout做正则化，最终得到了电影Title的特征。"
      ]
    },
    {
      "cell_type": "markdown",
      "metadata": {
        "id": "OtIokBEccin5"
      },
      "source": [
        "## 辅助函数"
      ]
    },
    {
      "cell_type": "code",
      "execution_count": null,
      "metadata": {
        "id": "E1aGXVfZcin5"
      },
      "outputs": [],
      "source": [
        "import tensorflow as tf\n",
        "import os\n",
        "import pickle\n",
        "\n",
        "def save_params(params):\n",
        "    \"\"\"\n",
        "    Save parameters to file\n",
        "    \"\"\"\n",
        "    pickle.dump(params, open('params.p', 'wb'))\n",
        "\n",
        "\n",
        "def load_params():\n",
        "    \"\"\"\n",
        "    Load parameters from file\n",
        "    \"\"\"\n",
        "    return pickle.load(open('params.p', mode='rb'))\n"
      ]
    },
    {
      "cell_type": "markdown",
      "metadata": {
        "id": "hI2kQtHlcin6"
      },
      "source": [
        "## 编码实现"
      ]
    },
    {
      "cell_type": "code",
      "execution_count": null,
      "metadata": {
        "id": "Oiv9V_LZcin6"
      },
      "outputs": [],
      "source": [
        "#嵌入矩阵的维度\n",
        "embed_dim = 32\n",
        "#用户ID个数\n",
        "uid_max = max(features.take(0,1)) + 1 # 6040\n",
        "#性别个数\n",
        "gender_max = max(features.take(2,1)) + 1 # 1 + 1 = 2\n",
        "#年龄类别个数\n",
        "age_max = max(features.take(3,1)) + 1 # 6 + 1 = 7\n",
        "#职业个数\n",
        "job_max = max(features.take(4,1)) + 1# 20 + 1 = 21\n",
        "\n",
        "#电影ID个数\n",
        "movie_id_max = max(features.take(1,1)) + 1 # 3952\n",
        "#电影类型个数\n",
        "movie_categories_max = max(genres2int.values()) + 1 # 18 + 1 = 19\n",
        "#电影名单词个数\n",
        "movie_title_max = len(title_set) # 5216\n",
        "\n",
        "#对电影类型嵌入向量做加和操作的标志，考虑过使用mean做平均，但是没实现mean\n",
        "combiner = \"sum\"\n",
        "\n",
        "#电影名长度\n",
        "sentences_size = title_count # = 15\n",
        "#文本卷积滑动窗口，分别滑动2, 3, 4, 5个单词\n",
        "window_sizes = {2, 3, 4, 5}\n",
        "#文本卷积核数量\n",
        "filter_num = 8\n",
        "\n",
        "#电影ID转下标的字典，数据集中电影ID跟下标不一致，比如第5行的数据电影ID不一定是5\n",
        "movieid2idx = {val[0]:i for i, val in enumerate(movies.values)}"
      ]
    },
    {
      "cell_type": "markdown",
      "metadata": {
        "id": "TYgl1BLPcin6"
      },
      "source": [
        "### 超参"
      ]
    },
    {
      "cell_type": "code",
      "execution_count": null,
      "metadata": {
        "id": "AM99DUBHcin6"
      },
      "outputs": [],
      "source": [
        "# Number of Epochs\n",
        "num_epochs = 5\n",
        "# Batch Size\n",
        "batch_size = 256\n",
        "\n",
        "dropout_keep = 0.5\n",
        "# Learning Rate\n",
        "learning_rate = 0.0001\n",
        "# Show stats for every n number of batches\n",
        "show_every_n_batches = 20\n",
        "\n",
        "save_dir = './save'"
      ]
    },
    {
      "cell_type": "markdown",
      "metadata": {
        "id": "VvWPlnC0cin6"
      },
      "source": [
        "### 输入"
      ]
    },
    {
      "cell_type": "markdown",
      "metadata": {
        "id": "BazdbHh7cin6"
      },
      "source": [
        "定义输入的占位符"
      ]
    },
    {
      "cell_type": "code",
      "execution_count": null,
      "metadata": {
        "id": "ieftVKv2cin6"
      },
      "outputs": [],
      "source": [
        "def get_inputs():\n",
        "    uid = tf.keras.layers.Input(shape=(1,), dtype='int32', name='uid')  \n",
        "    user_gender = tf.keras.layers.Input(shape=(1,), dtype='int32', name='user_gender')  \n",
        "    user_age = tf.keras.layers.Input(shape=(1,), dtype='int32', name='user_age') \n",
        "    user_job = tf.keras.layers.Input(shape=(1,), dtype='int32', name='user_job')\n",
        "\n",
        "    movie_id = tf.keras.layers.Input(shape=(1,), dtype='int32', name='movie_id') \n",
        "    movie_categories = tf.keras.layers.Input(shape=(18,), dtype='int32', name='movie_categories') \n",
        "    movie_titles = tf.keras.layers.Input(shape=(15,), dtype='int32', name='movie_titles') \n",
        "    return uid, user_gender, user_age, user_job, movie_id, movie_categories, movie_titles"
      ]
    },
    {
      "cell_type": "markdown",
      "metadata": {
        "id": "Ef7_D9-Ccin7"
      },
      "source": [
        "## 构建神经网络"
      ]
    },
    {
      "cell_type": "markdown",
      "metadata": {
        "id": "dVJKwcR0cin7"
      },
      "source": [
        "#### 定义User的嵌入矩阵"
      ]
    },
    {
      "cell_type": "code",
      "execution_count": null,
      "metadata": {
        "id": "1sprEM-9cin7"
      },
      "outputs": [],
      "source": [
        "def get_user_embedding(uid, user_gender, user_age, user_job):\n",
        "    uid_embed_layer = tf.keras.layers.Embedding(uid_max, embed_dim, input_length=1, name='uid_embed_layer')(uid)\n",
        "    gender_embed_layer = tf.keras.layers.Embedding(gender_max, embed_dim // 2, input_length=1, name='gender_embed_layer')(user_gender)\n",
        "    age_embed_layer = tf.keras.layers.Embedding(age_max, embed_dim // 2, input_length=1, name='age_embed_layer')(user_age)\n",
        "    job_embed_layer = tf.keras.layers.Embedding(job_max, embed_dim // 2, input_length=1, name='job_embed_layer')(user_job)\n",
        "    return uid_embed_layer, gender_embed_layer, age_embed_layer, job_embed_layer"
      ]
    },
    {
      "cell_type": "markdown",
      "metadata": {
        "id": "LUo2ywRDcin7"
      },
      "source": [
        "#### 将User的嵌入矩阵一起全连接生成User的特征"
      ]
    },
    {
      "cell_type": "code",
      "execution_count": null,
      "metadata": {
        "id": "2iNsOk9Lcin7"
      },
      "outputs": [],
      "source": [
        "def get_user_feature_layer(uid_embed_layer, gender_embed_layer, age_embed_layer, job_embed_layer):\n",
        "    #第一层全连接\n",
        "    uid_fc_layer = tf.keras.layers.Dense(embed_dim, name=\"uid_fc_layer\", activation='relu')(uid_embed_layer)\n",
        "    gender_fc_layer = tf.keras.layers.Dense(embed_dim, name=\"gender_fc_layer\", activation='relu')(gender_embed_layer)\n",
        "    age_fc_layer = tf.keras.layers.Dense(embed_dim, name=\"age_fc_layer\", activation='relu')(age_embed_layer)\n",
        "    job_fc_layer = tf.keras.layers.Dense(embed_dim, name=\"job_fc_layer\", activation='relu')(job_embed_layer)\n",
        "\n",
        "    #第二层全连接\n",
        "    user_combine_layer = tf.keras.layers.concatenate([uid_fc_layer, gender_fc_layer, age_fc_layer, job_fc_layer], 2)  #(?, 1, 128)\n",
        "    user_combine_layer = tf.keras.layers.Dense(200, activation='tanh')(user_combine_layer)  #(?, 1, 200)\n",
        "\n",
        "    user_combine_layer_flat = tf.keras.layers.Reshape([200], name=\"user_combine_layer_flat\")(user_combine_layer)\n",
        "    return user_combine_layer, user_combine_layer_flat"
      ]
    },
    {
      "cell_type": "markdown",
      "metadata": {
        "id": "uVaI0r1ocin7"
      },
      "source": [
        "#### 定义Movie ID的嵌入矩阵"
      ]
    },
    {
      "cell_type": "code",
      "execution_count": null,
      "metadata": {
        "id": "Fc2K3f0ycin7"
      },
      "outputs": [],
      "source": [
        "def get_movie_id_embed_layer(movie_id):\n",
        "    movie_id_embed_layer = tf.keras.layers.Embedding(movie_id_max, embed_dim, input_length=1, name='movie_id_embed_layer')(movie_id)\n",
        "    return movie_id_embed_layer"
      ]
    },
    {
      "cell_type": "markdown",
      "metadata": {
        "id": "4sbmdAOxcin7"
      },
      "source": [
        "#### 合并电影类型的多个嵌入向量"
      ]
    },
    {
      "cell_type": "code",
      "execution_count": null,
      "metadata": {
        "id": "KgMAZyjzcin8"
      },
      "outputs": [],
      "source": [
        "def get_movie_categories_layers(movie_categories):\n",
        "    movie_categories_embed_layer = tf.keras.layers.Embedding(movie_categories_max, embed_dim, input_length=18, name='movie_categories_embed_layer')(movie_categories)\n",
        "    movie_categories_embed_layer = tf.keras.layers.Lambda(lambda layer: tf.reduce_sum(layer, axis=1, keepdims=True))(movie_categories_embed_layer)\n",
        "#     movie_categories_embed_layer = tf.keras.layers.Reshape([1, 18 * embed_dim])(movie_categories_embed_layer)\n",
        "\n",
        "    return movie_categories_embed_layer"
      ]
    },
    {
      "cell_type": "markdown",
      "metadata": {
        "id": "5DowMP6Zcin8"
      },
      "source": [
        "#### Movie Title的文本卷积网络实现"
      ]
    },
    {
      "cell_type": "code",
      "execution_count": null,
      "metadata": {
        "id": "vjyVeifAcin8"
      },
      "outputs": [],
      "source": [
        "def get_movie_cnn_layer(movie_titles):\n",
        "    #从嵌入矩阵中得到电影名对应的各个单词的嵌入向量\n",
        "    movie_title_embed_layer = tf.keras.layers.Embedding(movie_title_max, embed_dim, input_length=15, name='movie_title_embed_layer')(movie_titles)\n",
        "    sp=movie_title_embed_layer.shape\n",
        "    movie_title_embed_layer_expand = tf.keras.layers.Reshape([sp[1], sp[2], 1])(movie_title_embed_layer)\n",
        "    #对文本嵌入层使用不同尺寸的卷积核做卷积和最大池化\n",
        "    pool_layer_lst = []\n",
        "    for window_size in window_sizes:\n",
        "        conv_layer = tf.keras.layers.Conv2D(filter_num, (window_size, embed_dim), 1, activation='relu')(movie_title_embed_layer_expand)\n",
        "        maxpool_layer = tf.keras.layers.MaxPooling2D(pool_size=(sentences_size - window_size + 1 ,1), strides=1)(conv_layer)\n",
        "        pool_layer_lst.append(maxpool_layer)\n",
        "    #Dropout层\n",
        "    pool_layer = tf.keras.layers.concatenate(pool_layer_lst, 3, name =\"pool_layer\")  \n",
        "    max_num = len(window_sizes) * filter_num\n",
        "    pool_layer_flat = tf.keras.layers.Reshape([1, max_num], name = \"pool_layer_flat\")(pool_layer)\n",
        "\n",
        "    dropout_layer = tf.keras.layers.Dropout(dropout_keep, name = \"dropout_layer\")(pool_layer_flat)\n",
        "    return pool_layer_flat, dropout_layer"
      ]
    },
    {
      "cell_type": "markdown",
      "metadata": {
        "id": "wLMympSecin8"
      },
      "source": [
        "#### 将Movie的各个层一起做全连接"
      ]
    },
    {
      "cell_type": "code",
      "execution_count": null,
      "metadata": {
        "id": "L4Rpu9jIcin8"
      },
      "outputs": [],
      "source": [
        "def get_movie_feature_layer(movie_id_embed_layer, movie_categories_embed_layer, dropout_layer):\n",
        "    #第一层全连接\n",
        "    movie_id_fc_layer = tf.keras.layers.Dense(embed_dim, name=\"movie_id_fc_layer\", activation='relu')(movie_id_embed_layer)\n",
        "    movie_categories_fc_layer = tf.keras.layers.Dense(embed_dim, name=\"movie_categories_fc_layer\", activation='relu')(movie_categories_embed_layer)\n",
        "\n",
        "    #第二层全连接\n",
        "    movie_combine_layer = tf.keras.layers.concatenate([movie_id_fc_layer, movie_categories_fc_layer, dropout_layer], 2)  \n",
        "    movie_combine_layer = tf.keras.layers.Dense(200, activation='tanh')(movie_combine_layer)\n",
        "\n",
        "    movie_combine_layer_flat = tf.keras.layers.Reshape([200], name=\"movie_combine_layer_flat\")(movie_combine_layer)\n",
        "    return movie_combine_layer, movie_combine_layer_flat"
      ]
    },
    {
      "cell_type": "code",
      "execution_count": null,
      "metadata": {
        "id": "jBuD49Kscin8",
        "colab": {
          "base_uri": "https://localhost:8080/"
        },
        "outputId": "67b5384d-480e-4359-95e1-6588d438ee2b"
      },
      "outputs": [
        {
          "output_type": "execute_result",
          "data": {
            "text/plain": [
              "<module 'keras.api._v2.keras.layers' from '/usr/local/lib/python3.9/dist-packages/keras/api/_v2/keras/layers/__init__.py'>"
            ]
          },
          "metadata": {},
          "execution_count": 43
        }
      ],
      "source": [
        "tf.keras.layers"
      ]
    },
    {
      "cell_type": "markdown",
      "metadata": {
        "id": "R7a5qYaRcin8"
      },
      "source": [
        "## 构建计算图"
      ]
    },
    {
      "cell_type": "code",
      "execution_count": null,
      "metadata": {
        "id": "IHUc-PnQcin9"
      },
      "outputs": [],
      "source": [
        "import tensorflow as tf\n",
        "import datetime\n",
        "from tensorflow import keras\n",
        "from tensorflow.python.ops import summary_ops_v2\n",
        "import time\n",
        "\n",
        "MODEL_DIR = \"./models\"\n",
        "\n",
        "\n",
        "class mv_network(object):\n",
        "    def __init__(self, batch_size=256):\n",
        "        self.batch_size = batch_size\n",
        "        self.best_loss = 9999\n",
        "        self.losses = {'train': [], 'test': []}\n",
        "\n",
        "        # 获取输入占位符\n",
        "        uid, user_gender, user_age, user_job, movie_id, movie_categories, movie_titles = get_inputs()\n",
        "        # 获取User的4个嵌入向量\n",
        "        uid_embed_layer, gender_embed_layer, age_embed_layer, job_embed_layer = get_user_embedding(uid, user_gender,\n",
        "                                                                                                   user_age, user_job)\n",
        "        # 得到用户特征\n",
        "        user_combine_layer, user_combine_layer_flat = get_user_feature_layer(uid_embed_layer, gender_embed_layer,\n",
        "                                                                             age_embed_layer, job_embed_layer)\n",
        "        # 获取电影ID的嵌入向量\n",
        "        movie_id_embed_layer = get_movie_id_embed_layer(movie_id)\n",
        "        # 获取电影类型的嵌入向量\n",
        "        movie_categories_embed_layer = get_movie_categories_layers(movie_categories)\n",
        "        # 获取电影名的特征向量\n",
        "        pool_layer_flat, dropout_layer = get_movie_cnn_layer(movie_titles)\n",
        "        # 得到电影特征\n",
        "        movie_combine_layer, movie_combine_layer_flat = get_movie_feature_layer(movie_id_embed_layer,\n",
        "                                                                                movie_categories_embed_layer,\n",
        "                                                                                dropout_layer)\n",
        "        # 计算出评分\n",
        "        # 将用户特征和电影特征做矩阵乘法得到一个预测评分的方案\n",
        "        inference = tf.keras.layers.Lambda(lambda layer: \n",
        "            tf.reduce_sum(layer[0] * layer[1], axis=1), name=\"inference\")((user_combine_layer_flat, movie_combine_layer_flat))\n",
        "        inference = tf.keras.layers.Lambda(lambda layer: tf.expand_dims(layer, axis=1))(inference)\n",
        "        \n",
        "        # 将用户特征和电影特征作为输入，经过全连接，输出一个值的方案\n",
        "#         inference_layer = tf.keras.layers.concatenate([user_combine_layer_flat, movie_combine_layer_flat],\n",
        "#                                                       1)  # (?, 400)\n",
        "        # 你可以使用下面这个全连接层，试试效果\n",
        "        #inference_dense = tf.keras.layers.Dense(64, kernel_regularizer=tf.nn.l2_loss, activation='relu')(\n",
        "        #    inference_layer)\n",
        "#         inference = tf.keras.layers.Dense(1, name=\"inference\")(inference_layer)  # inference_dense\n",
        "\n",
        "        self.model = tf.keras.Model(\n",
        "            inputs=[uid, user_gender, user_age, user_job, movie_id, movie_categories, movie_titles],\n",
        "            outputs=[inference])\n",
        "\n",
        "        self.model.summary()\n",
        "\n",
        "        self.optimizer = tf.keras.optimizers.Adam(learning_rate)\n",
        "        # MSE损失，将计算值回归到评分\n",
        "        self.ComputeLoss = tf.keras.losses.MeanSquaredError()\n",
        "        self.ComputeMetrics = tf.keras.metrics.MeanAbsoluteError()\n",
        "\n",
        "        if tf.io.gfile.exists(MODEL_DIR):\n",
        "            #             print('Removing existing model dir: {}'.format(MODEL_DIR))\n",
        "            #             tf.io.gfile.rmtree(MODEL_DIR)\n",
        "            pass\n",
        "        else:\n",
        "            tf.io.gfile.makedirs(MODEL_DIR)\n",
        "\n",
        "        train_dir = os.path.join(MODEL_DIR, 'summaries', 'train')\n",
        "        test_dir = os.path.join(MODEL_DIR, 'summaries', 'eval')\n",
        "\n",
        "        #         self.train_summary_writer = summary_ops_v2.create_file_writer(train_dir, flush_millis=10000)\n",
        "        #         self.test_summary_writer = summary_ops_v2.create_file_writer(test_dir, flush_millis=10000, name='test')\n",
        "\n",
        "        checkpoint_dir = os.path.join(MODEL_DIR, 'checkpoints')\n",
        "        self.checkpoint_prefix = os.path.join(checkpoint_dir, 'ckpt')\n",
        "        self.checkpoint = tf.train.Checkpoint(model=self.model, optimizer=self.optimizer)\n",
        "\n",
        "        # Restore variables on creation if a checkpoint exists.\n",
        "        self.checkpoint.restore(tf.train.latest_checkpoint(checkpoint_dir))\n",
        "\n",
        "    def compute_loss(self, labels, logits):\n",
        "        return tf.reduce_mean(tf.keras.losses.mse(labels, logits))\n",
        "\n",
        "    def compute_metrics(self, labels, logits):\n",
        "        return tf.keras.metrics.mae(labels, logits)  #\n",
        "\n",
        "    @tf.function\n",
        "    def train_step(self, x, y):\n",
        "        # Record the operations used to compute the loss, so that the gradient\n",
        "        # of the loss with respect to the variables can be computed.\n",
        "        #         metrics = 0\n",
        "        with tf.GradientTape() as tape:\n",
        "            logits = self.model([x[0],\n",
        "                                 x[1],\n",
        "                                 x[2],\n",
        "                                 x[3],\n",
        "                                 x[4],\n",
        "                                 x[5],\n",
        "                                 x[6]], training=True)\n",
        "            loss = self.ComputeLoss(y, logits)\n",
        "            # loss = self.compute_loss(labels, logits)\n",
        "            self.ComputeMetrics(y, logits)\n",
        "            # metrics = self.compute_metrics(labels, logits)\n",
        "        grads = tape.gradient(loss, self.model.trainable_variables)\n",
        "        self.optimizer.apply_gradients(zip(grads, self.model.trainable_variables))\n",
        "        return loss, logits\n",
        "\n",
        "    def training(self, features, targets_values, epochs=5, log_freq=50):\n",
        "\n",
        "        for epoch_i in range(epochs):\n",
        "            # 将数据集分成训练集和测试集，随机种子不固定\n",
        "            train_X, test_X, train_y, test_y = train_test_split(features,\n",
        "                                                                targets_values,\n",
        "                                                                test_size=0.2,\n",
        "                                                                random_state=0)\n",
        "\n",
        "            train_batches = get_batches(train_X, train_y, self.batch_size)\n",
        "            batch_num = (len(train_X) // self.batch_size)\n",
        "\n",
        "            train_start = time.time()\n",
        "            #             with self.train_summary_writer.as_default():\n",
        "            if True:\n",
        "                start = time.time()\n",
        "                # Metrics are stateful. They accumulate values and return a cumulative\n",
        "                # result when you call .result(). Clear accumulated values with .reset_states()\n",
        "                avg_loss = tf.keras.metrics.Mean('loss', dtype=tf.float32)\n",
        "                #                 avg_mae = tf.keras.metrics.Mean('mae', dtype=tf.float32)\n",
        "\n",
        "                # Datasets can be iterated over like any other Python iterable.\n",
        "                for batch_i in range(batch_num):\n",
        "                    x, y = next(train_batches)\n",
        "                    categories = np.zeros([self.batch_size, 18])\n",
        "                    for i in range(self.batch_size):\n",
        "                        categories[i] = x.take(6, 1)[i]\n",
        "\n",
        "                    titles = np.zeros([self.batch_size, sentences_size])\n",
        "                    for i in range(self.batch_size):\n",
        "                        titles[i] = x.take(5, 1)[i]\n",
        "\n",
        "                    loss, logits = self.train_step([np.reshape(x.take(0, 1), [self.batch_size, 1]).astype(np.float32),\n",
        "                                                    np.reshape(x.take(2, 1), [self.batch_size, 1]).astype(np.float32),\n",
        "                                                    np.reshape(x.take(3, 1), [self.batch_size, 1]).astype(np.float32),\n",
        "                                                    np.reshape(x.take(4, 1), [self.batch_size, 1]).astype(np.float32),\n",
        "                                                    np.reshape(x.take(1, 1), [self.batch_size, 1]).astype(np.float32),\n",
        "                                                    categories.astype(np.float32),\n",
        "                                                    titles.astype(np.float32)],\n",
        "                                                   np.reshape(y, [self.batch_size, 1]).astype(np.float32))\n",
        "                    avg_loss(loss)\n",
        "                    #                     avg_mae(metrics)\n",
        "                    self.losses['train'].append(loss)\n",
        "\n",
        "                    if tf.equal(self.optimizer.iterations % log_freq, 0):\n",
        "                        #                         summary_ops_v2.scalar('loss', avg_loss.result(), step=self.optimizer.iterations)\n",
        "                        #                         summary_ops_v2.scalar('mae', self.ComputeMetrics.result(), step=self.optimizer.iterations)\n",
        "                        # summary_ops_v2.scalar('mae', avg_mae.result(), step=self.optimizer.iterations)\n",
        "\n",
        "                        rate = log_freq / (time.time() - start)\n",
        "                        print('Step #{}\\tEpoch {:>3} Batch {:>4}/{}   Loss: {:0.6f} mae: {:0.6f} ({} steps/sec)'.format(\n",
        "                            self.optimizer.iterations.numpy(),\n",
        "                            epoch_i,\n",
        "                            batch_i,\n",
        "                            batch_num,\n",
        "                            loss, (self.ComputeMetrics.result()), rate))\n",
        "                        # print('Step #{}\\tLoss: {:0.6f} mae: {:0.6f} ({} steps/sec)'.format(\n",
        "                        #     self.optimizer.iterations.numpy(), loss, (avg_mae.result()), rate))\n",
        "                        avg_loss.reset_states()\n",
        "                        self.ComputeMetrics.reset_states()\n",
        "                        # avg_mae.reset_states()\n",
        "                        start = time.time()\n",
        "\n",
        "            train_end = time.time()\n",
        "            print(\n",
        "                '\\nTrain time for epoch #{} ({} total steps): {}'.format(epoch_i + 1, self.optimizer.iterations.numpy(),\n",
        "                                                                         train_end - train_start))\n",
        "            #             with self.test_summary_writer.as_default():\n",
        "            self.testing((test_X, test_y), self.optimizer.iterations)\n",
        "            # self.checkpoint.save(self.checkpoint_prefix)\n",
        "        self.export_path = os.path.join(MODEL_DIR, 'export')\n",
        "        tf.saved_model.save(self.model, self.export_path)\n",
        "\n",
        "    def testing(self, test_dataset, step_num):\n",
        "        test_X, test_y = test_dataset\n",
        "        test_batches = get_batches(test_X, test_y, self.batch_size)\n",
        "\n",
        "        \"\"\"Perform an evaluation of `model` on the examples from `dataset`.\"\"\"\n",
        "        avg_loss = tf.keras.metrics.Mean('loss', dtype=tf.float32)\n",
        "        #         avg_mae = tf.keras.metrics.Mean('mae', dtype=tf.float32)\n",
        "\n",
        "        batch_num = (len(test_X) // self.batch_size)\n",
        "        for batch_i in range(batch_num):\n",
        "            x, y = next(test_batches)\n",
        "            categories = np.zeros([self.batch_size, 18])\n",
        "            for i in range(self.batch_size):\n",
        "                categories[i] = x.take(6, 1)[i]\n",
        "\n",
        "            titles = np.zeros([self.batch_size, sentences_size])\n",
        "            for i in range(self.batch_size):\n",
        "                titles[i] = x.take(5, 1)[i]\n",
        "\n",
        "            logits = self.model([np.reshape(x.take(0, 1), [self.batch_size, 1]).astype(np.float32),\n",
        "                                 np.reshape(x.take(2, 1), [self.batch_size, 1]).astype(np.float32),\n",
        "                                 np.reshape(x.take(3, 1), [self.batch_size, 1]).astype(np.float32),\n",
        "                                 np.reshape(x.take(4, 1), [self.batch_size, 1]).astype(np.float32),\n",
        "                                 np.reshape(x.take(1, 1), [self.batch_size, 1]).astype(np.float32),\n",
        "                                 categories.astype(np.float32),\n",
        "                                 titles.astype(np.float32)], training=False)\n",
        "            test_loss = self.ComputeLoss(np.reshape(y, [self.batch_size, 1]).astype(np.float32), logits)\n",
        "            avg_loss(test_loss)\n",
        "            # 保存测试损失\n",
        "            self.losses['test'].append(test_loss)\n",
        "            self.ComputeMetrics(np.reshape(y, [self.batch_size, 1]).astype(np.float32), logits)\n",
        "            # avg_loss(self.compute_loss(labels, logits))\n",
        "            # avg_mae(self.compute_metrics(labels, logits))\n",
        "\n",
        "        print('Model test set loss: {:0.6f} mae: {:0.6f}'.format(avg_loss.result(), self.ComputeMetrics.result()))\n",
        "        # print('Model test set loss: {:0.6f} mae: {:0.6f}'.format(avg_loss.result(), avg_mae.result()))\n",
        "        #         summary_ops_v2.scalar('loss', avg_loss.result(), step=step_num)\n",
        "        #         summary_ops_v2.scalar('mae', self.ComputeMetrics.result(), step=step_num)\n",
        "        # summary_ops_v2.scalar('mae', avg_mae.result(), step=step_num)\n",
        "\n",
        "        if avg_loss.result() < self.best_loss:\n",
        "            self.best_loss = avg_loss.result()\n",
        "            print(\"best loss = {}\".format(self.best_loss))\n",
        "            self.checkpoint.save(self.checkpoint_prefix)\n",
        "\n",
        "    def forward(self, xs):\n",
        "        predictions = self.model(xs)\n",
        "        # logits = tf.nn.softmax(predictions)\n",
        "\n",
        "        return predictions\n"
      ]
    },
    {
      "cell_type": "markdown",
      "metadata": {
        "id": "MHsE8HURcin9"
      },
      "source": [
        "## 取得batch"
      ]
    },
    {
      "cell_type": "code",
      "execution_count": null,
      "metadata": {
        "id": "PmCAj1DOcin9"
      },
      "outputs": [],
      "source": [
        "def get_batches(Xs, ys, batch_size):\n",
        "    for start in range(0, len(Xs), batch_size):\n",
        "        end = min(start + batch_size, len(Xs))\n",
        "        yield Xs[start:end], ys[start:end]"
      ]
    },
    {
      "cell_type": "markdown",
      "metadata": {
        "id": "Yx5KP-cicin-"
      },
      "source": [
        "## 训练网络"
      ]
    },
    {
      "cell_type": "markdown",
      "metadata": {
        "id": "Kv1j2bxucin-"
      },
      "source": [
        "将用户特征和电影特征作为输入，经过全连接，输出一个值的训练"
      ]
    },
    {
      "cell_type": "code",
      "execution_count": null,
      "metadata": {
        "id": "UiD9IRbKcin-",
        "outputId": "2996baec-f377-41fb-a72e-62eee9a61b47",
        "colab": {
          "base_uri": "https://localhost:8080/"
        }
      },
      "outputs": [
        {
          "output_type": "stream",
          "name": "stdout",
          "text": [
            "Model: \"model\"\n",
            "__________________________________________________________________________________________________\n",
            " Layer (type)                   Output Shape         Param #     Connected to                     \n",
            "==================================================================================================\n",
            " movie_titles (InputLayer)      [(None, 15)]         0           []                               \n",
            "                                                                                                  \n",
            " movie_title_embed_layer (Embed  (None, 15, 32)      166944      ['movie_titles[0][0]']           \n",
            " ding)                                                                                            \n",
            "                                                                                                  \n",
            " reshape (Reshape)              (None, 15, 32, 1)    0           ['movie_title_embed_layer[0][0]']\n",
            "                                                                                                  \n",
            " conv2d (Conv2D)                (None, 14, 1, 8)     520         ['reshape[0][0]']                \n",
            "                                                                                                  \n",
            " conv2d_1 (Conv2D)              (None, 13, 1, 8)     776         ['reshape[0][0]']                \n",
            "                                                                                                  \n",
            " conv2d_2 (Conv2D)              (None, 12, 1, 8)     1032        ['reshape[0][0]']                \n",
            "                                                                                                  \n",
            " conv2d_3 (Conv2D)              (None, 11, 1, 8)     1288        ['reshape[0][0]']                \n",
            "                                                                                                  \n",
            " movie_categories (InputLayer)  [(None, 18)]         0           []                               \n",
            "                                                                                                  \n",
            " max_pooling2d (MaxPooling2D)   (None, 1, 1, 8)      0           ['conv2d[0][0]']                 \n",
            "                                                                                                  \n",
            " max_pooling2d_1 (MaxPooling2D)  (None, 1, 1, 8)     0           ['conv2d_1[0][0]']               \n",
            "                                                                                                  \n",
            " max_pooling2d_2 (MaxPooling2D)  (None, 1, 1, 8)     0           ['conv2d_2[0][0]']               \n",
            "                                                                                                  \n",
            " max_pooling2d_3 (MaxPooling2D)  (None, 1, 1, 8)     0           ['conv2d_3[0][0]']               \n",
            "                                                                                                  \n",
            " uid (InputLayer)               [(None, 1)]          0           []                               \n",
            "                                                                                                  \n",
            " user_gender (InputLayer)       [(None, 1)]          0           []                               \n",
            "                                                                                                  \n",
            " user_age (InputLayer)          [(None, 1)]          0           []                               \n",
            "                                                                                                  \n",
            " user_job (InputLayer)          [(None, 1)]          0           []                               \n",
            "                                                                                                  \n",
            " movie_id (InputLayer)          [(None, 1)]          0           []                               \n",
            "                                                                                                  \n",
            " movie_categories_embed_layer (  (None, 18, 32)      608         ['movie_categories[0][0]']       \n",
            " Embedding)                                                                                       \n",
            "                                                                                                  \n",
            " pool_layer (Concatenate)       (None, 1, 1, 32)     0           ['max_pooling2d[0][0]',          \n",
            "                                                                  'max_pooling2d_1[0][0]',        \n",
            "                                                                  'max_pooling2d_2[0][0]',        \n",
            "                                                                  'max_pooling2d_3[0][0]']        \n",
            "                                                                                                  \n",
            " uid_embed_layer (Embedding)    (None, 1, 32)        193312      ['uid[0][0]']                    \n",
            "                                                                                                  \n",
            " gender_embed_layer (Embedding)  (None, 1, 16)       32          ['user_gender[0][0]']            \n",
            "                                                                                                  \n",
            " age_embed_layer (Embedding)    (None, 1, 16)        112         ['user_age[0][0]']               \n",
            "                                                                                                  \n",
            " job_embed_layer (Embedding)    (None, 1, 16)        336         ['user_job[0][0]']               \n",
            "                                                                                                  \n",
            " movie_id_embed_layer (Embeddin  (None, 1, 32)       126496      ['movie_id[0][0]']               \n",
            " g)                                                                                               \n",
            "                                                                                                  \n",
            " lambda (Lambda)                (None, 1, 32)        0           ['movie_categories_embed_layer[0]\n",
            "                                                                 [0]']                            \n",
            "                                                                                                  \n",
            " pool_layer_flat (Reshape)      (None, 1, 32)        0           ['pool_layer[0][0]']             \n",
            "                                                                                                  \n",
            " uid_fc_layer (Dense)           (None, 1, 32)        1056        ['uid_embed_layer[0][0]']        \n",
            "                                                                                                  \n",
            " gender_fc_layer (Dense)        (None, 1, 32)        544         ['gender_embed_layer[0][0]']     \n",
            "                                                                                                  \n",
            " age_fc_layer (Dense)           (None, 1, 32)        544         ['age_embed_layer[0][0]']        \n",
            "                                                                                                  \n",
            " job_fc_layer (Dense)           (None, 1, 32)        544         ['job_embed_layer[0][0]']        \n",
            "                                                                                                  \n",
            " movie_id_fc_layer (Dense)      (None, 1, 32)        1056        ['movie_id_embed_layer[0][0]']   \n",
            "                                                                                                  \n",
            " movie_categories_fc_layer (Den  (None, 1, 32)       1056        ['lambda[0][0]']                 \n",
            " se)                                                                                              \n",
            "                                                                                                  \n",
            " dropout_layer (Dropout)        (None, 1, 32)        0           ['pool_layer_flat[0][0]']        \n",
            "                                                                                                  \n",
            " concatenate (Concatenate)      (None, 1, 128)       0           ['uid_fc_layer[0][0]',           \n",
            "                                                                  'gender_fc_layer[0][0]',        \n",
            "                                                                  'age_fc_layer[0][0]',           \n",
            "                                                                  'job_fc_layer[0][0]']           \n",
            "                                                                                                  \n",
            " concatenate_1 (Concatenate)    (None, 1, 96)        0           ['movie_id_fc_layer[0][0]',      \n",
            "                                                                  'movie_categories_fc_layer[0][0]\n",
            "                                                                 ',                               \n",
            "                                                                  'dropout_layer[0][0]']          \n",
            "                                                                                                  \n",
            " dense (Dense)                  (None, 1, 200)       25800       ['concatenate[0][0]']            \n",
            "                                                                                                  \n",
            " dense_1 (Dense)                (None, 1, 200)       19400       ['concatenate_1[0][0]']          \n",
            "                                                                                                  \n",
            " user_combine_layer_flat (Resha  (None, 200)         0           ['dense[0][0]']                  \n",
            " pe)                                                                                              \n",
            "                                                                                                  \n",
            " movie_combine_layer_flat (Resh  (None, 200)         0           ['dense_1[0][0]']                \n",
            " ape)                                                                                             \n",
            "                                                                                                  \n",
            " inference (Lambda)             (None,)              0           ['user_combine_layer_flat[0][0]',\n",
            "                                                                  'movie_combine_layer_flat[0][0]'\n",
            "                                                                 ]                                \n",
            "                                                                                                  \n",
            " lambda_1 (Lambda)              (None, 1)            0           ['inference[0][0]']              \n",
            "                                                                                                  \n",
            "==================================================================================================\n",
            "Total params: 541,456\n",
            "Trainable params: 541,456\n",
            "Non-trainable params: 0\n",
            "__________________________________________________________________________________________________\n",
            "Step #50\tEpoch   0 Batch   49/3125   Loss: 10.573490 mae: 3.350447 (8.35745974752099 steps/sec)\n",
            "Step #100\tEpoch   0 Batch   99/3125   Loss: 2.095356 mae: 2.145496 (15.577579152247433 steps/sec)\n",
            "Step #150\tEpoch   0 Batch  149/3125   Loss: 1.269889 mae: 0.956281 (24.0069188030837 steps/sec)\n",
            "Step #200\tEpoch   0 Batch  199/3125   Loss: 1.323549 mae: 0.924625 (24.303140289762364 steps/sec)\n",
            "Step #250\tEpoch   0 Batch  249/3125   Loss: 1.134441 mae: 0.912317 (24.227969943782938 steps/sec)\n",
            "Step #300\tEpoch   0 Batch  299/3125   Loss: 1.300297 mae: 0.907919 (26.852248306267068 steps/sec)\n",
            "Step #350\tEpoch   0 Batch  349/3125   Loss: 1.221368 mae: 0.902767 (19.568256821427266 steps/sec)\n",
            "Step #400\tEpoch   0 Batch  399/3125   Loss: 1.314755 mae: 0.896733 (18.67571276253081 steps/sec)\n",
            "Step #450\tEpoch   0 Batch  449/3125   Loss: 1.058319 mae: 0.889457 (26.6019741369414 steps/sec)\n",
            "Step #500\tEpoch   0 Batch  499/3125   Loss: 1.033117 mae: 0.874705 (27.004407180977708 steps/sec)\n",
            "Step #550\tEpoch   0 Batch  549/3125   Loss: 1.051933 mae: 0.859340 (26.42394518833666 steps/sec)\n",
            "Step #600\tEpoch   0 Batch  599/3125   Loss: 0.904507 mae: 0.853971 (24.849306456002793 steps/sec)\n",
            "Step #650\tEpoch   0 Batch  649/3125   Loss: 1.039669 mae: 0.839535 (21.976316759619994 steps/sec)\n",
            "Step #700\tEpoch   0 Batch  699/3125   Loss: 0.919967 mae: 0.823741 (17.171522230678626 steps/sec)\n",
            "Step #750\tEpoch   0 Batch  749/3125   Loss: 0.945983 mae: 0.806812 (24.47247093244092 steps/sec)\n",
            "Step #800\tEpoch   0 Batch  799/3125   Loss: 1.040331 mae: 0.801675 (24.806509645862764 steps/sec)\n",
            "Step #850\tEpoch   0 Batch  849/3125   Loss: 1.052759 mae: 0.792885 (27.027164262084952 steps/sec)\n",
            "Step #900\tEpoch   0 Batch  899/3125   Loss: 0.996374 mae: 0.783478 (26.45701078893453 steps/sec)\n",
            "Step #950\tEpoch   0 Batch  949/3125   Loss: 0.790062 mae: 0.774044 (20.020135149506253 steps/sec)\n",
            "Step #1000\tEpoch   0 Batch  999/3125   Loss: 0.973301 mae: 0.770541 (18.121328579904084 steps/sec)\n",
            "Step #1050\tEpoch   0 Batch 1049/3125   Loss: 0.941596 mae: 0.770102 (28.14040305354246 steps/sec)\n",
            "Step #1100\tEpoch   0 Batch 1099/3125   Loss: 0.907747 mae: 0.761545 (26.462238712218966 steps/sec)\n",
            "Step #1150\tEpoch   0 Batch 1149/3125   Loss: 0.864321 mae: 0.766488 (26.84039861694296 steps/sec)\n",
            "Step #1200\tEpoch   0 Batch 1199/3125   Loss: 0.834823 mae: 0.752279 (27.34170178219252 steps/sec)\n",
            "Step #1250\tEpoch   0 Batch 1249/3125   Loss: 0.984300 mae: 0.758097 (27.773945212877752 steps/sec)\n",
            "Step #1300\tEpoch   0 Batch 1299/3125   Loss: 0.878222 mae: 0.759820 (15.953436685650159 steps/sec)\n",
            "Step #1350\tEpoch   0 Batch 1349/3125   Loss: 0.952114 mae: 0.743578 (28.21047443431135 steps/sec)\n",
            "Step #1400\tEpoch   0 Batch 1399/3125   Loss: 0.883782 mae: 0.749632 (26.058236247448573 steps/sec)\n",
            "Step #1450\tEpoch   0 Batch 1449/3125   Loss: 0.859738 mae: 0.748263 (26.501025150139476 steps/sec)\n",
            "Step #1500\tEpoch   0 Batch 1499/3125   Loss: 0.868901 mae: 0.746219 (25.672316207128382 steps/sec)\n",
            "Step #1550\tEpoch   0 Batch 1549/3125   Loss: 0.912972 mae: 0.745180 (28.34185284171013 steps/sec)\n",
            "Step #1600\tEpoch   0 Batch 1599/3125   Loss: 0.860076 mae: 0.743469 (15.643136181943117 steps/sec)\n",
            "Step #1650\tEpoch   0 Batch 1649/3125   Loss: 0.926653 mae: 0.743102 (25.620253510954218 steps/sec)\n",
            "Step #1700\tEpoch   0 Batch 1699/3125   Loss: 0.924155 mae: 0.732819 (27.819520246884657 steps/sec)\n",
            "Step #1750\tEpoch   0 Batch 1749/3125   Loss: 0.880634 mae: 0.738565 (26.32240741823889 steps/sec)\n",
            "Step #1800\tEpoch   0 Batch 1799/3125   Loss: 0.988127 mae: 0.742107 (26.2946776508681 steps/sec)\n",
            "Step #1850\tEpoch   0 Batch 1849/3125   Loss: 0.795955 mae: 0.740050 (27.994418074673604 steps/sec)\n",
            "Step #1900\tEpoch   0 Batch 1899/3125   Loss: 0.889424 mae: 0.737238 (15.699361867569124 steps/sec)\n",
            "Step #1950\tEpoch   0 Batch 1949/3125   Loss: 0.831964 mae: 0.731784 (24.612697917167903 steps/sec)\n",
            "Step #2000\tEpoch   0 Batch 1999/3125   Loss: 0.945167 mae: 0.738616 (25.293931693483888 steps/sec)\n",
            "Step #2050\tEpoch   0 Batch 2049/3125   Loss: 0.810190 mae: 0.741568 (24.733135600526424 steps/sec)\n",
            "Step #2100\tEpoch   0 Batch 2099/3125   Loss: 0.877626 mae: 0.726858 (24.36915253902471 steps/sec)\n",
            "Step #2150\tEpoch   0 Batch 2149/3125   Loss: 0.783896 mae: 0.726338 (26.03682882739715 steps/sec)\n",
            "Step #2200\tEpoch   0 Batch 2199/3125   Loss: 0.784500 mae: 0.727552 (15.540161923123494 steps/sec)\n",
            "Step #2250\tEpoch   0 Batch 2249/3125   Loss: 0.812641 mae: 0.729297 (27.391229956023086 steps/sec)\n",
            "Step #2300\tEpoch   0 Batch 2299/3125   Loss: 0.886207 mae: 0.738481 (28.0399140706445 steps/sec)\n",
            "Step #2350\tEpoch   0 Batch 2349/3125   Loss: 0.845576 mae: 0.732778 (25.70956063988506 steps/sec)\n",
            "Step #2400\tEpoch   0 Batch 2399/3125   Loss: 0.797286 mae: 0.735071 (26.241425387971436 steps/sec)\n",
            "Step #2450\tEpoch   0 Batch 2449/3125   Loss: 0.850464 mae: 0.724794 (25.89077182488193 steps/sec)\n",
            "Step #2500\tEpoch   0 Batch 2499/3125   Loss: 0.933022 mae: 0.732586 (14.743988182604381 steps/sec)\n",
            "Step #2550\tEpoch   0 Batch 2549/3125   Loss: 0.684638 mae: 0.735324 (23.550169342305033 steps/sec)\n",
            "Step #2600\tEpoch   0 Batch 2599/3125   Loss: 1.016199 mae: 0.733970 (24.213689430041594 steps/sec)\n",
            "Step #2650\tEpoch   0 Batch 2649/3125   Loss: 0.913558 mae: 0.729105 (24.62585967025111 steps/sec)\n",
            "Step #2700\tEpoch   0 Batch 2699/3125   Loss: 0.798771 mae: 0.729418 (28.09195758890688 steps/sec)\n",
            "Step #2750\tEpoch   0 Batch 2749/3125   Loss: 1.023985 mae: 0.726520 (24.247130299397405 steps/sec)\n",
            "Step #2800\tEpoch   0 Batch 2799/3125   Loss: 0.853674 mae: 0.731041 (15.609092690673354 steps/sec)\n",
            "Step #2850\tEpoch   0 Batch 2849/3125   Loss: 0.850253 mae: 0.726355 (25.467832766795073 steps/sec)\n",
            "Step #2900\tEpoch   0 Batch 2899/3125   Loss: 0.880556 mae: 0.724521 (24.570207765474038 steps/sec)\n",
            "Step #2950\tEpoch   0 Batch 2949/3125   Loss: 0.876574 mae: 0.729165 (26.045498199861175 steps/sec)\n",
            "Step #3000\tEpoch   0 Batch 2999/3125   Loss: 0.752975 mae: 0.725524 (26.197833145264763 steps/sec)\n",
            "Step #3050\tEpoch   0 Batch 3049/3125   Loss: 0.809216 mae: 0.716373 (24.953829242744845 steps/sec)\n",
            "Step #3100\tEpoch   0 Batch 3099/3125   Loss: 0.895448 mae: 0.723746 (15.986466534982897 steps/sec)\n",
            "\n",
            "Train time for epoch #1 (3125 total steps): 139.12604784965515\n",
            "Model test set loss: 0.845633 mae: 0.729522\n",
            "best loss = 0.8456328511238098\n",
            "Step #3150\tEpoch   1 Batch   24/3125   Loss: 0.750213 mae: 0.729427 (51.28372418545609 steps/sec)\n",
            "Step #3200\tEpoch   1 Batch   74/3125   Loss: 0.885385 mae: 0.722487 (28.124971501558093 steps/sec)\n",
            "Step #3250\tEpoch   1 Batch  124/3125   Loss: 0.730853 mae: 0.729556 (28.071325178381212 steps/sec)\n",
            "Step #3300\tEpoch   1 Batch  174/3125   Loss: 0.764648 mae: 0.726363 (28.095822720571725 steps/sec)\n",
            "Step #3350\tEpoch   1 Batch  224/3125   Loss: 0.616883 mae: 0.722512 (19.958612435455652 steps/sec)\n",
            "Step #3400\tEpoch   1 Batch  274/3125   Loss: 0.850069 mae: 0.722057 (19.459743150008062 steps/sec)\n",
            "Step #3450\tEpoch   1 Batch  324/3125   Loss: 0.828875 mae: 0.724603 (26.71458383172739 steps/sec)\n",
            "Step #3500\tEpoch   1 Batch  374/3125   Loss: 0.817859 mae: 0.726893 (26.5531955410578 steps/sec)\n",
            "Step #3550\tEpoch   1 Batch  424/3125   Loss: 0.884515 mae: 0.728125 (26.066845363464438 steps/sec)\n",
            "Step #3600\tEpoch   1 Batch  474/3125   Loss: 0.806232 mae: 0.722931 (26.346507977626814 steps/sec)\n",
            "Step #3650\tEpoch   1 Batch  524/3125   Loss: 0.838331 mae: 0.718202 (20.6337334039375 steps/sec)\n",
            "Step #3700\tEpoch   1 Batch  574/3125   Loss: 0.906934 mae: 0.729174 (18.09380834549853 steps/sec)\n",
            "Step #3750\tEpoch   1 Batch  624/3125   Loss: 0.658111 mae: 0.722308 (28.43474482106866 steps/sec)\n",
            "Step #3800\tEpoch   1 Batch  674/3125   Loss: 0.847521 mae: 0.725677 (27.952943823453634 steps/sec)\n",
            "Step #3850\tEpoch   1 Batch  724/3125   Loss: 0.670231 mae: 0.723961 (25.45565598974176 steps/sec)\n",
            "Step #3900\tEpoch   1 Batch  774/3125   Loss: 0.785841 mae: 0.717284 (28.33012565533152 steps/sec)\n",
            "Step #3950\tEpoch   1 Batch  824/3125   Loss: 0.860753 mae: 0.722479 (26.96393330658136 steps/sec)\n",
            "Step #4000\tEpoch   1 Batch  874/3125   Loss: 0.786148 mae: 0.722261 (15.836165186189449 steps/sec)\n",
            "Step #4050\tEpoch   1 Batch  924/3125   Loss: 0.932293 mae: 0.726262 (24.83705196915597 steps/sec)\n",
            "Step #4100\tEpoch   1 Batch  974/3125   Loss: 0.758909 mae: 0.723041 (24.872833954970744 steps/sec)\n",
            "Step #4150\tEpoch   1 Batch 1024/3125   Loss: 0.817805 mae: 0.721997 (24.614020970517895 steps/sec)\n",
            "Step #4200\tEpoch   1 Batch 1074/3125   Loss: 0.857390 mae: 0.721321 (26.009922990410885 steps/sec)\n",
            "Step #4250\tEpoch   1 Batch 1124/3125   Loss: 0.853413 mae: 0.725513 (23.246246590769903 steps/sec)\n",
            "Step #4300\tEpoch   1 Batch 1174/3125   Loss: 0.779341 mae: 0.726232 (16.160841504999325 steps/sec)\n",
            "Step #4350\tEpoch   1 Batch 1224/3125   Loss: 0.769634 mae: 0.716405 (23.928471265209794 steps/sec)\n",
            "Step #4400\tEpoch   1 Batch 1274/3125   Loss: 0.948465 mae: 0.734557 (25.955702755102735 steps/sec)\n",
            "Step #4450\tEpoch   1 Batch 1324/3125   Loss: 0.785603 mae: 0.720232 (26.503158538061818 steps/sec)\n",
            "Step #4500\tEpoch   1 Batch 1374/3125   Loss: 0.801750 mae: 0.718139 (24.88807113508674 steps/sec)\n",
            "Step #4550\tEpoch   1 Batch 1424/3125   Loss: 0.827678 mae: 0.720442 (18.268372648139273 steps/sec)\n",
            "Step #4600\tEpoch   1 Batch 1474/3125   Loss: 0.724823 mae: 0.721879 (18.72816824016827 steps/sec)\n",
            "Step #4650\tEpoch   1 Batch 1524/3125   Loss: 0.744890 mae: 0.718711 (26.15294711252235 steps/sec)\n",
            "Step #4700\tEpoch   1 Batch 1574/3125   Loss: 0.790352 mae: 0.726592 (24.81575313369361 steps/sec)\n",
            "Step #4750\tEpoch   1 Batch 1624/3125   Loss: 0.903505 mae: 0.714921 (24.395950263322224 steps/sec)\n",
            "Step #4800\tEpoch   1 Batch 1674/3125   Loss: 0.784009 mae: 0.721311 (25.782475850504934 steps/sec)\n",
            "Step #4850\tEpoch   1 Batch 1724/3125   Loss: 0.914037 mae: 0.719004 (18.72195369825969 steps/sec)\n",
            "Step #4900\tEpoch   1 Batch 1774/3125   Loss: 0.757855 mae: 0.719785 (20.796843154972752 steps/sec)\n",
            "Step #4950\tEpoch   1 Batch 1824/3125   Loss: 0.736829 mae: 0.723553 (26.038183339477172 steps/sec)\n",
            "Step #5000\tEpoch   1 Batch 1874/3125   Loss: 0.915255 mae: 0.721393 (26.7066026875312 steps/sec)\n",
            "Step #5050\tEpoch   1 Batch 1924/3125   Loss: 1.011628 mae: 0.718470 (23.13166345196248 steps/sec)\n",
            "Step #5100\tEpoch   1 Batch 1974/3125   Loss: 0.829791 mae: 0.716521 (24.799173184304692 steps/sec)\n",
            "Step #5150\tEpoch   1 Batch 2024/3125   Loss: 0.869051 mae: 0.725818 (13.561921041066167 steps/sec)\n",
            "Step #5200\tEpoch   1 Batch 2074/3125   Loss: 0.892250 mae: 0.714396 (27.90353713236561 steps/sec)\n",
            "Step #5250\tEpoch   1 Batch 2124/3125   Loss: 0.656676 mae: 0.719404 (24.177767611886992 steps/sec)\n",
            "Step #5300\tEpoch   1 Batch 2174/3125   Loss: 0.740773 mae: 0.711428 (24.004679256858925 steps/sec)\n",
            "Step #5350\tEpoch   1 Batch 2224/3125   Loss: 0.718866 mae: 0.717769 (27.831349205032637 steps/sec)\n",
            "Step #5400\tEpoch   1 Batch 2274/3125   Loss: 0.848986 mae: 0.718004 (26.151345836270522 steps/sec)\n",
            "Step #5450\tEpoch   1 Batch 2324/3125   Loss: 0.684504 mae: 0.726868 (16.073101020663742 steps/sec)\n",
            "Step #5500\tEpoch   1 Batch 2374/3125   Loss: 0.779380 mae: 0.718119 (24.66556007051698 steps/sec)\n",
            "Step #5550\tEpoch   1 Batch 2424/3125   Loss: 0.779436 mae: 0.719963 (24.363694197736837 steps/sec)\n",
            "Step #5600\tEpoch   1 Batch 2474/3125   Loss: 0.889539 mae: 0.713212 (25.232371857537068 steps/sec)\n",
            "Step #5650\tEpoch   1 Batch 2524/3125   Loss: 0.786018 mae: 0.723404 (28.14800995108346 steps/sec)\n",
            "Step #5700\tEpoch   1 Batch 2574/3125   Loss: 0.893757 mae: 0.724349 (25.513064978538704 steps/sec)\n",
            "Step #5750\tEpoch   1 Batch 2624/3125   Loss: 0.976748 mae: 0.723656 (15.29945509581565 steps/sec)\n",
            "Step #5800\tEpoch   1 Batch 2674/3125   Loss: 0.839862 mae: 0.720277 (25.839453381772124 steps/sec)\n",
            "Step #5850\tEpoch   1 Batch 2724/3125   Loss: 0.802680 mae: 0.712897 (25.47998095397084 steps/sec)\n",
            "Step #5900\tEpoch   1 Batch 2774/3125   Loss: 0.783752 mae: 0.718611 (28.250311680596596 steps/sec)\n",
            "Step #5950\tEpoch   1 Batch 2824/3125   Loss: 0.869257 mae: 0.726907 (26.728431165003663 steps/sec)\n",
            "Step #6000\tEpoch   1 Batch 2874/3125   Loss: 0.859201 mae: 0.710251 (25.217504754243347 steps/sec)\n",
            "Step #6050\tEpoch   1 Batch 2924/3125   Loss: 0.843704 mae: 0.716785 (15.621527869854766 steps/sec)\n",
            "Step #6100\tEpoch   1 Batch 2974/3125   Loss: 0.755207 mae: 0.720714 (25.2083716980869 steps/sec)\n",
            "Step #6150\tEpoch   1 Batch 3024/3125   Loss: 0.727765 mae: 0.711064 (25.32173906323842 steps/sec)\n",
            "Step #6200\tEpoch   1 Batch 3074/3125   Loss: 0.824472 mae: 0.710843 (26.066349650572164 steps/sec)\n",
            "Step #6250\tEpoch   1 Batch 3124/3125   Loss: 0.856593 mae: 0.713969 (28.24407957707792 steps/sec)\n",
            "\n",
            "Train time for epoch #2 (6250 total steps): 134.02598547935486\n",
            "Model test set loss: 0.832870 mae: 0.722571\n",
            "best loss = 0.8328704833984375\n",
            "Step #6300\tEpoch   2 Batch   49/3125   Loss: 0.921463 mae: 0.722273 (25.915186496114178 steps/sec)\n",
            "Step #6350\tEpoch   2 Batch   99/3125   Loss: 1.011371 mae: 0.710618 (16.26835866020189 steps/sec)\n",
            "Step #6400\tEpoch   2 Batch  149/3125   Loss: 0.792732 mae: 0.722900 (27.56768019076451 steps/sec)\n",
            "Step #6450\tEpoch   2 Batch  199/3125   Loss: 0.872888 mae: 0.717874 (25.78518623620863 steps/sec)\n",
            "Step #6500\tEpoch   2 Batch  249/3125   Loss: 0.824524 mae: 0.710882 (25.04145212223164 steps/sec)\n",
            "Step #6550\tEpoch   2 Batch  299/3125   Loss: 0.784239 mae: 0.717692 (26.182843128319593 steps/sec)\n",
            "Step #6600\tEpoch   2 Batch  349/3125   Loss: 0.903824 mae: 0.718463 (22.76773985383671 steps/sec)\n",
            "Step #6650\tEpoch   2 Batch  399/3125   Loss: 0.923209 mae: 0.718472 (15.590716338146677 steps/sec)\n",
            "Step #6700\tEpoch   2 Batch  449/3125   Loss: 0.800258 mae: 0.723968 (27.432477437539717 steps/sec)\n",
            "Step #6750\tEpoch   2 Batch  499/3125   Loss: 0.799186 mae: 0.710409 (27.87049253704367 steps/sec)\n",
            "Step #6800\tEpoch   2 Batch  549/3125   Loss: 0.784852 mae: 0.711508 (27.678422478582124 steps/sec)\n",
            "Step #6850\tEpoch   2 Batch  599/3125   Loss: 0.727417 mae: 0.724056 (26.189176549335922 steps/sec)\n",
            "Step #6900\tEpoch   2 Batch  649/3125   Loss: 0.780989 mae: 0.719430 (27.953357398758733 steps/sec)\n",
            "Step #6950\tEpoch   2 Batch  699/3125   Loss: 0.773715 mae: 0.720084 (15.754482865969193 steps/sec)\n",
            "Step #7000\tEpoch   2 Batch  749/3125   Loss: 0.780645 mae: 0.706569 (24.891178716629305 steps/sec)\n",
            "Step #7050\tEpoch   2 Batch  799/3125   Loss: 0.895854 mae: 0.717479 (26.08200124119936 steps/sec)\n",
            "Step #7100\tEpoch   2 Batch  849/3125   Loss: 0.940705 mae: 0.716261 (26.50809645466951 steps/sec)\n",
            "Step #7150\tEpoch   2 Batch  899/3125   Loss: 0.886129 mae: 0.715118 (27.095515687709153 steps/sec)\n",
            "Step #7200\tEpoch   2 Batch  949/3125   Loss: 0.699001 mae: 0.714225 (24.922507552564912 steps/sec)\n",
            "Step #7250\tEpoch   2 Batch  999/3125   Loss: 0.866110 mae: 0.714035 (15.058259104201202 steps/sec)\n",
            "Step #7300\tEpoch   2 Batch 1049/3125   Loss: 0.886698 mae: 0.720867 (24.782480658776237 steps/sec)\n",
            "Step #7350\tEpoch   2 Batch 1099/3125   Loss: 0.794394 mae: 0.714178 (24.889220140886273 steps/sec)\n",
            "Step #7400\tEpoch   2 Batch 1149/3125   Loss: 0.746274 mae: 0.719987 (25.41453470292841 steps/sec)\n",
            "Step #7450\tEpoch   2 Batch 1199/3125   Loss: 0.830359 mae: 0.710384 (26.599419953978856 steps/sec)\n",
            "Step #7500\tEpoch   2 Batch 1249/3125   Loss: 0.936789 mae: 0.721276 (25.805073473298176 steps/sec)\n",
            "Step #7550\tEpoch   2 Batch 1299/3125   Loss: 0.793911 mae: 0.724577 (15.916657103703205 steps/sec)\n",
            "Step #7600\tEpoch   2 Batch 1349/3125   Loss: 0.852102 mae: 0.702924 (25.933036281237182 steps/sec)\n",
            "Step #7650\tEpoch   2 Batch 1399/3125   Loss: 0.816216 mae: 0.717085 (25.583872666205043 steps/sec)\n",
            "Step #7700\tEpoch   2 Batch 1449/3125   Loss: 0.829672 mae: 0.715827 (26.356779321896887 steps/sec)\n",
            "Step #7750\tEpoch   2 Batch 1499/3125   Loss: 0.845265 mae: 0.713687 (25.17842126772867 steps/sec)\n",
            "Step #7800\tEpoch   2 Batch 1549/3125   Loss: 0.904918 mae: 0.714940 (28.279949863026815 steps/sec)\n",
            "Step #7850\tEpoch   2 Batch 1599/3125   Loss: 0.835408 mae: 0.712631 (15.547614844768281 steps/sec)\n",
            "Step #7900\tEpoch   2 Batch 1649/3125   Loss: 0.865273 mae: 0.714791 (26.62142832842749 steps/sec)\n",
            "Step #7950\tEpoch   2 Batch 1699/3125   Loss: 0.867432 mae: 0.709212 (27.745809125314914 steps/sec)\n",
            "Step #8000\tEpoch   2 Batch 1749/3125   Loss: 0.831301 mae: 0.711878 (24.23565285735203 steps/sec)\n",
            "Step #8050\tEpoch   2 Batch 1799/3125   Loss: 0.923600 mae: 0.715155 (20.106014388036744 steps/sec)\n",
            "Step #8100\tEpoch   2 Batch 1849/3125   Loss: 0.769633 mae: 0.715139 (16.897692492021918 steps/sec)\n",
            "Step #8150\tEpoch   2 Batch 1899/3125   Loss: 0.862172 mae: 0.711532 (18.2524664936594 steps/sec)\n",
            "Step #8200\tEpoch   2 Batch 1949/3125   Loss: 0.800600 mae: 0.707672 (24.33936809970317 steps/sec)\n",
            "Step #8250\tEpoch   2 Batch 1999/3125   Loss: 0.905359 mae: 0.715791 (24.442487684944368 steps/sec)\n",
            "Step #8300\tEpoch   2 Batch 2049/3125   Loss: 0.773344 mae: 0.719598 (26.390437412761827 steps/sec)\n",
            "Step #8350\tEpoch   2 Batch 2099/3125   Loss: 0.864616 mae: 0.704782 (26.871691654759797 steps/sec)\n",
            "Step #8400\tEpoch   2 Batch 2149/3125   Loss: 0.730705 mae: 0.703357 (16.636966373471633 steps/sec)\n",
            "Step #8450\tEpoch   2 Batch 2199/3125   Loss: 0.760453 mae: 0.708250 (23.776360142779335 steps/sec)\n",
            "Step #8500\tEpoch   2 Batch 2249/3125   Loss: 0.766771 mae: 0.709261 (26.28684654908929 steps/sec)\n",
            "Step #8550\tEpoch   2 Batch 2299/3125   Loss: 0.882977 mae: 0.718616 (25.313761673421343 steps/sec)\n",
            "Step #8600\tEpoch   2 Batch 2349/3125   Loss: 0.803820 mae: 0.713919 (24.474547265363054 steps/sec)\n",
            "Step #8650\tEpoch   2 Batch 2399/3125   Loss: 0.745652 mae: 0.712869 (25.526884421865887 steps/sec)\n",
            "Step #8700\tEpoch   2 Batch 2449/3125   Loss: 0.796054 mae: 0.704426 (16.715321171540328 steps/sec)\n",
            "Step #8750\tEpoch   2 Batch 2499/3125   Loss: 0.892322 mae: 0.714520 (23.448185334798936 steps/sec)\n",
            "Step #8800\tEpoch   2 Batch 2549/3125   Loss: 0.652975 mae: 0.717608 (28.08558075351754 steps/sec)\n",
            "Step #8850\tEpoch   2 Batch 2599/3125   Loss: 0.957683 mae: 0.714085 (27.87157041394057 steps/sec)\n",
            "Step #8900\tEpoch   2 Batch 2649/3125   Loss: 0.880237 mae: 0.712402 (25.54144673222276 steps/sec)\n",
            "Step #8950\tEpoch   2 Batch 2699/3125   Loss: 0.765534 mae: 0.707697 (24.721939596784566 steps/sec)\n",
            "Step #9000\tEpoch   2 Batch 2749/3125   Loss: 0.959554 mae: 0.708464 (16.972195295101372 steps/sec)\n",
            "Step #9050\tEpoch   2 Batch 2799/3125   Loss: 0.823483 mae: 0.714071 (21.69639212150092 steps/sec)\n",
            "Step #9100\tEpoch   2 Batch 2849/3125   Loss: 0.810218 mae: 0.709252 (25.646136121584938 steps/sec)\n",
            "Step #9150\tEpoch   2 Batch 2899/3125   Loss: 0.836690 mae: 0.708002 (27.331510582731518 steps/sec)\n",
            "Step #9200\tEpoch   2 Batch 2949/3125   Loss: 0.852131 mae: 0.711176 (23.99314740392253 steps/sec)\n",
            "Step #9250\tEpoch   2 Batch 2999/3125   Loss: 0.736874 mae: 0.709051 (26.093395141704736 steps/sec)\n",
            "Step #9300\tEpoch   2 Batch 3049/3125   Loss: 0.773598 mae: 0.700465 (15.967156181502572 steps/sec)\n",
            "Step #9350\tEpoch   2 Batch 3099/3125   Loss: 0.866999 mae: 0.706226 (22.31079698348397 steps/sec)\n",
            "\n",
            "Train time for epoch #3 (9375 total steps): 136.08608746528625\n",
            "Model test set loss: 0.820230 mae: 0.714936\n",
            "best loss = 0.8202300667762756\n",
            "Step #9400\tEpoch   3 Batch   24/3125   Loss: 0.717068 mae: 0.714699 (49.501760879212185 steps/sec)\n",
            "Step #9450\tEpoch   3 Batch   74/3125   Loss: 0.842479 mae: 0.703964 (23.39947790700425 steps/sec)\n",
            "Step #9500\tEpoch   3 Batch  124/3125   Loss: 0.714871 mae: 0.712757 (25.299210545712793 steps/sec)\n",
            "Step #9550\tEpoch   3 Batch  174/3125   Loss: 0.746221 mae: 0.711263 (18.22246918718646 steps/sec)\n",
            "Step #9600\tEpoch   3 Batch  224/3125   Loss: 0.621729 mae: 0.707324 (19.24688903518034 steps/sec)\n",
            "Step #9650\tEpoch   3 Batch  274/3125   Loss: 0.797886 mae: 0.706881 (26.516998731019022 steps/sec)\n",
            "Step #9700\tEpoch   3 Batch  324/3125   Loss: 0.782897 mae: 0.711052 (25.118396448561683 steps/sec)\n",
            "Step #9750\tEpoch   3 Batch  374/3125   Loss: 0.814849 mae: 0.711172 (26.825604635619698 steps/sec)\n",
            "Step #9800\tEpoch   3 Batch  424/3125   Loss: 0.849392 mae: 0.714632 (25.059184140705543 steps/sec)\n",
            "Step #9850\tEpoch   3 Batch  474/3125   Loss: 0.791728 mae: 0.708817 (16.19772614928324 steps/sec)\n",
            "Step #9900\tEpoch   3 Batch  524/3125   Loss: 0.831975 mae: 0.702328 (25.346458068067893 steps/sec)\n",
            "Step #9950\tEpoch   3 Batch  574/3125   Loss: 0.877970 mae: 0.711740 (26.993934206249858 steps/sec)\n",
            "Step #10000\tEpoch   3 Batch  624/3125   Loss: 0.638129 mae: 0.708137 (25.684223057126903 steps/sec)\n",
            "Step #10050\tEpoch   3 Batch  674/3125   Loss: 0.832148 mae: 0.712864 (27.496067311577747 steps/sec)\n",
            "Step #10100\tEpoch   3 Batch  724/3125   Loss: 0.664278 mae: 0.707689 (25.016073779782417 steps/sec)\n",
            "Step #10150\tEpoch   3 Batch  774/3125   Loss: 0.762621 mae: 0.702272 (19.089371013038726 steps/sec)\n",
            "Step #10200\tEpoch   3 Batch  824/3125   Loss: 0.810636 mae: 0.707681 (22.635745263244242 steps/sec)\n",
            "Step #10250\tEpoch   3 Batch  874/3125   Loss: 0.744748 mae: 0.706657 (28.397138989113458 steps/sec)\n",
            "Step #10300\tEpoch   3 Batch  924/3125   Loss: 0.898487 mae: 0.711655 (27.052074241919602 steps/sec)\n",
            "Step #10350\tEpoch   3 Batch  974/3125   Loss: 0.749954 mae: 0.708830 (25.132321610001004 steps/sec)\n",
            "Step #10400\tEpoch   3 Batch 1024/3125   Loss: 0.787476 mae: 0.704775 (25.673545053928287 steps/sec)\n",
            "Step #10450\tEpoch   3 Batch 1074/3125   Loss: 0.848744 mae: 0.704992 (19.665991207116452 steps/sec)\n",
            "Step #10500\tEpoch   3 Batch 1124/3125   Loss: 0.813275 mae: 0.710685 (19.342305963325515 steps/sec)\n",
            "Step #10550\tEpoch   3 Batch 1174/3125   Loss: 0.747726 mae: 0.710096 (25.58815236060745 steps/sec)\n",
            "Step #10600\tEpoch   3 Batch 1224/3125   Loss: 0.757257 mae: 0.702907 (24.823002449451508 steps/sec)\n",
            "Step #10650\tEpoch   3 Batch 1274/3125   Loss: 0.893307 mae: 0.719888 (24.705336295716872 steps/sec)\n",
            "Step #10700\tEpoch   3 Batch 1324/3125   Loss: 0.727578 mae: 0.704105 (27.000255949539316 steps/sec)\n",
            "Step #10750\tEpoch   3 Batch 1374/3125   Loss: 0.759324 mae: 0.702645 (20.16295718859719 steps/sec)\n",
            "Step #10800\tEpoch   3 Batch 1424/3125   Loss: 0.804924 mae: 0.706241 (18.78453939339382 steps/sec)\n",
            "Step #10850\tEpoch   3 Batch 1474/3125   Loss: 0.694900 mae: 0.706733 (24.73063019738966 steps/sec)\n",
            "Step #10900\tEpoch   3 Batch 1524/3125   Loss: 0.706596 mae: 0.702504 (25.77583702100609 steps/sec)\n",
            "Step #10950\tEpoch   3 Batch 1574/3125   Loss: 0.770651 mae: 0.712086 (25.400965820796277 steps/sec)\n",
            "Step #11000\tEpoch   3 Batch 1624/3125   Loss: 0.847635 mae: 0.699096 (27.30554315733884 steps/sec)\n",
            "Step #11050\tEpoch   3 Batch 1674/3125   Loss: 0.728344 mae: 0.707436 (19.613110109858187 steps/sec)\n",
            "Step #11100\tEpoch   3 Batch 1724/3125   Loss: 0.877564 mae: 0.703611 (21.4477742618159 steps/sec)\n",
            "Step #11150\tEpoch   3 Batch 1774/3125   Loss: 0.762318 mae: 0.704904 (24.40934708972514 steps/sec)\n",
            "Step #11200\tEpoch   3 Batch 1824/3125   Loss: 0.702344 mae: 0.707180 (26.1278254503702 steps/sec)\n",
            "Step #11250\tEpoch   3 Batch 1874/3125   Loss: 0.868847 mae: 0.707006 (25.52808074030694 steps/sec)\n",
            "Step #11300\tEpoch   3 Batch 1924/3125   Loss: 0.977513 mae: 0.701721 (27.454858555541854 steps/sec)\n",
            "Step #11350\tEpoch   3 Batch 1974/3125   Loss: 0.784375 mae: 0.700429 (19.21028108823988 steps/sec)\n",
            "Step #11400\tEpoch   3 Batch 2024/3125   Loss: 0.840445 mae: 0.710318 (18.735745962770654 steps/sec)\n",
            "Step #11450\tEpoch   3 Batch 2074/3125   Loss: 0.858993 mae: 0.699129 (26.297513290755433 steps/sec)\n",
            "Step #11500\tEpoch   3 Batch 2124/3125   Loss: 0.634754 mae: 0.702743 (27.671713496470694 steps/sec)\n",
            "Step #11550\tEpoch   3 Batch 2174/3125   Loss: 0.717706 mae: 0.697180 (28.418418895889616 steps/sec)\n",
            "Step #11600\tEpoch   3 Batch 2224/3125   Loss: 0.689382 mae: 0.703415 (26.071190948121966 steps/sec)\n",
            "Step #11650\tEpoch   3 Batch 2274/3125   Loss: 0.815343 mae: 0.703063 (19.159463888170194 steps/sec)\n",
            "Step #11700\tEpoch   3 Batch 2324/3125   Loss: 0.662756 mae: 0.711015 (17.579487557776744 steps/sec)\n",
            "Step #11750\tEpoch   3 Batch 2374/3125   Loss: 0.752486 mae: 0.703569 (27.833831461310925 steps/sec)\n",
            "Step #11800\tEpoch   3 Batch 2424/3125   Loss: 0.743861 mae: 0.702617 (25.33430217633305 steps/sec)\n",
            "Step #11850\tEpoch   3 Batch 2474/3125   Loss: 0.864369 mae: 0.698958 (25.77309059143911 steps/sec)\n",
            "Step #11900\tEpoch   3 Batch 2524/3125   Loss: 0.765743 mae: 0.707351 (25.598693816648517 steps/sec)\n",
            "Step #11950\tEpoch   3 Batch 2574/3125   Loss: 0.878023 mae: 0.710636 (19.065662947874237 steps/sec)\n",
            "Step #12000\tEpoch   3 Batch 2624/3125   Loss: 0.941874 mae: 0.708810 (19.579324312994782 steps/sec)\n",
            "Step #12050\tEpoch   3 Batch 2674/3125   Loss: 0.799532 mae: 0.703943 (25.381324644520795 steps/sec)\n",
            "Step #12100\tEpoch   3 Batch 2724/3125   Loss: 0.769695 mae: 0.695540 (24.749516345475374 steps/sec)\n",
            "Step #12150\tEpoch   3 Batch 2774/3125   Loss: 0.732067 mae: 0.703366 (28.039040564751183 steps/sec)\n",
            "Step #12200\tEpoch   3 Batch 2824/3125   Loss: 0.800256 mae: 0.711952 (28.496170280879586 steps/sec)\n",
            "Step #12250\tEpoch   3 Batch 2874/3125   Loss: 0.815293 mae: 0.695659 (17.163824978667492 steps/sec)\n",
            "Step #12300\tEpoch   3 Batch 2924/3125   Loss: 0.832696 mae: 0.701759 (19.12552089783663 steps/sec)\n",
            "Step #12350\tEpoch   3 Batch 2974/3125   Loss: 0.731023 mae: 0.706056 (26.20629570305383 steps/sec)\n",
            "Step #12400\tEpoch   3 Batch 3024/3125   Loss: 0.732842 mae: 0.696191 (26.181826535062065 steps/sec)\n",
            "Step #12450\tEpoch   3 Batch 3074/3125   Loss: 0.780404 mae: 0.696752 (25.212378152010125 steps/sec)\n",
            "Step #12500\tEpoch   3 Batch 3124/3125   Loss: 0.850779 mae: 0.699200 (26.17985241226047 steps/sec)\n",
            "\n",
            "Train time for epoch #4 (12500 total steps): 133.66509175300598\n",
            "Model test set loss: 0.809443 mae: 0.709545\n",
            "best loss = 0.8094430565834045\n",
            "Step #12550\tEpoch   4 Batch   49/3125   Loss: 0.890304 mae: 0.709041 (23.144057286274 steps/sec)\n",
            "Step #12600\tEpoch   4 Batch   99/3125   Loss: 0.978890 mae: 0.695698 (24.449412213210937 steps/sec)\n",
            "Step #12650\tEpoch   4 Batch  149/3125   Loss: 0.774782 mae: 0.705768 (26.72314862269165 steps/sec)\n",
            "Step #12700\tEpoch   4 Batch  199/3125   Loss: 0.826352 mae: 0.703237 (27.711071508278167 steps/sec)\n",
            "Step #12750\tEpoch   4 Batch  249/3125   Loss: 0.848431 mae: 0.698840 (23.893384666776953 steps/sec)\n",
            "Step #12800\tEpoch   4 Batch  299/3125   Loss: 0.777704 mae: 0.702493 (14.750347191816928 steps/sec)\n",
            "Step #12850\tEpoch   4 Batch  349/3125   Loss: 0.875489 mae: 0.705694 (24.66867616916286 steps/sec)\n",
            "Step #12900\tEpoch   4 Batch  399/3125   Loss: 0.903380 mae: 0.705591 (24.631048469027615 steps/sec)\n",
            "Step #12950\tEpoch   4 Batch  449/3125   Loss: 0.792015 mae: 0.708634 (24.791591944605152 steps/sec)\n",
            "Step #13000\tEpoch   4 Batch  499/3125   Loss: 0.768806 mae: 0.696338 (23.214831885103656 steps/sec)\n",
            "Step #13050\tEpoch   4 Batch  549/3125   Loss: 0.763828 mae: 0.697635 (19.29614921126611 steps/sec)\n",
            "Step #13100\tEpoch   4 Batch  599/3125   Loss: 0.692213 mae: 0.707569 (18.510350481366626 steps/sec)\n",
            "Step #13150\tEpoch   4 Batch  649/3125   Loss: 0.754287 mae: 0.705929 (27.739702200100265 steps/sec)\n",
            "Step #13200\tEpoch   4 Batch  699/3125   Loss: 0.767883 mae: 0.703967 (27.095165614140353 steps/sec)\n",
            "Step #13250\tEpoch   4 Batch  749/3125   Loss: 0.758691 mae: 0.691503 (25.92117641227727 steps/sec)\n",
            "Step #13300\tEpoch   4 Batch  799/3125   Loss: 0.858361 mae: 0.702698 (27.965736787747176 steps/sec)\n",
            "Step #13350\tEpoch   4 Batch  849/3125   Loss: 0.908205 mae: 0.701618 (24.516133708339474 steps/sec)\n",
            "Step #13400\tEpoch   4 Batch  899/3125   Loss: 0.859355 mae: 0.700217 (15.926599267429534 steps/sec)\n",
            "Step #13450\tEpoch   4 Batch  949/3125   Loss: 0.670598 mae: 0.700272 (27.88366983660317 steps/sec)\n",
            "Step #13500\tEpoch   4 Batch  999/3125   Loss: 0.864543 mae: 0.698513 (27.801618740300132 steps/sec)\n",
            "Step #13550\tEpoch   4 Batch 1049/3125   Loss: 0.844341 mae: 0.705855 (26.630200623764377 steps/sec)\n",
            "Step #13600\tEpoch   4 Batch 1099/3125   Loss: 0.767378 mae: 0.698559 (24.63747820733925 steps/sec)\n",
            "Step #13650\tEpoch   4 Batch 1149/3125   Loss: 0.728553 mae: 0.705142 (22.590090982887496 steps/sec)\n",
            "Step #13700\tEpoch   4 Batch 1199/3125   Loss: 0.831083 mae: 0.697142 (15.644864488515287 steps/sec)\n",
            "Step #13750\tEpoch   4 Batch 1249/3125   Loss: 0.905901 mae: 0.705308 (23.931562290243136 steps/sec)\n",
            "Step #13800\tEpoch   4 Batch 1299/3125   Loss: 0.773791 mae: 0.709505 (26.274473298888747 steps/sec)\n",
            "Step #13850\tEpoch   4 Batch 1349/3125   Loss: 0.830912 mae: 0.687530 (25.28236864036888 steps/sec)\n",
            "Step #13900\tEpoch   4 Batch 1399/3125   Loss: 0.791660 mae: 0.702730 (26.408545724965297 steps/sec)\n",
            "Step #13950\tEpoch   4 Batch 1449/3125   Loss: 0.784851 mae: 0.701333 (20.98522965053069 steps/sec)\n",
            "Step #14000\tEpoch   4 Batch 1499/3125   Loss: 0.827054 mae: 0.700635 (16.831633343866052 steps/sec)\n",
            "Step #14050\tEpoch   4 Batch 1549/3125   Loss: 0.891586 mae: 0.700729 (24.435151396658394 steps/sec)\n",
            "Step #14100\tEpoch   4 Batch 1599/3125   Loss: 0.800696 mae: 0.697833 (23.44278580715419 steps/sec)\n",
            "Step #14150\tEpoch   4 Batch 1649/3125   Loss: 0.848719 mae: 0.701402 (24.09600568426892 steps/sec)\n",
            "Step #14200\tEpoch   4 Batch 1699/3125   Loss: 0.825275 mae: 0.695011 (25.987850909694735 steps/sec)\n",
            "Step #14250\tEpoch   4 Batch 1749/3125   Loss: 0.800990 mae: 0.697786 (17.437490048172045 steps/sec)\n",
            "Step #14300\tEpoch   4 Batch 1799/3125   Loss: 0.884691 mae: 0.700684 (22.702659049720634 steps/sec)\n",
            "Step #14350\tEpoch   4 Batch 1849/3125   Loss: 0.746786 mae: 0.702050 (27.234721610412493 steps/sec)\n",
            "Step #14400\tEpoch   4 Batch 1899/3125   Loss: 0.863256 mae: 0.697403 (24.36936775196036 steps/sec)\n",
            "Step #14450\tEpoch   4 Batch 1949/3125   Loss: 0.776959 mae: 0.692893 (24.07829137121614 steps/sec)\n",
            "Step #14500\tEpoch   4 Batch 1999/3125   Loss: 0.871948 mae: 0.700328 (26.13566630525542 steps/sec)\n",
            "Step #14550\tEpoch   4 Batch 2049/3125   Loss: 0.734075 mae: 0.705432 (16.44470795194165 steps/sec)\n",
            "Step #14600\tEpoch   4 Batch 2099/3125   Loss: 0.840457 mae: 0.688775 (22.785830348591418 steps/sec)\n",
            "Step #14650\tEpoch   4 Batch 2149/3125   Loss: 0.731763 mae: 0.689295 (24.77798900489971 steps/sec)\n",
            "Step #14700\tEpoch   4 Batch 2199/3125   Loss: 0.711465 mae: 0.694261 (24.63048725602669 steps/sec)\n",
            "Step #14750\tEpoch   4 Batch 2249/3125   Loss: 0.749723 mae: 0.694565 (27.749686068867693 steps/sec)\n",
            "Step #14800\tEpoch   4 Batch 2299/3125   Loss: 0.860068 mae: 0.705803 (26.091398624036636 steps/sec)\n",
            "Step #14850\tEpoch   4 Batch 2349/3125   Loss: 0.775490 mae: 0.700645 (15.913712497922717 steps/sec)\n",
            "Step #14900\tEpoch   4 Batch 2399/3125   Loss: 0.727567 mae: 0.698687 (23.21740969170799 steps/sec)\n",
            "Step #14950\tEpoch   4 Batch 2449/3125   Loss: 0.757261 mae: 0.690346 (27.569927162560727 steps/sec)\n",
            "Step #15000\tEpoch   4 Batch 2499/3125   Loss: 0.884253 mae: 0.701865 (26.571278846183084 steps/sec)\n",
            "Step #15050\tEpoch   4 Batch 2549/3125   Loss: 0.614887 mae: 0.704124 (24.851361825837166 steps/sec)\n",
            "Step #15100\tEpoch   4 Batch 2599/3125   Loss: 0.933575 mae: 0.700371 (26.594839174389644 steps/sec)\n",
            "Step #15150\tEpoch   4 Batch 2649/3125   Loss: 0.867727 mae: 0.700748 (14.944845260800003 steps/sec)\n",
            "Step #15200\tEpoch   4 Batch 2699/3125   Loss: 0.750555 mae: 0.693804 (25.824511213884477 steps/sec)\n",
            "Step #15250\tEpoch   4 Batch 2749/3125   Loss: 0.909554 mae: 0.694477 (25.34201690674584 steps/sec)\n",
            "Step #15300\tEpoch   4 Batch 2799/3125   Loss: 0.813790 mae: 0.702726 (25.43515276298278 steps/sec)\n",
            "Step #15350\tEpoch   4 Batch 2849/3125   Loss: 0.778688 mae: 0.694863 (26.457631621908106 steps/sec)\n",
            "Step #15400\tEpoch   4 Batch 2899/3125   Loss: 0.811934 mae: 0.694690 (26.565684690078076 steps/sec)\n",
            "Step #15450\tEpoch   4 Batch 2949/3125   Loss: 0.838826 mae: 0.698940 (15.330433895859292 steps/sec)\n",
            "Step #15500\tEpoch   4 Batch 2999/3125   Loss: 0.725206 mae: 0.696483 (25.412763892788448 steps/sec)\n",
            "Step #15550\tEpoch   4 Batch 3049/3125   Loss: 0.744388 mae: 0.687488 (23.518065544370675 steps/sec)\n",
            "Step #15600\tEpoch   4 Batch 3099/3125   Loss: 0.844618 mae: 0.694580 (23.3105572608957 steps/sec)\n",
            "\n",
            "Train time for epoch #5 (15625 total steps): 136.31441068649292\n",
            "Model test set loss: 0.800590 mae: 0.705494\n",
            "best loss = 0.8005898594856262\n"
          ]
        },
        {
          "output_type": "stream",
          "name": "stderr",
          "text": [
            "WARNING:absl:Found untraced functions such as _jit_compiled_convolution_op, _jit_compiled_convolution_op, _jit_compiled_convolution_op, _jit_compiled_convolution_op while saving (showing 4 of 4). These functions will not be directly callable after loading.\n"
          ]
        }
      ],
      "source": [
        "mv_net=mv_network()\n",
        "mv_net.training(features, targets_values, epochs=5)"
      ]
    },
    {
      "cell_type": "markdown",
      "metadata": {
        "id": "ZGoe8THtcin-"
      },
      "source": [
        "将用户特征和电影特征做矩阵乘法得到一个预测评分的训练"
      ]
    },
    {
      "cell_type": "code",
      "execution_count": null,
      "metadata": {
        "id": "DpYYEQUMcin-",
        "outputId": "95ebd809-1f6e-4011-d057-c94efa543094",
        "colab": {
          "base_uri": "https://localhost:8080/"
        }
      },
      "outputs": [
        {
          "output_type": "stream",
          "name": "stdout",
          "text": [
            "Model: \"model_1\"\n",
            "__________________________________________________________________________________________________\n",
            " Layer (type)                   Output Shape         Param #     Connected to                     \n",
            "==================================================================================================\n",
            " movie_titles (InputLayer)      [(None, 15)]         0           []                               \n",
            "                                                                                                  \n",
            " movie_title_embed_layer (Embed  (None, 15, 32)      166944      ['movie_titles[0][0]']           \n",
            " ding)                                                                                            \n",
            "                                                                                                  \n",
            " reshape_1 (Reshape)            (None, 15, 32, 1)    0           ['movie_title_embed_layer[0][0]']\n",
            "                                                                                                  \n",
            " conv2d_4 (Conv2D)              (None, 14, 1, 8)     520         ['reshape_1[0][0]']              \n",
            "                                                                                                  \n",
            " conv2d_5 (Conv2D)              (None, 13, 1, 8)     776         ['reshape_1[0][0]']              \n",
            "                                                                                                  \n",
            " conv2d_6 (Conv2D)              (None, 12, 1, 8)     1032        ['reshape_1[0][0]']              \n",
            "                                                                                                  \n",
            " conv2d_7 (Conv2D)              (None, 11, 1, 8)     1288        ['reshape_1[0][0]']              \n",
            "                                                                                                  \n",
            " movie_categories (InputLayer)  [(None, 18)]         0           []                               \n",
            "                                                                                                  \n",
            " max_pooling2d_4 (MaxPooling2D)  (None, 1, 1, 8)     0           ['conv2d_4[0][0]']               \n",
            "                                                                                                  \n",
            " max_pooling2d_5 (MaxPooling2D)  (None, 1, 1, 8)     0           ['conv2d_5[0][0]']               \n",
            "                                                                                                  \n",
            " max_pooling2d_6 (MaxPooling2D)  (None, 1, 1, 8)     0           ['conv2d_6[0][0]']               \n",
            "                                                                                                  \n",
            " max_pooling2d_7 (MaxPooling2D)  (None, 1, 1, 8)     0           ['conv2d_7[0][0]']               \n",
            "                                                                                                  \n",
            " uid (InputLayer)               [(None, 1)]          0           []                               \n",
            "                                                                                                  \n",
            " user_gender (InputLayer)       [(None, 1)]          0           []                               \n",
            "                                                                                                  \n",
            " user_age (InputLayer)          [(None, 1)]          0           []                               \n",
            "                                                                                                  \n",
            " user_job (InputLayer)          [(None, 1)]          0           []                               \n",
            "                                                                                                  \n",
            " movie_id (InputLayer)          [(None, 1)]          0           []                               \n",
            "                                                                                                  \n",
            " movie_categories_embed_layer (  (None, 18, 32)      608         ['movie_categories[0][0]']       \n",
            " Embedding)                                                                                       \n",
            "                                                                                                  \n",
            " pool_layer (Concatenate)       (None, 1, 1, 32)     0           ['max_pooling2d_4[0][0]',        \n",
            "                                                                  'max_pooling2d_5[0][0]',        \n",
            "                                                                  'max_pooling2d_6[0][0]',        \n",
            "                                                                  'max_pooling2d_7[0][0]']        \n",
            "                                                                                                  \n",
            " uid_embed_layer (Embedding)    (None, 1, 32)        193312      ['uid[0][0]']                    \n",
            "                                                                                                  \n",
            " gender_embed_layer (Embedding)  (None, 1, 16)       32          ['user_gender[0][0]']            \n",
            "                                                                                                  \n",
            " age_embed_layer (Embedding)    (None, 1, 16)        112         ['user_age[0][0]']               \n",
            "                                                                                                  \n",
            " job_embed_layer (Embedding)    (None, 1, 16)        336         ['user_job[0][0]']               \n",
            "                                                                                                  \n",
            " movie_id_embed_layer (Embeddin  (None, 1, 32)       126496      ['movie_id[0][0]']               \n",
            " g)                                                                                               \n",
            "                                                                                                  \n",
            " lambda_2 (Lambda)              (None, 1, 32)        0           ['movie_categories_embed_layer[0]\n",
            "                                                                 [0]']                            \n",
            "                                                                                                  \n",
            " pool_layer_flat (Reshape)      (None, 1, 32)        0           ['pool_layer[0][0]']             \n",
            "                                                                                                  \n",
            " uid_fc_layer (Dense)           (None, 1, 32)        1056        ['uid_embed_layer[0][0]']        \n",
            "                                                                                                  \n",
            " gender_fc_layer (Dense)        (None, 1, 32)        544         ['gender_embed_layer[0][0]']     \n",
            "                                                                                                  \n",
            " age_fc_layer (Dense)           (None, 1, 32)        544         ['age_embed_layer[0][0]']        \n",
            "                                                                                                  \n",
            " job_fc_layer (Dense)           (None, 1, 32)        544         ['job_embed_layer[0][0]']        \n",
            "                                                                                                  \n",
            " movie_id_fc_layer (Dense)      (None, 1, 32)        1056        ['movie_id_embed_layer[0][0]']   \n",
            "                                                                                                  \n",
            " movie_categories_fc_layer (Den  (None, 1, 32)       1056        ['lambda_2[0][0]']               \n",
            " se)                                                                                              \n",
            "                                                                                                  \n",
            " dropout_layer (Dropout)        (None, 1, 32)        0           ['pool_layer_flat[0][0]']        \n",
            "                                                                                                  \n",
            " concatenate_2 (Concatenate)    (None, 1, 128)       0           ['uid_fc_layer[0][0]',           \n",
            "                                                                  'gender_fc_layer[0][0]',        \n",
            "                                                                  'age_fc_layer[0][0]',           \n",
            "                                                                  'job_fc_layer[0][0]']           \n",
            "                                                                                                  \n",
            " concatenate_3 (Concatenate)    (None, 1, 96)        0           ['movie_id_fc_layer[0][0]',      \n",
            "                                                                  'movie_categories_fc_layer[0][0]\n",
            "                                                                 ',                               \n",
            "                                                                  'dropout_layer[0][0]']          \n",
            "                                                                                                  \n",
            " dense_2 (Dense)                (None, 1, 200)       25800       ['concatenate_2[0][0]']          \n",
            "                                                                                                  \n",
            " dense_3 (Dense)                (None, 1, 200)       19400       ['concatenate_3[0][0]']          \n",
            "                                                                                                  \n",
            " user_combine_layer_flat (Resha  (None, 200)         0           ['dense_2[0][0]']                \n",
            " pe)                                                                                              \n",
            "                                                                                                  \n",
            " movie_combine_layer_flat (Resh  (None, 200)         0           ['dense_3[0][0]']                \n",
            " ape)                                                                                             \n",
            "                                                                                                  \n",
            " inference (Lambda)             (None,)              0           ['user_combine_layer_flat[0][0]',\n",
            "                                                                  'movie_combine_layer_flat[0][0]'\n",
            "                                                                 ]                                \n",
            "                                                                                                  \n",
            " lambda_3 (Lambda)              (None, 1)            0           ['inference[0][0]']              \n",
            "                                                                                                  \n",
            "==================================================================================================\n",
            "Total params: 541,456\n",
            "Trainable params: 541,456\n",
            "Non-trainable params: 0\n",
            "__________________________________________________________________________________________________\n",
            "Step #15650\tEpoch   0 Batch   24/3125   Loss: 0.696743 mae: 0.694269 (10.72047296300473 steps/sec)\n",
            "Step #15700\tEpoch   0 Batch   74/3125   Loss: 0.816708 mae: 0.690976 (24.989463361274144 steps/sec)\n",
            "Step #15750\tEpoch   0 Batch  124/3125   Loss: 0.687762 mae: 0.699366 (19.405024195302733 steps/sec)\n",
            "Step #15800\tEpoch   0 Batch  174/3125   Loss: 0.744437 mae: 0.696956 (17.184823516377907 steps/sec)\n",
            "Step #15850\tEpoch   0 Batch  224/3125   Loss: 0.631075 mae: 0.697131 (27.91133967381901 steps/sec)\n",
            "Step #15900\tEpoch   0 Batch  274/3125   Loss: 0.772081 mae: 0.695162 (26.953644120470074 steps/sec)\n",
            "Step #15950\tEpoch   0 Batch  324/3125   Loss: 0.763463 mae: 0.698760 (27.68975149424037 steps/sec)\n",
            "Step #16000\tEpoch   0 Batch  374/3125   Loss: 0.791485 mae: 0.700368 (25.687617603892573 steps/sec)\n",
            "Step #16050\tEpoch   0 Batch  424/3125   Loss: 0.838454 mae: 0.701321 (26.810429357657423 steps/sec)\n",
            "Step #16100\tEpoch   0 Batch  474/3125   Loss: 0.771741 mae: 0.696841 (14.707311353305588 steps/sec)\n",
            "Step #16150\tEpoch   0 Batch  524/3125   Loss: 0.827414 mae: 0.691177 (23.58349329099933 steps/sec)\n",
            "Step #16200\tEpoch   0 Batch  574/3125   Loss: 0.851593 mae: 0.698404 (23.770592886522405 steps/sec)\n",
            "Step #16250\tEpoch   0 Batch  624/3125   Loss: 0.610875 mae: 0.695313 (24.092213299316413 steps/sec)\n",
            "Step #16300\tEpoch   0 Batch  674/3125   Loss: 0.793566 mae: 0.700107 (27.38360103640136 steps/sec)\n",
            "Step #16350\tEpoch   0 Batch  724/3125   Loss: 0.663001 mae: 0.695682 (19.254747461578223 steps/sec)\n",
            "Step #16400\tEpoch   0 Batch  774/3125   Loss: 0.750701 mae: 0.690187 (18.182338382692016 steps/sec)\n",
            "Step #16450\tEpoch   0 Batch  824/3125   Loss: 0.789875 mae: 0.696661 (23.192018984891334 steps/sec)\n",
            "Step #16500\tEpoch   0 Batch  874/3125   Loss: 0.716918 mae: 0.694666 (25.14152320932679 steps/sec)\n",
            "Step #16550\tEpoch   0 Batch  924/3125   Loss: 0.864334 mae: 0.700328 (26.354984073795645 steps/sec)\n",
            "Step #16600\tEpoch   0 Batch  974/3125   Loss: 0.745896 mae: 0.695915 (25.4658999035596 steps/sec)\n",
            "Step #16650\tEpoch   0 Batch 1024/3125   Loss: 0.765845 mae: 0.692869 (17.059615414494612 steps/sec)\n",
            "Step #16700\tEpoch   0 Batch 1074/3125   Loss: 0.812735 mae: 0.693375 (21.168693680416876 steps/sec)\n",
            "Step #16750\tEpoch   0 Batch 1124/3125   Loss: 0.783328 mae: 0.700297 (24.03764960690345 steps/sec)\n",
            "Step #16800\tEpoch   0 Batch 1174/3125   Loss: 0.721202 mae: 0.698621 (23.53175097424711 steps/sec)\n",
            "Step #16850\tEpoch   0 Batch 1224/3125   Loss: 0.751020 mae: 0.690226 (25.206735540050925 steps/sec)\n",
            "Step #16900\tEpoch   0 Batch 1274/3125   Loss: 0.860496 mae: 0.706696 (28.111305193592695 steps/sec)\n",
            "Step #16950\tEpoch   0 Batch 1324/3125   Loss: 0.696686 mae: 0.692023 (14.740824203283514 steps/sec)\n",
            "Step #17000\tEpoch   0 Batch 1374/3125   Loss: 0.711963 mae: 0.691351 (23.164593105360332 steps/sec)\n",
            "Step #17050\tEpoch   0 Batch 1424/3125   Loss: 0.786607 mae: 0.695815 (23.27910040179901 steps/sec)\n",
            "Step #17100\tEpoch   0 Batch 1474/3125   Loss: 0.687420 mae: 0.695685 (27.66767944758364 steps/sec)\n",
            "Step #17150\tEpoch   0 Batch 1524/3125   Loss: 0.684345 mae: 0.691954 (25.494179858674986 steps/sec)\n",
            "Step #17200\tEpoch   0 Batch 1574/3125   Loss: 0.755554 mae: 0.699650 (21.86692692367046 steps/sec)\n",
            "Step #17250\tEpoch   0 Batch 1624/3125   Loss: 0.804709 mae: 0.688671 (15.300580256342386 steps/sec)\n",
            "Step #17300\tEpoch   0 Batch 1674/3125   Loss: 0.691426 mae: 0.696013 (26.050432067956265 steps/sec)\n",
            "Step #17350\tEpoch   0 Batch 1724/3125   Loss: 0.861202 mae: 0.691876 (25.439043396323456 steps/sec)\n",
            "Step #17400\tEpoch   0 Batch 1774/3125   Loss: 0.748490 mae: 0.694742 (23.584798185777835 steps/sec)\n",
            "Step #17450\tEpoch   0 Batch 1824/3125   Loss: 0.695905 mae: 0.695308 (25.526965208671772 steps/sec)\n",
            "Step #17500\tEpoch   0 Batch 1874/3125   Loss: 0.841452 mae: 0.697509 (19.348775003157673 steps/sec)\n",
            "Step #17550\tEpoch   0 Batch 1924/3125   Loss: 0.956929 mae: 0.689776 (20.41605627374886 steps/sec)\n",
            "Step #17600\tEpoch   0 Batch 1974/3125   Loss: 0.759720 mae: 0.688758 (25.39291691887218 steps/sec)\n",
            "Step #17650\tEpoch   0 Batch 2024/3125   Loss: 0.850812 mae: 0.699084 (25.472998817055057 steps/sec)\n",
            "Step #17700\tEpoch   0 Batch 2074/3125   Loss: 0.831064 mae: 0.689136 (27.525833951318113 steps/sec)\n",
            "Step #17750\tEpoch   0 Batch 2124/3125   Loss: 0.633015 mae: 0.691093 (27.526039885845435 steps/sec)\n",
            "Step #17800\tEpoch   0 Batch 2174/3125   Loss: 0.712510 mae: 0.685408 (19.47981607259082 steps/sec)\n",
            "Step #17850\tEpoch   0 Batch 2224/3125   Loss: 0.687144 mae: 0.692374 (19.49146847671691 steps/sec)\n",
            "Step #17900\tEpoch   0 Batch 2274/3125   Loss: 0.789363 mae: 0.693134 (28.198233872404508 steps/sec)\n",
            "Step #17950\tEpoch   0 Batch 2324/3125   Loss: 0.636324 mae: 0.700394 (25.31475475257013 steps/sec)\n",
            "Step #18000\tEpoch   0 Batch 2374/3125   Loss: 0.724271 mae: 0.691815 (27.808339245105383 steps/sec)\n",
            "Step #18050\tEpoch   0 Batch 2424/3125   Loss: 0.711395 mae: 0.690937 (25.232171490290288 steps/sec)\n",
            "Step #18100\tEpoch   0 Batch 2474/3125   Loss: 0.828243 mae: 0.688772 (22.140542878013395 steps/sec)\n",
            "Step #18150\tEpoch   0 Batch 2524/3125   Loss: 0.741986 mae: 0.697450 (17.93923189896317 steps/sec)\n",
            "Step #18200\tEpoch   0 Batch 2574/3125   Loss: 0.863916 mae: 0.701095 (27.57280527108598 steps/sec)\n",
            "Step #18250\tEpoch   0 Batch 2624/3125   Loss: 0.922818 mae: 0.697847 (27.934379080544684 steps/sec)\n",
            "Step #18300\tEpoch   0 Batch 2674/3125   Loss: 0.772400 mae: 0.695135 (27.98897818672861 steps/sec)\n",
            "Step #18350\tEpoch   0 Batch 2724/3125   Loss: 0.738343 mae: 0.685583 (24.413671969222143 steps/sec)\n",
            "Step #18400\tEpoch   0 Batch 2774/3125   Loss: 0.713714 mae: 0.692858 (24.84689816010029 steps/sec)\n",
            "Step #18450\tEpoch   0 Batch 2824/3125   Loss: 0.783188 mae: 0.702887 (15.622951126205 steps/sec)\n",
            "Step #18500\tEpoch   0 Batch 2874/3125   Loss: 0.793319 mae: 0.684842 (24.130757363202214 steps/sec)\n",
            "Step #18550\tEpoch   0 Batch 2924/3125   Loss: 0.818535 mae: 0.692364 (23.63989435074529 steps/sec)\n",
            "Step #18600\tEpoch   0 Batch 2974/3125   Loss: 0.713552 mae: 0.695881 (24.29236387763745 steps/sec)\n",
            "Step #18650\tEpoch   0 Batch 3024/3125   Loss: 0.709444 mae: 0.685347 (27.34798776693327 steps/sec)\n",
            "Step #18700\tEpoch   0 Batch 3074/3125   Loss: 0.751463 mae: 0.687559 (19.11759330135995 steps/sec)\n",
            "Step #18750\tEpoch   0 Batch 3124/3125   Loss: 0.820810 mae: 0.688032 (17.949751186720373 steps/sec)\n",
            "\n",
            "Train time for epoch #1 (18750 total steps): 141.15809416770935\n",
            "Model test set loss: 0.793612 mae: 0.703155\n",
            "best loss = 0.7936124801635742\n",
            "Step #18800\tEpoch   1 Batch   49/3125   Loss: 0.851449 mae: 0.702480 (27.0018655301555 steps/sec)\n",
            "Step #18850\tEpoch   1 Batch   99/3125   Loss: 0.953356 mae: 0.684305 (24.38926587234209 steps/sec)\n",
            "Step #18900\tEpoch   1 Batch  149/3125   Loss: 0.750876 mae: 0.695026 (23.93288960080049 steps/sec)\n",
            "Step #18950\tEpoch   1 Batch  199/3125   Loss: 0.788684 mae: 0.692819 (15.405037544945548 steps/sec)\n",
            "Step #19000\tEpoch   1 Batch  249/3125   Loss: 0.862325 mae: 0.692283 (20.42367135484341 steps/sec)\n",
            "Step #19050\tEpoch   1 Batch  299/3125   Loss: 0.758768 mae: 0.691646 (25.51493361001505 steps/sec)\n",
            "Step #19100\tEpoch   1 Batch  349/3125   Loss: 0.860046 mae: 0.696335 (25.783708926098452 steps/sec)\n",
            "Step #19150\tEpoch   1 Batch  399/3125   Loss: 0.868309 mae: 0.696190 (23.88789518245578 steps/sec)\n",
            "Step #19200\tEpoch   1 Batch  449/3125   Loss: 0.782335 mae: 0.697997 (23.423975051979696 steps/sec)\n",
            "Step #19250\tEpoch   1 Batch  499/3125   Loss: 0.764612 mae: 0.687088 (14.873430043101452 steps/sec)\n",
            "Step #19300\tEpoch   1 Batch  549/3125   Loss: 0.751915 mae: 0.687420 (25.254179281802486 steps/sec)\n",
            "Step #19350\tEpoch   1 Batch  599/3125   Loss: 0.668854 mae: 0.697142 (25.118968081699123 steps/sec)\n",
            "Step #19400\tEpoch   1 Batch  649/3125   Loss: 0.731210 mae: 0.694985 (25.164007158683145 steps/sec)\n",
            "Step #19450\tEpoch   1 Batch  699/3125   Loss: 0.766246 mae: 0.694211 (26.263618020169798 steps/sec)\n",
            "Step #19500\tEpoch   1 Batch  749/3125   Loss: 0.739413 mae: 0.682993 (27.12548748288935 steps/sec)\n",
            "Step #19550\tEpoch   1 Batch  799/3125   Loss: 0.826182 mae: 0.693751 (16.447505360149165 steps/sec)\n",
            "Step #19600\tEpoch   1 Batch  849/3125   Loss: 0.855703 mae: 0.692551 (25.43283314202486 steps/sec)\n",
            "Step #19650\tEpoch   1 Batch  899/3125   Loss: 0.844677 mae: 0.690589 (27.319871271114373 steps/sec)\n",
            "Step #19700\tEpoch   1 Batch  949/3125   Loss: 0.668087 mae: 0.692253 (23.708441447446365 steps/sec)\n",
            "Step #19750\tEpoch   1 Batch  999/3125   Loss: 0.849976 mae: 0.686706 (24.75858294362347 steps/sec)\n",
            "Step #19800\tEpoch   1 Batch 1049/3125   Loss: 0.846924 mae: 0.696919 (22.14214883851361 steps/sec)\n",
            "Step #19850\tEpoch   1 Batch 1099/3125   Loss: 0.748478 mae: 0.688856 (17.598440909608136 steps/sec)\n",
            "Step #19900\tEpoch   1 Batch 1149/3125   Loss: 0.713527 mae: 0.696898 (24.347820029593752 steps/sec)\n",
            "Step #19950\tEpoch   1 Batch 1199/3125   Loss: 0.828915 mae: 0.687571 (24.14172154951221 steps/sec)\n",
            "Step #20000\tEpoch   1 Batch 1249/3125   Loss: 0.867130 mae: 0.695528 (23.999328021744997 steps/sec)\n",
            "Step #20050\tEpoch   1 Batch 1299/3125   Loss: 0.741841 mae: 0.698930 (25.292915843530572 steps/sec)\n",
            "Step #20100\tEpoch   1 Batch 1349/3125   Loss: 0.806319 mae: 0.678057 (20.786493188184018 steps/sec)\n",
            "Step #20150\tEpoch   1 Batch 1399/3125   Loss: 0.777595 mae: 0.694301 (20.431361786497124 steps/sec)\n",
            "Step #20200\tEpoch   1 Batch 1449/3125   Loss: 0.749572 mae: 0.692274 (28.124228466978554 steps/sec)\n",
            "Step #20250\tEpoch   1 Batch 1499/3125   Loss: 0.806665 mae: 0.692579 (27.66930387784169 steps/sec)\n",
            "Step #20300\tEpoch   1 Batch 1549/3125   Loss: 0.866495 mae: 0.691327 (27.52504637050096 steps/sec)\n",
            "Step #20350\tEpoch   1 Batch 1599/3125   Loss: 0.768303 mae: 0.687656 (27.846892760319367 steps/sec)\n",
            "Step #20400\tEpoch   1 Batch 1649/3125   Loss: 0.822945 mae: 0.693102 (28.023585142028658 steps/sec)\n",
            "Step #20450\tEpoch   1 Batch 1699/3125   Loss: 0.809233 mae: 0.686963 (16.094255619035984 steps/sec)\n",
            "Step #20500\tEpoch   1 Batch 1749/3125   Loss: 0.787104 mae: 0.688770 (27.92792852779613 steps/sec)\n",
            "Step #20550\tEpoch   1 Batch 1799/3125   Loss: 0.854614 mae: 0.690701 (27.606550005305024 steps/sec)\n",
            "Step #20600\tEpoch   1 Batch 1849/3125   Loss: 0.745436 mae: 0.693363 (27.808538366106223 steps/sec)\n",
            "Step #20650\tEpoch   1 Batch 1899/3125   Loss: 0.853713 mae: 0.689269 (27.70065437227166 steps/sec)\n",
            "Step #20700\tEpoch   1 Batch 1949/3125   Loss: 0.741858 mae: 0.683544 (27.835652802941315 steps/sec)\n",
            "Step #20750\tEpoch   1 Batch 1999/3125   Loss: 0.858142 mae: 0.692216 (18.371029173480114 steps/sec)\n",
            "Step #20800\tEpoch   1 Batch 2049/3125   Loss: 0.721371 mae: 0.698523 (23.060557451044126 steps/sec)\n",
            "Step #20850\tEpoch   1 Batch 2099/3125   Loss: 0.831441 mae: 0.680415 (28.041590004706688 steps/sec)\n",
            "Step #20900\tEpoch   1 Batch 2149/3125   Loss: 0.740033 mae: 0.679855 (26.215671460065813 steps/sec)\n",
            "Step #20950\tEpoch   1 Batch 2199/3125   Loss: 0.682503 mae: 0.685879 (28.015506400685148 steps/sec)\n",
            "Step #21000\tEpoch   1 Batch 2249/3125   Loss: 0.730683 mae: 0.685751 (27.399700780893667 steps/sec)\n",
            "Step #21050\tEpoch   1 Batch 2299/3125   Loss: 0.824714 mae: 0.697974 (22.61561652043249 steps/sec)\n",
            "Step #21100\tEpoch   1 Batch 2349/3125   Loss: 0.758417 mae: 0.691245 (17.527647504689373 steps/sec)\n",
            "Step #21150\tEpoch   1 Batch 2399/3125   Loss: 0.707457 mae: 0.689233 (27.943058918272943 steps/sec)\n",
            "Step #21200\tEpoch   1 Batch 2449/3125   Loss: 0.725527 mae: 0.680746 (27.06248063534021 steps/sec)\n",
            "Step #21250\tEpoch   1 Batch 2499/3125   Loss: 0.889576 mae: 0.693644 (27.738201570553557 steps/sec)\n",
            "Step #21300\tEpoch   1 Batch 2549/3125   Loss: 0.587924 mae: 0.696214 (27.64580291460821 steps/sec)\n",
            "Step #21350\tEpoch   1 Batch 2599/3125   Loss: 0.906959 mae: 0.691306 (25.981775421485654 steps/sec)\n",
            "Step #21400\tEpoch   1 Batch 2649/3125   Loss: 0.853543 mae: 0.692889 (15.334366225833763 steps/sec)\n",
            "Step #21450\tEpoch   1 Batch 2699/3125   Loss: 0.750751 mae: 0.686693 (23.555126344942913 steps/sec)\n",
            "Step #21500\tEpoch   1 Batch 2749/3125   Loss: 0.870232 mae: 0.685635 (25.087242727858673 steps/sec)\n",
            "Step #21550\tEpoch   1 Batch 2799/3125   Loss: 0.791676 mae: 0.695126 (25.90695247981486 steps/sec)\n",
            "Step #21600\tEpoch   1 Batch 2849/3125   Loss: 0.771440 mae: 0.686810 (27.450538944478275 steps/sec)\n",
            "Step #21650\tEpoch   1 Batch 2899/3125   Loss: 0.818969 mae: 0.685494 (25.240607882659056 steps/sec)\n",
            "Step #21700\tEpoch   1 Batch 2949/3125   Loss: 0.827928 mae: 0.690726 (17.068180689856113 steps/sec)\n",
            "Step #21750\tEpoch   1 Batch 2999/3125   Loss: 0.709242 mae: 0.687389 (26.997065166989913 steps/sec)\n",
            "Step #21800\tEpoch   1 Batch 3049/3125   Loss: 0.743286 mae: 0.679911 (27.340892622613776 steps/sec)\n",
            "Step #21850\tEpoch   1 Batch 3099/3125   Loss: 0.812379 mae: 0.686338 (25.665193727572884 steps/sec)\n",
            "\n",
            "Train time for epoch #2 (21875 total steps): 132.24070000648499\n",
            "Model test set loss: 0.787846 mae: 0.700377\n",
            "best loss = 0.7878462672233582\n",
            "Step #21900\tEpoch   2 Batch   24/3125   Loss: 0.674896 mae: 0.699938 (47.11262335839459 steps/sec)\n",
            "Step #21950\tEpoch   2 Batch   74/3125   Loss: 0.823228 mae: 0.682781 (27.308202753071527 steps/sec)\n",
            "Step #22000\tEpoch   2 Batch  124/3125   Loss: 0.667671 mae: 0.690108 (15.620735474011013 steps/sec)\n",
            "Step #22050\tEpoch   2 Batch  174/3125   Loss: 0.760838 mae: 0.688294 (27.73563363261929 steps/sec)\n",
            "Step #22100\tEpoch   2 Batch  224/3125   Loss: 0.648980 mae: 0.690784 (26.18660946070982 steps/sec)\n",
            "Step #22150\tEpoch   2 Batch  274/3125   Loss: 0.753252 mae: 0.687879 (25.81354151383171 steps/sec)\n",
            "Step #22200\tEpoch   2 Batch  324/3125   Loss: 0.746251 mae: 0.690253 (24.843048211803325 steps/sec)\n",
            "Step #22250\tEpoch   2 Batch  374/3125   Loss: 0.756425 mae: 0.692669 (27.151159109926002 steps/sec)\n",
            "Step #22300\tEpoch   2 Batch  424/3125   Loss: 0.824695 mae: 0.692381 (15.181961112382819 steps/sec)\n",
            "Step #22350\tEpoch   2 Batch  474/3125   Loss: 0.763868 mae: 0.688331 (25.759367217936948 steps/sec)\n",
            "Step #22400\tEpoch   2 Batch  524/3125   Loss: 0.824969 mae: 0.682748 (25.162449212311646 steps/sec)\n",
            "Step #22450\tEpoch   2 Batch  574/3125   Loss: 0.821915 mae: 0.688454 (25.826498899774833 steps/sec)\n",
            "Step #22500\tEpoch   2 Batch  624/3125   Loss: 0.600442 mae: 0.686616 (26.46386827021626 steps/sec)\n",
            "Step #22550\tEpoch   2 Batch  674/3125   Loss: 0.775070 mae: 0.691278 (27.087907127116516 steps/sec)\n",
            "Step #22600\tEpoch   2 Batch  724/3125   Loss: 0.651410 mae: 0.688480 (15.381451416765902 steps/sec)\n",
            "Step #22650\tEpoch   2 Batch  774/3125   Loss: 0.717304 mae: 0.681850 (26.759186942054928 steps/sec)\n",
            "Step #22700\tEpoch   2 Batch  824/3125   Loss: 0.776495 mae: 0.689811 (27.351097955480803 steps/sec)\n",
            "Step #22750\tEpoch   2 Batch  874/3125   Loss: 0.697354 mae: 0.686818 (27.552638542151957 steps/sec)\n",
            "Step #22800\tEpoch   2 Batch  924/3125   Loss: 0.860570 mae: 0.693118 (24.260279938943025 steps/sec)\n",
            "Step #22850\tEpoch   2 Batch  974/3125   Loss: 0.717750 mae: 0.687138 (24.32879097340825 steps/sec)\n",
            "Step #22900\tEpoch   2 Batch 1024/3125   Loss: 0.745186 mae: 0.684562 (15.556092598699852 steps/sec)\n",
            "Step #22950\tEpoch   2 Batch 1074/3125   Loss: 0.795398 mae: 0.686173 (26.000806623687236 steps/sec)\n",
            "Step #23000\tEpoch   2 Batch 1124/3125   Loss: 0.767395 mae: 0.691713 (27.222938407795503 steps/sec)\n",
            "Step #23050\tEpoch   2 Batch 1174/3125   Loss: 0.693211 mae: 0.690776 (25.48253212152039 steps/sec)\n",
            "Step #23100\tEpoch   2 Batch 1224/3125   Loss: 0.759479 mae: 0.682575 (27.55586424996784 steps/sec)\n",
            "Step #23150\tEpoch   2 Batch 1274/3125   Loss: 0.839827 mae: 0.697718 (27.197758766232038 steps/sec)\n",
            "Step #23200\tEpoch   2 Batch 1324/3125   Loss: 0.673684 mae: 0.684999 (15.450357811571605 steps/sec)\n",
            "Step #23250\tEpoch   2 Batch 1374/3125   Loss: 0.712194 mae: 0.682953 (27.397542316794013 steps/sec)\n",
            "Step #23300\tEpoch   2 Batch 1424/3125   Loss: 0.756919 mae: 0.687967 (26.771737375142898 steps/sec)\n",
            "Step #23350\tEpoch   2 Batch 1474/3125   Loss: 0.670293 mae: 0.688826 (25.604385126017064 steps/sec)\n",
            "Step #23400\tEpoch   2 Batch 1524/3125   Loss: 0.686834 mae: 0.683917 (25.508881726430808 steps/sec)\n",
            "Step #23450\tEpoch   2 Batch 1574/3125   Loss: 0.730284 mae: 0.690309 (25.427486053786208 steps/sec)\n",
            "Step #23500\tEpoch   2 Batch 1624/3125   Loss: 0.789806 mae: 0.683446 (16.338185430495564 steps/sec)\n",
            "Step #23550\tEpoch   2 Batch 1674/3125   Loss: 0.671307 mae: 0.688349 (26.70819445314701 steps/sec)\n",
            "Step #23600\tEpoch   2 Batch 1724/3125   Loss: 0.868220 mae: 0.685817 (27.657656006162583 steps/sec)\n",
            "Step #23650\tEpoch   2 Batch 1774/3125   Loss: 0.729652 mae: 0.687006 (26.979498096777462 steps/sec)\n",
            "Step #23700\tEpoch   2 Batch 1824/3125   Loss: 0.682616 mae: 0.687221 (23.40627070710498 steps/sec)\n",
            "Step #23750\tEpoch   2 Batch 1874/3125   Loss: 0.804577 mae: 0.689863 (27.18382268877129 steps/sec)\n",
            "Step #23800\tEpoch   2 Batch 1924/3125   Loss: 0.930769 mae: 0.682891 (16.31930288866521 steps/sec)\n",
            "Step #23850\tEpoch   2 Batch 1974/3125   Loss: 0.758262 mae: 0.681685 (23.738079186394142 steps/sec)\n",
            "Step #23900\tEpoch   2 Batch 2024/3125   Loss: 0.858097 mae: 0.691855 (22.9024258103098 steps/sec)\n",
            "Step #23950\tEpoch   2 Batch 2074/3125   Loss: 0.804176 mae: 0.682356 (27.002456569046405 steps/sec)\n",
            "Step #24000\tEpoch   2 Batch 2124/3125   Loss: 0.630876 mae: 0.683154 (24.37806723488129 steps/sec)\n",
            "Step #24050\tEpoch   2 Batch 2174/3125   Loss: 0.707267 mae: 0.678545 (24.87459227365999 steps/sec)\n",
            "Step #24100\tEpoch   2 Batch 2224/3125   Loss: 0.685278 mae: 0.684121 (15.356710454650168 steps/sec)\n",
            "Step #24150\tEpoch   2 Batch 2274/3125   Loss: 0.784356 mae: 0.684944 (24.0641452896272 steps/sec)\n",
            "Step #24200\tEpoch   2 Batch 2324/3125   Loss: 0.613436 mae: 0.693596 (27.538112309274315 steps/sec)\n",
            "Step #24250\tEpoch   2 Batch 2374/3125   Loss: 0.713471 mae: 0.684932 (25.33344527399995 steps/sec)\n",
            "Step #24300\tEpoch   2 Batch 2424/3125   Loss: 0.705875 mae: 0.682408 (27.31253103693749 steps/sec)\n",
            "Step #24350\tEpoch   2 Batch 2474/3125   Loss: 0.805088 mae: 0.680631 (27.493529590831017 steps/sec)\n",
            "Step #24400\tEpoch   2 Batch 2524/3125   Loss: 0.735947 mae: 0.689984 (15.710036959734131 steps/sec)\n",
            "Step #24450\tEpoch   2 Batch 2574/3125   Loss: 0.830953 mae: 0.693332 (26.607208876445178 steps/sec)\n",
            "Step #24500\tEpoch   2 Batch 2624/3125   Loss: 0.932063 mae: 0.690265 (26.71341323763228 steps/sec)\n",
            "Step #24550\tEpoch   2 Batch 2674/3125   Loss: 0.757720 mae: 0.687622 (27.200288040159606 steps/sec)\n",
            "Step #24600\tEpoch   2 Batch 2724/3125   Loss: 0.716319 mae: 0.678104 (27.03477009864333 steps/sec)\n",
            "Step #24650\tEpoch   2 Batch 2774/3125   Loss: 0.690960 mae: 0.686365 (27.507063503920293 steps/sec)\n",
            "Step #24700\tEpoch   2 Batch 2824/3125   Loss: 0.781109 mae: 0.694573 (16.69267228880544 steps/sec)\n",
            "Step #24750\tEpoch   2 Batch 2874/3125   Loss: 0.797555 mae: 0.677325 (22.674850213032997 steps/sec)\n",
            "Step #24800\tEpoch   2 Batch 2924/3125   Loss: 0.797365 mae: 0.684928 (25.07813479076522 steps/sec)\n",
            "Step #24850\tEpoch   2 Batch 2974/3125   Loss: 0.675159 mae: 0.686640 (26.62615687471949 steps/sec)\n",
            "Step #24900\tEpoch   2 Batch 3024/3125   Loss: 0.692563 mae: 0.677040 (27.45454226501754 steps/sec)\n",
            "Step #24950\tEpoch   2 Batch 3074/3125   Loss: 0.736256 mae: 0.680380 (25.281414672910895 steps/sec)\n",
            "Step #25000\tEpoch   2 Batch 3124/3125   Loss: 0.791324 mae: 0.680718 (16.367703904799782 steps/sec)\n",
            "\n",
            "Train time for epoch #3 (25000 total steps): 133.9334864616394\n",
            "Model test set loss: 0.782481 mae: 0.698167\n",
            "best loss = 0.7824810147285461\n",
            "Step #25050\tEpoch   3 Batch   49/3125   Loss: 0.830025 mae: 0.697332 (25.33157865174986 steps/sec)\n",
            "Step #25100\tEpoch   3 Batch   99/3125   Loss: 0.929115 mae: 0.676830 (26.532269859046306 steps/sec)\n",
            "Step #25150\tEpoch   3 Batch  149/3125   Loss: 0.725096 mae: 0.686378 (26.752052723619535 steps/sec)\n",
            "Step #25200\tEpoch   3 Batch  199/3125   Loss: 0.772591 mae: 0.685724 (25.01522036609036 steps/sec)\n",
            "Step #25250\tEpoch   3 Batch  249/3125   Loss: 0.847510 mae: 0.686032 (25.826047270678984 steps/sec)\n",
            "Step #25300\tEpoch   3 Batch  299/3125   Loss: 0.735155 mae: 0.684930 (15.320648823726831 steps/sec)\n",
            "Step #25350\tEpoch   3 Batch  349/3125   Loss: 0.847642 mae: 0.687960 (26.382748317010847 steps/sec)\n",
            "Step #25400\tEpoch   3 Batch  399/3125   Loss: 0.865578 mae: 0.688046 (27.88583142089222 steps/sec)\n",
            "Step #25450\tEpoch   3 Batch  449/3125   Loss: 0.769001 mae: 0.690167 (26.543113232156177 steps/sec)\n",
            "Step #25500\tEpoch   3 Batch  499/3125   Loss: 0.764090 mae: 0.679860 (25.791874291374416 steps/sec)\n",
            "Step #25550\tEpoch   3 Batch  549/3125   Loss: 0.740824 mae: 0.677774 (28.22178372699442 steps/sec)\n",
            "Step #25600\tEpoch   3 Batch  599/3125   Loss: 0.654647 mae: 0.689722 (15.721206227635262 steps/sec)\n",
            "Step #25650\tEpoch   3 Batch  649/3125   Loss: 0.713666 mae: 0.686993 (25.05617217707181 steps/sec)\n",
            "Step #25700\tEpoch   3 Batch  699/3125   Loss: 0.756890 mae: 0.686675 (27.717052271866997 steps/sec)\n",
            "Step #25750\tEpoch   3 Batch  749/3125   Loss: 0.726088 mae: 0.675731 (27.83509861697327 steps/sec)\n",
            "Step #25800\tEpoch   3 Batch  799/3125   Loss: 0.796063 mae: 0.685534 (27.536922669267582 steps/sec)\n",
            "Step #25850\tEpoch   3 Batch  849/3125   Loss: 0.840788 mae: 0.686203 (26.072659247085625 steps/sec)\n",
            "Step #25900\tEpoch   3 Batch  899/3125   Loss: 0.831494 mae: 0.683211 (14.685604144163385 steps/sec)\n",
            "Step #25950\tEpoch   3 Batch  949/3125   Loss: 0.677932 mae: 0.684291 (26.77149472664034 steps/sec)\n",
            "Step #26000\tEpoch   3 Batch  999/3125   Loss: 0.826535 mae: 0.678702 (25.912752882785604 steps/sec)\n",
            "Step #26050\tEpoch   3 Batch 1049/3125   Loss: 0.828559 mae: 0.689109 (27.448469462813357 steps/sec)\n",
            "Step #26100\tEpoch   3 Batch 1099/3125   Loss: 0.732907 mae: 0.682028 (27.723116243709377 steps/sec)\n",
            "Step #26150\tEpoch   3 Batch 1149/3125   Loss: 0.681692 mae: 0.690084 (27.97898939530406 steps/sec)\n",
            "Step #26200\tEpoch   3 Batch 1199/3125   Loss: 0.804469 mae: 0.680026 (19.228114545413202 steps/sec)\n",
            "Step #26250\tEpoch   3 Batch 1249/3125   Loss: 0.832279 mae: 0.687948 (21.346042723394778 steps/sec)\n",
            "Step #26300\tEpoch   3 Batch 1299/3125   Loss: 0.733128 mae: 0.692602 (25.573764414533724 steps/sec)\n",
            "Step #26350\tEpoch   3 Batch 1349/3125   Loss: 0.772812 mae: 0.671459 (25.66319938775006 steps/sec)\n",
            "Step #26400\tEpoch   3 Batch 1399/3125   Loss: 0.782443 mae: 0.687499 (27.085853478349033 steps/sec)\n",
            "Step #26450\tEpoch   3 Batch 1449/3125   Loss: 0.739544 mae: 0.684984 (24.579221222156264 steps/sec)\n",
            "Step #26500\tEpoch   3 Batch 1499/3125   Loss: 0.781713 mae: 0.685990 (19.116798637764745 steps/sec)\n",
            "Step #26550\tEpoch   3 Batch 1549/3125   Loss: 0.848142 mae: 0.682385 (21.387801473988986 steps/sec)\n",
            "Step #26600\tEpoch   3 Batch 1599/3125   Loss: 0.746049 mae: 0.681031 (28.098472850830298 steps/sec)\n",
            "Step #26650\tEpoch   3 Batch 1649/3125   Loss: 0.816098 mae: 0.687139 (27.132731022599526 steps/sec)\n",
            "Step #26700\tEpoch   3 Batch 1699/3125   Loss: 0.785232 mae: 0.680321 (27.508676344856408 steps/sec)\n",
            "Step #26750\tEpoch   3 Batch 1749/3125   Loss: 0.764366 mae: 0.681518 (27.51320557828186 steps/sec)\n",
            "Step #26800\tEpoch   3 Batch 1799/3125   Loss: 0.825468 mae: 0.682898 (25.59794079065173 steps/sec)\n",
            "Step #26850\tEpoch   3 Batch 1849/3125   Loss: 0.752652 mae: 0.685632 (17.15254525077011 steps/sec)\n",
            "Step #26900\tEpoch   3 Batch 1899/3125   Loss: 0.837475 mae: 0.682429 (25.804714673082145 steps/sec)\n",
            "Step #26950\tEpoch   3 Batch 1949/3125   Loss: 0.717220 mae: 0.676389 (27.503686892498806 steps/sec)\n",
            "Step #27000\tEpoch   3 Batch 1999/3125   Loss: 0.842085 mae: 0.685873 (27.71710722042411 steps/sec)\n",
            "Step #27050\tEpoch   3 Batch 2049/3125   Loss: 0.714165 mae: 0.692607 (27.433467870111095 steps/sec)\n",
            "Step #27100\tEpoch   3 Batch 2099/3125   Loss: 0.805609 mae: 0.673624 (24.915451616559388 steps/sec)\n",
            "Step #27150\tEpoch   3 Batch 2149/3125   Loss: 0.722677 mae: 0.674046 (15.871945013940492 steps/sec)\n",
            "Step #27200\tEpoch   3 Batch 2199/3125   Loss: 0.663647 mae: 0.678759 (25.55599452407756 steps/sec)\n",
            "Step #27250\tEpoch   3 Batch 2249/3125   Loss: 0.711120 mae: 0.678144 (25.8407778828831 steps/sec)\n",
            "Step #27300\tEpoch   3 Batch 2299/3125   Loss: 0.798184 mae: 0.691974 (27.69579620963551 steps/sec)\n",
            "Step #27350\tEpoch   3 Batch 2349/3125   Loss: 0.740626 mae: 0.683638 (27.687346044033024 steps/sec)\n",
            "Step #27400\tEpoch   3 Batch 2399/3125   Loss: 0.687851 mae: 0.681955 (27.61404187470612 steps/sec)\n",
            "Step #27450\tEpoch   3 Batch 2449/3125   Loss: 0.714243 mae: 0.673479 (15.858703971217139 steps/sec)\n",
            "Step #27500\tEpoch   3 Batch 2499/3125   Loss: 0.886498 mae: 0.686634 (27.451059956911372 steps/sec)\n",
            "Step #27550\tEpoch   3 Batch 2549/3125   Loss: 0.572872 mae: 0.688923 (27.966892906032317 steps/sec)\n",
            "Step #27600\tEpoch   3 Batch 2599/3125   Loss: 0.891446 mae: 0.684306 (27.688237985931647 steps/sec)\n",
            "Step #27650\tEpoch   3 Batch 2649/3125   Loss: 0.843508 mae: 0.685331 (25.984096457076813 steps/sec)\n",
            "Step #27700\tEpoch   3 Batch 2699/3125   Loss: 0.742140 mae: 0.681020 (25.90816228329121 steps/sec)\n",
            "Step #27750\tEpoch   3 Batch 2749/3125   Loss: 0.827965 mae: 0.678227 (17.580264184471925 steps/sec)\n",
            "Step #27800\tEpoch   3 Batch 2799/3125   Loss: 0.765344 mae: 0.688752 (24.164757362860826 steps/sec)\n",
            "Step #27850\tEpoch   3 Batch 2849/3125   Loss: 0.758378 mae: 0.679484 (28.140471021508255 steps/sec)\n",
            "Step #27900\tEpoch   3 Batch 2899/3125   Loss: 0.814275 mae: 0.678298 (27.534406322712414 steps/sec)\n",
            "Step #27950\tEpoch   3 Batch 2949/3125   Loss: 0.810127 mae: 0.684706 (27.61491091841037 steps/sec)\n",
            "Step #28000\tEpoch   3 Batch 2999/3125   Loss: 0.695779 mae: 0.678633 (25.614311120849624 steps/sec)\n",
            "Step #28050\tEpoch   3 Batch 3049/3125   Loss: 0.722031 mae: 0.672529 (21.627071129241106 steps/sec)\n",
            "Step #28100\tEpoch   3 Batch 3099/3125   Loss: 0.803672 mae: 0.679027 (19.206308517412502 steps/sec)\n",
            "\n",
            "Train time for epoch #4 (28125 total steps): 129.68573212623596\n",
            "Model test set loss: 0.777633 mae: 0.695039\n",
            "best loss = 0.7776331901550293\n",
            "Step #28150\tEpoch   4 Batch   24/3125   Loss: 0.670586 mae: 0.694469 (49.21080691426254 steps/sec)\n",
            "Step #28200\tEpoch   4 Batch   74/3125   Loss: 0.800021 mae: 0.674700 (27.606484592038115 steps/sec)\n",
            "Step #28250\tEpoch   4 Batch  124/3125   Loss: 0.665138 mae: 0.682628 (27.559177631717276 steps/sec)\n",
            "Step #28300\tEpoch   4 Batch  174/3125   Loss: 0.762779 mae: 0.682624 (27.309155782428086 steps/sec)\n",
            "Step #28350\tEpoch   4 Batch  224/3125   Loss: 0.641930 mae: 0.683159 (18.058249434289053 steps/sec)\n",
            "Step #28400\tEpoch   4 Batch  274/3125   Loss: 0.734950 mae: 0.681748 (21.352504191283394 steps/sec)\n",
            "Step #28450\tEpoch   4 Batch  324/3125   Loss: 0.720459 mae: 0.683580 (27.92911499755355 steps/sec)\n",
            "Step #28500\tEpoch   4 Batch  374/3125   Loss: 0.727930 mae: 0.684798 (27.79396582000835 steps/sec)\n",
            "Step #28550\tEpoch   4 Batch  424/3125   Loss: 0.810797 mae: 0.684901 (28.045988878438344 steps/sec)\n",
            "Step #28600\tEpoch   4 Batch  474/3125   Loss: 0.765215 mae: 0.681597 (27.79837946001088 steps/sec)\n",
            "Step #28650\tEpoch   4 Batch  524/3125   Loss: 0.816882 mae: 0.674758 (24.959085894806446 steps/sec)\n",
            "Step #28700\tEpoch   4 Batch  574/3125   Loss: 0.801714 mae: 0.680576 (17.019426953523453 steps/sec)\n",
            "Step #28750\tEpoch   4 Batch  624/3125   Loss: 0.587950 mae: 0.680057 (26.051053382528202 steps/sec)\n",
            "Step #28800\tEpoch   4 Batch  674/3125   Loss: 0.758975 mae: 0.683209 (27.19605168405536 steps/sec)\n",
            "Step #28850\tEpoch   4 Batch  724/3125   Loss: 0.623774 mae: 0.681515 (26.40346198957636 steps/sec)\n",
            "Step #28900\tEpoch   4 Batch  774/3125   Loss: 0.697221 mae: 0.676852 (25.192364660016622 steps/sec)\n",
            "Step #28950\tEpoch   4 Batch  824/3125   Loss: 0.770835 mae: 0.681790 (27.69184655048906 steps/sec)\n",
            "Step #29000\tEpoch   4 Batch  874/3125   Loss: 0.683755 mae: 0.680417 (16.264241813211314 steps/sec)\n",
            "Step #29050\tEpoch   4 Batch  924/3125   Loss: 0.845786 mae: 0.686253 (28.306654524167502 steps/sec)\n",
            "Step #29100\tEpoch   4 Batch  974/3125   Loss: 0.707228 mae: 0.679507 (26.14842425704644 steps/sec)\n",
            "Step #29150\tEpoch   4 Batch 1024/3125   Loss: 0.727842 mae: 0.676917 (26.087039810763873 steps/sec)\n",
            "Step #29200\tEpoch   4 Batch 1074/3125   Loss: 0.766467 mae: 0.679400 (27.016569219111556 steps/sec)\n",
            "Step #29250\tEpoch   4 Batch 1124/3125   Loss: 0.743068 mae: 0.684241 (27.842585686416697 steps/sec)\n",
            "Step #29300\tEpoch   4 Batch 1174/3125   Loss: 0.665047 mae: 0.683974 (16.733335838763296 steps/sec)\n",
            "Step #29350\tEpoch   4 Batch 1224/3125   Loss: 0.759183 mae: 0.675673 (26.33231611154751 steps/sec)\n",
            "Step #29400\tEpoch   4 Batch 1274/3125   Loss: 0.833530 mae: 0.690211 (26.670868581921006 steps/sec)\n",
            "Step #29450\tEpoch   4 Batch 1324/3125   Loss: 0.663184 mae: 0.679944 (27.14459435234029 steps/sec)\n",
            "Step #29500\tEpoch   4 Batch 1374/3125   Loss: 0.704494 mae: 0.675227 (27.726942857418614 steps/sec)\n",
            "Step #29550\tEpoch   4 Batch 1424/3125   Loss: 0.743960 mae: 0.680712 (28.035221021710147 steps/sec)\n",
            "Step #29600\tEpoch   4 Batch 1474/3125   Loss: 0.667688 mae: 0.682303 (21.07224321534503 steps/sec)\n",
            "Step #29650\tEpoch   4 Batch 1524/3125   Loss: 0.670711 mae: 0.676130 (20.12117692965803 steps/sec)\n",
            "Step #29700\tEpoch   4 Batch 1574/3125   Loss: 0.707631 mae: 0.683001 (27.997415399731928 steps/sec)\n",
            "Step #29750\tEpoch   4 Batch 1624/3125   Loss: 0.779193 mae: 0.675650 (28.158229455079063 steps/sec)\n",
            "Step #29800\tEpoch   4 Batch 1674/3125   Loss: 0.661483 mae: 0.681414 (27.655267069592856 steps/sec)\n",
            "Step #29850\tEpoch   4 Batch 1724/3125   Loss: 0.852214 mae: 0.680115 (27.634433355308385 steps/sec)\n",
            "Step #29900\tEpoch   4 Batch 1774/3125   Loss: 0.710504 mae: 0.681140 (22.041574522501325 steps/sec)\n",
            "Step #29950\tEpoch   4 Batch 1824/3125   Loss: 0.668490 mae: 0.679611 (16.983391657377904 steps/sec)\n",
            "Step #30000\tEpoch   4 Batch 1874/3125   Loss: 0.767774 mae: 0.683368 (28.060492806624634 steps/sec)\n",
            "Step #30050\tEpoch   4 Batch 1924/3125   Loss: 0.911712 mae: 0.675560 (27.837692397343172 steps/sec)\n",
            "Step #30100\tEpoch   4 Batch 1974/3125   Loss: 0.753630 mae: 0.674865 (27.46590813692878 steps/sec)\n",
            "Step #30150\tEpoch   4 Batch 2024/3125   Loss: 0.863582 mae: 0.685863 (25.07989526285042 steps/sec)\n",
            "Step #30200\tEpoch   4 Batch 2074/3125   Loss: 0.780947 mae: 0.676545 (26.066787043322048 steps/sec)\n",
            "Step #30250\tEpoch   4 Batch 2124/3125   Loss: 0.622333 mae: 0.676464 (16.24352271608574 steps/sec)\n",
            "Step #30300\tEpoch   4 Batch 2174/3125   Loss: 0.702260 mae: 0.672034 (27.734093098070407 steps/sec)\n",
            "Step #30350\tEpoch   4 Batch 2224/3125   Loss: 0.679022 mae: 0.677169 (28.122814169545347 steps/sec)\n",
            "Step #30400\tEpoch   4 Batch 2274/3125   Loss: 0.752765 mae: 0.677107 (28.226452069655195 steps/sec)\n",
            "Step #30450\tEpoch   4 Batch 2324/3125   Loss: 0.595622 mae: 0.686780 (28.12393050982563 steps/sec)\n",
            "Step #30500\tEpoch   4 Batch 2374/3125   Loss: 0.690522 mae: 0.677319 (28.19022465590793 steps/sec)\n",
            "Step #30550\tEpoch   4 Batch 2424/3125   Loss: 0.687938 mae: 0.675883 (19.33567366846379 steps/sec)\n",
            "Step #30600\tEpoch   4 Batch 2474/3125   Loss: 0.791236 mae: 0.672764 (21.99997482302686 steps/sec)\n",
            "Step #30650\tEpoch   4 Batch 2524/3125   Loss: 0.714221 mae: 0.682852 (26.146963712215733 steps/sec)\n",
            "Step #30700\tEpoch   4 Batch 2574/3125   Loss: 0.807424 mae: 0.686575 (27.887266482679898 steps/sec)\n",
            "Step #30750\tEpoch   4 Batch 2624/3125   Loss: 0.925932 mae: 0.682734 (27.907833375296292 steps/sec)\n",
            "Step #30800\tEpoch   4 Batch 2674/3125   Loss: 0.749643 mae: 0.680403 (25.762670887982395 steps/sec)\n",
            "Step #30850\tEpoch   4 Batch 2724/3125   Loss: 0.687636 mae: 0.670744 (19.092062956817557 steps/sec)\n",
            "Step #30900\tEpoch   4 Batch 2774/3125   Loss: 0.679932 mae: 0.678199 (19.65117522283539 steps/sec)\n",
            "Step #30950\tEpoch   4 Batch 2824/3125   Loss: 0.766492 mae: 0.687161 (27.919845364290296 steps/sec)\n",
            "Step #31000\tEpoch   4 Batch 2874/3125   Loss: 0.799685 mae: 0.671363 (27.97672004003169 steps/sec)\n",
            "Step #31050\tEpoch   4 Batch 2924/3125   Loss: 0.782352 mae: 0.678738 (27.59695210663837 steps/sec)\n",
            "Step #31100\tEpoch   4 Batch 2974/3125   Loss: 0.661961 mae: 0.679703 (26.184569229505286 steps/sec)\n",
            "Step #31150\tEpoch   4 Batch 3024/3125   Loss: 0.682881 mae: 0.670870 (23.88683948763083 steps/sec)\n",
            "Step #31200\tEpoch   4 Batch 3074/3125   Loss: 0.738591 mae: 0.672104 (17.22652794881669 steps/sec)\n",
            "Step #31250\tEpoch   4 Batch 3124/3125   Loss: 0.797609 mae: 0.672865 (28.210451665425964 steps/sec)\n",
            "\n",
            "Train time for epoch #5 (31250 total steps): 127.8868715763092\n",
            "Model test set loss: 0.773191 mae: 0.693552\n",
            "best loss = 0.7731913924217224\n"
          ]
        },
        {
          "output_type": "stream",
          "name": "stderr",
          "text": [
            "WARNING:absl:Found untraced functions such as _jit_compiled_convolution_op, _jit_compiled_convolution_op, _jit_compiled_convolution_op, _jit_compiled_convolution_op while saving (showing 4 of 4). These functions will not be directly callable after loading.\n"
          ]
        }
      ],
      "source": [
        "mv_net=mv_network()\n",
        "mv_net.training(features, targets_values, epochs=5)"
      ]
    },
    {
      "cell_type": "markdown",
      "metadata": {
        "id": "f7tiZelTcin-"
      },
      "source": [
        "## 显示训练Loss"
      ]
    },
    {
      "cell_type": "code",
      "execution_count": null,
      "metadata": {
        "id": "ulT8iHVZcin_",
        "outputId": "083c2c1c-9105-45b9-bb6e-b5c9cdbcbda3",
        "colab": {
          "base_uri": "https://localhost:8080/",
          "height": 430
        }
      },
      "outputs": [
        {
          "output_type": "display_data",
          "data": {
            "text/plain": [
              "<Figure size 640x480 with 1 Axes>"
            ],
            "image/png": "[encoded data removed]"
          },
          "metadata": {
            "image/png": {
              "width": 558,
              "height": 413
            }
          }
        }
      ],
      "source": [
        "%matplotlib inline\n",
        "%config InlineBackend.figure_format = 'retina'\n",
        "import matplotlib.pyplot as plt\n",
        "\n",
        "plt.plot(mv_net.losses['train'], label='Training loss')\n",
        "plt.legend()\n",
        "_ = plt.ylim()"
      ]
    },
    {
      "cell_type": "markdown",
      "metadata": {
        "id": "o4ZN-IGfcin_"
      },
      "source": [
        "## 显示测试Loss\n",
        "迭代次数再增加一些，下降的趋势会明显一些"
      ]
    },
    {
      "cell_type": "code",
      "execution_count": null,
      "metadata": {
        "id": "yj70ME9acin_",
        "outputId": "e79db357-0dc9-4b2c-f3e6-a421483793db",
        "colab": {
          "base_uri": "https://localhost:8080/",
          "height": 430
        }
      },
      "outputs": [
        {
          "output_type": "display_data",
          "data": {
            "text/plain": [
              "<Figure size 640x480 with 1 Axes>"
            ],
            "image/png": "[encoded data removed]"
          },
          "metadata": {
            "image/png": {
              "width": 554,
              "height": 413
            }
          }
        }
      ],
      "source": [
        "plt.plot(mv_net.losses['test'], label='Test loss')\n",
        "plt.legend()\n",
        "_ = plt.ylim()"
      ]
    },
    {
      "cell_type": "markdown",
      "metadata": {
        "id": "Ul7MJXkQcin_"
      },
      "source": [
        "## 指定用户和电影进行评分\n",
        "这部分就是对网络做正向传播，计算得到预测的评分"
      ]
    },
    {
      "cell_type": "code",
      "execution_count": null,
      "metadata": {
        "id": "-oqPxhAxcin_"
      },
      "outputs": [],
      "source": [
        "def rating_movie(mv_net, user_id_val, movie_id_val):\n",
        "    categories = np.zeros([1, 18])\n",
        "    categories[0] = movies.values[movieid2idx[movie_id_val]][2]\n",
        "    \n",
        "    titles = np.zeros([1, sentences_size])\n",
        "    titles[0] = movies.values[movieid2idx[movie_id_val]][1]\n",
        "    \n",
        "    inference_val = mv_net.model([np.reshape(users.values[user_id_val-1][0], [1, 1]),\n",
        "              np.reshape(users.values[user_id_val-1][1], [1, 1]),\n",
        "              np.reshape(users.values[user_id_val-1][2], [1, 1]),\n",
        "              np.reshape(users.values[user_id_val-1][3], [1, 1]),\n",
        "              np.reshape(movies.values[movieid2idx[movie_id_val]][0], [1, 1]),\n",
        "              categories,  \n",
        "              titles])\n",
        "\n",
        "    return (inference_val.numpy())"
      ]
    },
    {
      "cell_type": "code",
      "execution_count": null,
      "metadata": {
        "id": "xQiR5hFHcin_",
        "outputId": "ac3f550a-4356-43a0-c502-4bef643d8a62",
        "colab": {
          "base_uri": "https://localhost:8080/"
        }
      },
      "outputs": [
        {
          "output_type": "execute_result",
          "data": {
            "text/plain": [
              "array([[4.007099]], dtype=float32)"
            ]
          },
          "metadata": {},
          "execution_count": 51
        }
      ],
      "source": [
        "rating_movie(mv_net, 234, 1401)"
      ]
    },
    {
      "cell_type": "markdown",
      "metadata": {
        "id": "UHT_d9YacioA"
      },
      "source": [
        "## 生成Movie特征矩阵\n",
        "将训练好的电影特征组合成电影特征矩阵并保存到本地"
      ]
    },
    {
      "cell_type": "code",
      "execution_count": null,
      "metadata": {
        "id": "o_Be3z0wcioA"
      },
      "outputs": [],
      "source": [
        "movie_layer_model = keras.models.Model(inputs=[mv_net.model.input[4], mv_net.model.input[5], mv_net.model.input[6]], \n",
        "                                 outputs=mv_net.model.get_layer(\"movie_combine_layer_flat\").output)\n",
        "movie_matrics = []\n",
        "\n",
        "for item in movies.values:\n",
        "    categories = np.zeros([1, 18])\n",
        "    categories[0] = item.take(2)\n",
        "\n",
        "    titles = np.zeros([1, sentences_size])\n",
        "    titles[0] = item.take(1)\n",
        "\n",
        "    movie_combine_layer_flat_val = movie_layer_model([np.reshape(item.take(0), [1, 1]), categories, titles])  \n",
        "    movie_matrics.append(movie_combine_layer_flat_val)\n",
        "\n",
        "pickle.dump((np.array(movie_matrics).reshape(-1, 200)), open('movie_matrics.p', 'wb'))\n",
        "movie_matrics = pickle.load(open('movie_matrics.p', mode='rb'))"
      ]
    },
    {
      "cell_type": "code",
      "execution_count": null,
      "metadata": {
        "id": "MGxoJwIKcioA"
      },
      "outputs": [],
      "source": [
        "movie_matrics = pickle.load(open('movie_matrics.p', mode='rb'))"
      ]
    },
    {
      "cell_type": "markdown",
      "metadata": {
        "id": "C3gD2A7ycioA"
      },
      "source": [
        "## 生成User特征矩阵\n",
        "将训练好的用户特征组合成用户特征矩阵并保存到本地"
      ]
    },
    {
      "cell_type": "code",
      "execution_count": null,
      "metadata": {
        "id": "IOzlkemicioA"
      },
      "outputs": [],
      "source": [
        "user_layer_model = keras.models.Model(inputs=[mv_net.model.input[0], mv_net.model.input[1], mv_net.model.input[2], mv_net.model.input[3]], \n",
        "                                 outputs=mv_net.model.get_layer(\"user_combine_layer_flat\").output)\n",
        "users_matrics = []\n",
        "\n",
        "for item in users.values:\n",
        "\n",
        "    user_combine_layer_flat_val = user_layer_model([np.reshape(item.take(0), [1, 1]), \n",
        "                                                    np.reshape(item.take(1), [1, 1]), \n",
        "                                                    np.reshape(item.take(2), [1, 1]), \n",
        "                                                    np.reshape(item.take(3), [1, 1])])  \n",
        "    users_matrics.append(user_combine_layer_flat_val)\n",
        "\n",
        "pickle.dump((np.array(users_matrics).reshape(-1, 200)), open('users_matrics.p', 'wb'))\n",
        "users_matrics = pickle.load(open('users_matrics.p', mode='rb'))"
      ]
    },
    {
      "cell_type": "code",
      "execution_count": null,
      "metadata": {
        "id": "RRn-axedcioA"
      },
      "outputs": [],
      "source": [
        "users_matrics = pickle.load(open('users_matrics.p', mode='rb'))"
      ]
    },
    {
      "cell_type": "markdown",
      "metadata": {
        "id": "GVXR1FrVcioA"
      },
      "source": [
        "## 开始推荐电影\n",
        "使用生产的用户特征矩阵和电影特征矩阵做电影推荐"
      ]
    },
    {
      "cell_type": "markdown",
      "metadata": {
        "id": "ZnzYRS8BcioA"
      },
      "source": [
        "### 推荐同类型的电影\n",
        "思路是计算当前看的电影特征向量与整个电影特征矩阵的余弦相似度，取相似度最大的top_k个，这里加了些随机选择在里面，保证每次的推荐稍稍有些不同。"
      ]
    },
    {
      "cell_type": "code",
      "execution_count": null,
      "metadata": {
        "id": "UuIzCM27cioB"
      },
      "outputs": [],
      "source": [
        "def recommend_same_type_movie(movie_id_val, top_k = 20):\n",
        "   \n",
        "    norm_movie_matrics = tf.sqrt(tf.reduce_sum(tf.square(movie_matrics), 1, keepdims=True))\n",
        "    normalized_movie_matrics = movie_matrics / norm_movie_matrics\n",
        "\n",
        "    #推荐同类型的电影\n",
        "    probs_embeddings = (movie_matrics[movieid2idx[movie_id_val]]).reshape([1, 200])\n",
        "    probs_similarity = tf.matmul(probs_embeddings, tf.transpose(normalized_movie_matrics))\n",
        "    sim = (probs_similarity.numpy())\n",
        "    #     results = (-sim[0]).argsort()[0:top_k]\n",
        "    #     print(results)\n",
        "        \n",
        "    print(\"您看的电影是：{}\".format(movies_orig[movieid2idx[movie_id_val]]))\n",
        "    print(\"以下是给您的推荐：\")\n",
        "    p = np.squeeze(sim)\n",
        "    p[np.argsort(p)[:-top_k]] = 0\n",
        "    p = p / np.sum(p)\n",
        "    results = set()\n",
        "    while len(results) != 5:\n",
        "        c = np.random.choice(3883, 1, p=p)[0]\n",
        "        results.add(c)\n",
        "    for val in (results):\n",
        "        print(val)\n",
        "        print(movies_orig[val])\n",
        "        \n",
        "    return results"
      ]
    },
    {
      "cell_type": "code",
      "execution_count": null,
      "metadata": {
        "id": "iRRTeXUjcioB",
        "outputId": "78f9df11-475a-437d-d5b0-a1421b6491f4",
        "colab": {
          "base_uri": "https://localhost:8080/"
        }
      },
      "outputs": [
        {
          "output_type": "stream",
          "name": "stdout",
          "text": [
            "您看的电影是：[1401 'Ghosts of Mississippi (1996)' 'Drama']\n",
            "以下是给您的推荐：\n",
            "3040\n",
            "[3109 'River, The (1984)' 'Drama']\n",
            "294\n",
            "[297 'Panther (1995)' 'Drama']\n",
            "487\n",
            "[491 'Man Without a Face, The (1993)' 'Drama']\n",
            "3830\n",
            "[3900 'Crime and Punishment in Suburbia (2000)' 'Comedy|Drama']\n",
            "382\n",
            "[386 'S.F.W. (1994)' 'Drama']\n"
          ]
        },
        {
          "output_type": "execute_result",
          "data": {
            "text/plain": [
              "{294, 382, 487, 3040, 3830}"
            ]
          },
          "metadata": {},
          "execution_count": 57
        }
      ],
      "source": [
        "recommend_same_type_movie(1401, 20)"
      ]
    },
    {
      "cell_type": "markdown",
      "metadata": {
        "id": "9JDi9Zh4cioB"
      },
      "source": [
        "### 推荐您喜欢的电影\n",
        "思路是使用用户特征向量与电影特征矩阵计算所有电影的评分，取评分最高的top_k个，同样加了些随机选择部分。"
      ]
    },
    {
      "cell_type": "code",
      "execution_count": null,
      "metadata": {
        "id": "6yRCrjQAcioB"
      },
      "outputs": [],
      "source": [
        "def recommend_your_favorite_movie(user_id_val, top_k = 10):\n",
        "\n",
        "    #推荐您喜欢的电影\n",
        "    probs_embeddings = (users_matrics[user_id_val-1]).reshape([1, 200])\n",
        "\n",
        "    probs_similarity = tf.matmul(probs_embeddings, tf.transpose(movie_matrics))\n",
        "    sim = (probs_similarity.numpy())\n",
        "    #     print(sim.shape)\n",
        "    #     results = (-sim[0]).argsort()[0:top_k]\n",
        "    #     print(results)\n",
        "        \n",
        "    #     sim_norm = probs_norm_similarity.eval()\n",
        "    #     print((-sim_norm[0]).argsort()[0:top_k])\n",
        "    \n",
        "    print(\"以下是给您的推荐：\")\n",
        "    p = np.squeeze(sim)\n",
        "    p[np.argsort(p)[:-top_k]] = 0\n",
        "    p = p / np.sum(p)\n",
        "    results = set()\n",
        "    while len(results) != 5:\n",
        "        c = np.random.choice(3883, 1, p=p)[0]\n",
        "        results.add(c)\n",
        "    for val in (results):\n",
        "        print(val)\n",
        "        print(movies_orig[val])\n",
        "\n",
        "    return results"
      ]
    },
    {
      "cell_type": "code",
      "execution_count": null,
      "metadata": {
        "id": "461JYrelcioB",
        "outputId": "e09eda92-c125-44ab-996c-651df6b1b209",
        "colab": {
          "base_uri": "https://localhost:8080/"
        }
      },
      "outputs": [
        {
          "output_type": "stream",
          "name": "stdout",
          "text": [
            "以下是给您的推荐：\n",
            "2693\n",
            "[2762 'Sixth Sense, The (1999)' 'Thriller']\n",
            "2128\n",
            "[2197 'Firelight (1997)' 'Drama']\n",
            "49\n",
            "[50 'Usual Suspects, The (1995)' 'Crime|Thriller']\n",
            "2836\n",
            "[2905 'Sanjuro (1962)' 'Action|Adventure']\n",
            "1180\n",
            "[1198 'Raiders of the Lost Ark (1981)' 'Action|Adventure']\n"
          ]
        },
        {
          "output_type": "execute_result",
          "data": {
            "text/plain": [
              "{49, 1180, 2128, 2693, 2836}"
            ]
          },
          "metadata": {},
          "execution_count": 59
        }
      ],
      "source": [
        "recommend_your_favorite_movie(234, 10)"
      ]
    },
    {
      "cell_type": "markdown",
      "metadata": {
        "id": "ypk4kKsRcioB"
      },
      "source": [
        "### 看过这个电影的人还看了（喜欢）哪些电影\n",
        "- 首先选出喜欢某个电影的top_k个人，得到这几个人的用户特征向量。\n",
        "- 然后计算这几个人对所有电影的评分\n",
        "- 选择每个人评分最高的电影作为推荐\n",
        "- 同样加入了随机选择"
      ]
    },
    {
      "cell_type": "code",
      "execution_count": null,
      "metadata": {
        "id": "ysFr3qR-cioB"
      },
      "outputs": [],
      "source": [
        "import random\n",
        "\n",
        "def recommend_other_favorite_movie(movie_id_val, top_k = 20):\n",
        "\n",
        "    probs_movie_embeddings = (movie_matrics[movieid2idx[movie_id_val]]).reshape([1, 200])\n",
        "    probs_user_favorite_similarity = tf.matmul(probs_movie_embeddings, tf.transpose(users_matrics))\n",
        "    favorite_user_id = np.argsort(probs_user_favorite_similarity.numpy())[0][-top_k:]\n",
        "    #     print(normalized_users_matrics.numpy().shape)\n",
        "    #     print(probs_user_favorite_similarity.numpy()[0][favorite_user_id])\n",
        "    #     print(favorite_user_id.shape)\n",
        "    \n",
        "    print(\"您看的电影是：{}\".format(movies_orig[movieid2idx[movie_id_val]]))\n",
        "        \n",
        "    print(\"喜欢看这个电影的人是：{}\".format(users_orig[favorite_user_id-1]))\n",
        "    probs_users_embeddings = (users_matrics[favorite_user_id-1]).reshape([-1, 200])\n",
        "    probs_similarity = tf.matmul(probs_users_embeddings, tf.transpose(movie_matrics))\n",
        "    sim = (probs_similarity.numpy())\n",
        "    #     results = (-sim[0]).argsort()[0:top_k]\n",
        "    #     print(results)\n",
        "    \n",
        "    #     print(sim.shape)\n",
        "    #     print(np.argmax(sim, 1))\n",
        "    p = np.argmax(sim, 1)\n",
        "    print(\"喜欢看这个电影的人还喜欢看：\")\n",
        "\n",
        "    if len(set(p)) < 5:\n",
        "        results = set(p)\n",
        "    else:\n",
        "        results = set()\n",
        "        while len(results) != 5:\n",
        "            c = p[random.randrange(top_k)]\n",
        "            results.add(c)\n",
        "    for val in (results):\n",
        "        print(val)\n",
        "        print(movies_orig[val])\n",
        "        \n",
        "    return results"
      ]
    },
    {
      "cell_type": "code",
      "execution_count": null,
      "metadata": {
        "id": "C6kNyinLcioC",
        "outputId": "10b56667-b3a1-4e3a-a54d-c5d059e50882",
        "colab": {
          "base_uri": "https://localhost:8080/"
        }
      },
      "outputs": [
        {
          "output_type": "stream",
          "name": "stdout",
          "text": [
            "您看的电影是：[1401 'Ghosts of Mississippi (1996)' 'Drama']\n",
            "喜欢看这个电影的人是：[[5068 'M' 35 7]\n",
            " [1110 'F' 56 6]\n",
            " [4144 'M' 18 4]\n",
            " [4754 'F' 18 0]\n",
            " [567 'M' 35 20]\n",
            " [2140 'M' 45 14]\n",
            " [214 'M' 18 20]\n",
            " [277 'F' 35 1]\n",
            " [2696 'M' 25 7]\n",
            " [2363 'M' 50 14]\n",
            " [2559 'M' 18 10]\n",
            " [2496 'M' 50 1]\n",
            " [5861 'F' 50 1]\n",
            " [2338 'M' 45 17]\n",
            " [355 'M' 18 3]\n",
            " [451 'M' 56 13]\n",
            " [4800 'M' 18 4]\n",
            " [3978 'M' 35 13]\n",
            " [3901 'M' 18 14]\n",
            " [2154 'M' 25 12]]\n",
            "喜欢看这个电影的人还喜欢看：\n",
            "2434\n",
            "[2503 'Apple, The (Sib) (1998)' 'Drama']\n",
            "847\n",
            "[858 'Godfather, The (1972)' 'Action|Crime|Drama']\n",
            "2128\n",
            "[2197 'Firelight (1997)' 'Drama']\n",
            "2836\n",
            "[2905 'Sanjuro (1962)' 'Action|Adventure']\n",
            "315\n",
            "[318 'Shawshank Redemption, The (1994)' 'Drama']\n"
          ]
        },
        {
          "output_type": "execute_result",
          "data": {
            "text/plain": [
              "{315, 847, 2128, 2434, 2836}"
            ]
          },
          "metadata": {},
          "execution_count": 61
        }
      ],
      "source": [
        "recommend_other_favorite_movie(1401, 20)"
      ]
    },
    {
      "cell_type": "markdown",
      "metadata": {
        "id": "LdzYelPEcioC"
      },
      "source": [
        "这个结果里面20个人最喜欢这两个电影，所以只输出了两个结果"
      ]
    }
  ],
  "metadata": {
    "kernelspec": {
      "display_name": "Python 3",
      "language": "python",
      "name": "python3"
    },
    "language_info": {
      "codemirror_mode": {
        "name": "ipython",
        "version": 3
      },
      "file_extension": ".py",
      "mimetype": "text/x-python",
      "name": "python",
      "nbconvert_exporter": "python",
      "pygments_lexer": "ipython3",
      "version": "3.6.8"
    },
    "colab": {
      "provenance": []
    }
  },
  "nbformat": 4,
  "nbformat_minor": 0
}